{
 "cells": [
  {
   "cell_type": "markdown",
   "id": "ab00a2f7",
   "metadata": {},
   "source": [
    "# Instruction on how to read from the result folder\n",
    "Author: Yicheng Zhu 2023-11-07\n",
    "yzhu19@smith.edu"
   ]
  },
  {
   "cell_type": "markdown",
   "id": "d8869307",
   "metadata": {},
   "source": [
    "-------------"
   ]
  },
  {
   "cell_type": "markdown",
   "id": "60dc1e48",
   "metadata": {},
   "source": [
    "## Convention\n",
    "\n",
    "#### <span style=\"color:red\">IMPORTANT</span>\n",
    "\n",
    "Throughout this experiment, _polar-dominant_ is ```True``` and _cartesian-dominant_ is ```False```\n",
    "\n",
    "Throughout this experiment, if there is a matrix and contains 10 columns, ```index 0 - 4``` represent the five polar-dominant portions, and ```index 5 - 9``` represent the five cartesian-dominant portions"
   ]
  },
  {
   "cell_type": "markdown",
   "id": "425c6649",
   "metadata": {},
   "source": [
    "_________________\n"
   ]
  },
  {
   "cell_type": "markdown",
   "id": "fb408fe5",
   "metadata": {},
   "source": [
    "## Overview\n",
    "All the usable data are recorded in the form of numpy arrays.\n",
    "\n",
    "Because of the lack of labeling of those data, this jupyter notebook will help people easily figure out how to extract the usable data."
   ]
  },
  {
   "cell_type": "markdown",
   "id": "35853c9f",
   "metadata": {},
   "source": [
    "#### Import the packages for use"
   ]
  },
  {
   "cell_type": "code",
   "execution_count": 113,
   "id": "0b600bd0",
   "metadata": {},
   "outputs": [],
   "source": [
    "import numpy as np\n",
    "import matplotlib.pyplot as plt\n",
    "import os\n",
    "import cv2\n",
    "from p2ctransformer.p2c import *"
   ]
  },
  {
   "cell_type": "markdown",
   "id": "26f36d3b",
   "metadata": {},
   "source": [
    "#### Set the directory of the interested result folder\n",
    "Note that depending on the migration framework used, it's possible that some data is not available -- for example, there is no 'probability-history' if Cuiling's method or Chris' method is used."
   ]
  },
  {
   "cell_type": "markdown",
   "id": "aec9420e",
   "metadata": {},
   "source": [
    "Here set the ```resultdir``` to the address of 'results' folder"
   ]
  },
  {
   "cell_type": "code",
   "execution_count": 47,
   "id": "ab428dbd",
   "metadata": {},
   "outputs": [],
   "source": [
    "resultsdir = '/home/scram-2004/Project/Our-UNet-Code/results20231113'"
   ]
  },
  {
   "cell_type": "markdown",
   "id": "ed772607",
   "metadata": {},
   "source": [
    "----------------------"
   ]
  },
  {
   "cell_type": "markdown",
   "id": "2394a12a",
   "metadata": {},
   "source": [
    "## Type of Data stored"
   ]
  },
  {
   "cell_type": "markdown",
   "id": "91ee7e5e",
   "metadata": {},
   "source": [
    "### 0. FileMatrix\n",
    "Filematrix is stored as ```.png``` file and therefore is a little different to load. The purpose of it is to enable a visual sanity check of if only once one image is appeared in. \n",
    "\n",
    "This png contains of a 7407 * 10 matrix. Each row represents one image, e.g. first row represents image ```0.tif```. The black dot's location represents the file location."
   ]
  },
  {
   "cell_type": "markdown",
   "id": "1c50489e",
   "metadata": {},
   "source": [
    "#### Instruction on how to read filematrix\n",
    "Well, basically click open and scan through. The location information contained can be found in score-matrix, so there's no need to bother reading this file."
   ]
  },
  {
   "cell_type": "markdown",
   "id": "3e0acd11",
   "metadata": {},
   "source": [
    "### 1. History\n",
    "History is a location log that records the coarse location of if the image is considered as polar or cartesian dominant per that round. \n",
    "\n",
    "History contains of 7404*(R+1) data, where R is the number of rounds we iterate through\n",
    "\n",
    "A newer history will contain the older one, so it's always just enough to read the history file names: ```history_round_MAXNUM.npy```\n"
   ]
  },
  {
   "cell_type": "markdown",
   "id": "2cbe6faa",
   "metadata": {},
   "source": [
    "#### Example of reading history location"
   ]
  },
  {
   "cell_type": "code",
   "execution_count": 51,
   "id": "b9aa636f",
   "metadata": {},
   "outputs": [],
   "source": [
    "history_file = os.path.join(resultsdir,'history/history_round_9.npy')"
   ]
  },
  {
   "cell_type": "code",
   "execution_count": 52,
   "id": "06dd1cb2",
   "metadata": {},
   "outputs": [],
   "source": [
    "history = np.load(history_file)"
   ]
  },
  {
   "cell_type": "code",
   "execution_count": 5,
   "id": "6e12c676",
   "metadata": {},
   "outputs": [
    {
     "data": {
      "text/plain": [
       "(7404, 11)"
      ]
     },
     "execution_count": 5,
     "metadata": {},
     "output_type": "execute_result"
    }
   ],
   "source": [
    "history.shape"
   ]
  },
  {
   "cell_type": "code",
   "execution_count": 6,
   "id": "ea4136c5",
   "metadata": {},
   "outputs": [],
   "source": [
    "history_slice = history[:,-1]"
   ]
  },
  {
   "cell_type": "code",
   "execution_count": 7,
   "id": "68aaddc0",
   "metadata": {},
   "outputs": [
    {
     "data": {
      "text/plain": [
       "(7404,)"
      ]
     },
     "execution_count": 7,
     "metadata": {},
     "output_type": "execute_result"
    }
   ],
   "source": [
    "history_slice.shape"
   ]
  },
  {
   "cell_type": "code",
   "execution_count": 8,
   "id": "0c8621f0",
   "metadata": {},
   "outputs": [
    {
     "name": "stdout",
     "output_type": "stream",
     "text": [
      "3702\n",
      "3702\n",
      "3702\n",
      "3702\n",
      "3702\n",
      "3702\n",
      "3702\n",
      "3702\n",
      "3702\n",
      "3702\n",
      "3702\n"
     ]
    }
   ],
   "source": [
    "for i in range(history.shape[1]):\n",
    "    slice = history[:,i]\n",
    "    print(np.sum(slice))"
   ]
  },
  {
   "cell_type": "markdown",
   "id": "50ab4a81",
   "metadata": {},
   "source": [
    "### 2. Models History\n",
    "Model History is the log of loss history when the model was trained. For each iteration, the five polar model histories and the five cartesian model histories are bundled into two seperate files and can be found separately. \n",
    "\n",
    "Basically, the most relevant data we can extract from a model history is the loss that it is converged to. Given that we are using the checkpoint to store the model with minimum loss, the last digit of the curve does not necessarily mean the final loss of the one that we finally decided to keep.\n",
    "\n",
    "In order to extract that, the minimum of each curve should be taken."
   ]
  },
  {
   "cell_type": "markdown",
   "id": "88be2d7b",
   "metadata": {},
   "source": [
    "#### Example of reading model history"
   ]
  },
  {
   "cell_type": "code",
   "execution_count": 53,
   "id": "adc135f6",
   "metadata": {},
   "outputs": [],
   "source": [
    "model_history_file = os.path.join(resultsdir,'models_history/round_9/carte_history.npy')\n",
    "model_history = np.load(model_history_file)"
   ]
  },
  {
   "cell_type": "code",
   "execution_count": 23,
   "id": "8790c076",
   "metadata": {},
   "outputs": [
    {
     "data": {
      "text/plain": [
       "(5, 100)"
      ]
     },
     "execution_count": 23,
     "metadata": {},
     "output_type": "execute_result"
    }
   ],
   "source": [
    "model_history.shape"
   ]
  },
  {
   "cell_type": "code",
   "execution_count": 54,
   "id": "a7cb2c26",
   "metadata": {},
   "outputs": [
    {
     "data": {
      "image/png": "[encoded data removed]",
      "text/plain": [
       "<Figure size 432x288 with 1 Axes>"
      ]
     },
     "metadata": {
      "needs_background": "light"
     },
     "output_type": "display_data"
    }
   ],
   "source": [
    "for i in range(5):\n",
    "    plt.plot(model_history[i][:])"
   ]
  },
  {
   "cell_type": "code",
   "execution_count": 55,
   "id": "b95732c1",
   "metadata": {},
   "outputs": [
    {
     "name": "stdout",
     "output_type": "stream",
     "text": [
      "0.4295428693294525\n",
      "0.48620519042015076\n",
      "0.14749951660633087\n",
      "0.4034970700740814\n",
      "0.14665646851062775\n"
     ]
    }
   ],
   "source": [
    "#Getting the min of model loss\n",
    "for i in range(5):\n",
    "    current_model = model_history[i][:]\n",
    "    print(np.min(current_model))"
   ]
  },
  {
   "cell_type": "markdown",
   "id": "5d0ebc7a",
   "metadata": {},
   "source": [
    "### 3. prob_history"
   ]
  },
  {
   "cell_type": "markdown",
   "id": "5a267ad0",
   "metadata": {},
   "source": [
    "This is only going to appear in Yicheng's random migration framework result so that I will skip this part for now."
   ]
  },
  {
   "cell_type": "markdown",
   "id": "92098f7c",
   "metadata": {},
   "source": [
    "### 4. Score Matrix\n",
    "\n",
    "#### <span style=\"color:red\">IMPORTANT</span>\n",
    "\n",
    "Score matrix is the main character here and I believe lots of analysis can be done on it. \n",
    "\n",
    "The shape of it is always 7404*10. Each row, there are 6 scores and 4 blanks (in the form of 0s). The location tells us which model is this score generated from. \n",
    "\n",
    "For example, the score in the second coloumn is always the generated by the polar model which used the portion index 0, 2, 3, 4 as the training set.\n",
    "\n",
    "#### In-group score vs. out-of-group scores\n",
    "\n",
    "Given that there are 6 scores, 1 in-group and 5 out-of-group, stored in the matrix, I need to clarify that the one in-group score is what we considered MOST IMPORTANT because ultimately we would like to have a better and better in-group score."
   ]
  },
  {
   "cell_type": "markdown",
   "id": "a8ddaf1c",
   "metadata": {},
   "source": [
    "#### Example of reading score matrix:"
   ]
  },
  {
   "cell_type": "markdown",
   "id": "b12b662e",
   "metadata": {},
   "source": [
    "1. Example for plotting out the in-group score (weighted)"
   ]
  },
  {
   "cell_type": "code",
   "execution_count": 70,
   "id": "40ac6320",
   "metadata": {},
   "outputs": [
    {
     "data": {
      "image/png": "[encoded data removed]",
      "text/plain": [
       "<Figure size 432x288 with 1 Axes>"
      ]
     },
     "metadata": {
      "needs_background": "light"
     },
     "output_type": "display_data"
    }
   ],
   "source": [
    "for i in range(10):\n",
    "    x_range = 7404\n",
    "    scoreMatrix_file = 'scorematrix/scorematrix_round_' + str(i) + '.npy'\n",
    "    scoreMatrix = np.load(os.path.join(resultsdir, scoreMatrix_file))\n",
    "    model_history_file_polar = os.path.join(resultsdir,'models_history/round_'+ str(i) +'/polar_history.npy')\n",
    "    model_history_file_carte = os.path.join(resultsdir,'models_history/round_'+ str(i) +'/carte_history.npy')\n",
    "    model_history_polar = np.load(model_history_file_polar)\n",
    "    model_history_carte = np.load(model_history_file_carte)\n",
    "    model_loss_num = []\n",
    "    for i in range(5):\n",
    "        current_model = model_history_polar[i][:]\n",
    "        model_loss_num.append(np.min(current_model))\n",
    "    for i in range(5):\n",
    "        current_model = model_history_carte[i][:]\n",
    "        model_loss_num.append(np.min(current_model))\n",
    "    #print(model_loss_num)\n",
    "    picked_score = np.zeros(scoreMatrix[:,0].shape)\n",
    "    weighted_score = np.zeros(scoreMatrix[:,0].shape)\n",
    "    i = 0\n",
    "    for each_row in scoreMatrix:\n",
    "        first_zero = np.where(each_row == 0)[0][0]\n",
    "        if first_zero >= 5:\n",
    "            chosen = max(each_row[5:])\n",
    "        else:\n",
    "            chosen = max(each_row[:5])\n",
    "        picked_score[i] = chosen\n",
    "        #print(each_row)\n",
    "        #print(chosen)\n",
    "        picked_index = np.where(each_row == chosen)[0][0]\n",
    "        #print(picked_index)\n",
    "        picked_loss = model_loss_num[picked_index]\n",
    "        weighted_score[i] = chosen * (1 - picked_loss)\n",
    "        i += 1\n",
    "    #print(picked_score)\n",
    "    plt.plot(np.sort(weighted_score))\n",
    "    plt.legend([1,2,3,4,5,6,7,8,9,10])\n"
   ]
  },
  {
   "cell_type": "markdown",
   "id": "979a8e52",
   "metadata": {},
   "source": [
    "2. Example for plotting the difference of difference of, for each image, the maximum score it got and the average\n",
    "\n",
    "PS> I know you can do better than my hard-coded method"
   ]
  },
  {
   "cell_type": "code",
   "execution_count": 71,
   "id": "6b1e4fc8",
   "metadata": {},
   "outputs": [
    {
     "data": {
      "text/plain": [
       "[<matplotlib.lines.Line2D at 0x7fd6cc041810>]"
      ]
     },
     "execution_count": 71,
     "metadata": {},
     "output_type": "execute_result"
    },
    {
     "data": {
      "image/png": "[encoded data removed]",
      "text/plain": [
       "<Figure size 432x288 with 1 Axes>"
      ]
     },
     "metadata": {
      "needs_background": "light"
     },
     "output_type": "display_data"
    }
   ],
   "source": [
    "scoreMatrix_0 = np.load(os.path.join(resultsdir, ('scorematrix/scorematrix_round_0.npy')))\n",
    "scoreMatrix_1 = np.load(os.path.join(resultsdir, ('scorematrix/scorematrix_round_1.npy')))\n",
    "scoreMatrix_2 = np.load(os.path.join(resultsdir, ('scorematrix/scorematrix_round_2.npy')))\n",
    "scoreMatrix_3 = np.load(os.path.join(resultsdir, ('scorematrix/scorematrix_round_3.npy')))\n",
    "\n",
    "dif = []\n",
    "for i in range(scoreMatrix.shape[0]):\n",
    "    fst = np.max(scoreMatrix_0[i]).item(0)\n",
    "    snd = np.max(scoreMatrix_1[i]).item(0)\n",
    "    trd = np.max(scoreMatrix_2[i]).item(0)\n",
    "    fth = np.max(scoreMatrix_3[i]).item(0)\n",
    "    #print(fst,snd,trd,fth)\n",
    "    max_f = max(fst,snd,trd,fth)\n",
    "    avg = (fst+snd+trd+fth)/4\n",
    "    dif.append(max_f - avg)\n",
    "    \n",
    "dif_np = np.asarray(dif)\n",
    "plt.plot(np.sort(dif_np))"
   ]
  },
  {
   "cell_type": "markdown",
   "metadata": {},
   "source": [
    "### This following method is used to pick the interested round and see how many of them are moving around in our method"
   ]
  },
  {
   "cell_type": "code",
   "execution_count": 77,
   "id": "4b8d3228",
   "metadata": {},
   "outputs": [
    {
     "data": {
      "text/plain": [
       "<matplotlib.legend.Legend at 0x7fd6cc799a90>"
      ]
     },
     "execution_count": 77,
     "metadata": {},
     "output_type": "execute_result"
    },
    {
     "data": {
      "image/png": "[encoded data removed]",
      "text/plain": [
       "<Figure size 432x288 with 1 Axes>"
      ]
     },
     "metadata": {
      "needs_background": "light"
     },
     "output_type": "display_data"
    }
   ],
   "source": [
    "ch_plot = []\n",
    "ph_plot = []\n",
    "for interested_round in range(10):\n",
    "    scoreMatrix_file = 'scorematrix/scorematrix_round_' + str(interested_round) + '.npy'\n",
    "    history_file_path= 'history/history_round_' + str(interested_round) + '.npy'\n",
    "    history_file = os.path.join(resultsdir,history_file_path)\n",
    "    history = np.load(history_file)\n",
    "    scorematrix = np.load(os.path.join(resultsdir, scoreMatrix_file))\n",
    "    history_slice = history[:,interested_round]\n",
    "    diff = np.zeros(7404)\n",
    "    Transition_threshold = 0.3\n",
    "    ch = 0\n",
    "    ph = 0\n",
    "    for i in range(7404):\n",
    "        if history_slice[i]:\n",
    "            polar_score = np.max(scorematrix[i][:5])\n",
    "            carte_score = np.median(scorematrix[i][5:])\n",
    "            #print(carte_score,polar_score)\n",
    "            if carte_score > polar_score:\n",
    "                #print('Carte-higher')\n",
    "                dif = polar_score - carte_score\n",
    "                if abs(dif) > Transition_threshold:\n",
    "                    ch += 1\n",
    "                    #print(scorematrix[i])\n",
    "                    diff[i] = dif\n",
    "                #decision[i] = 1\n",
    "        else:\n",
    "            polar_score = np.median(scorematrix[i][:5])\n",
    "            carte_score = np.max(scorematrix[i][5:])\n",
    "            #print(carte_score,polar_score)\n",
    "            if carte_score < polar_score:\n",
    "                #print('Polar-higer')\n",
    "                dif = polar_score - carte_score\n",
    "                if abs(dif) > Transition_threshold:\n",
    "                    ph += 1\n",
    "                    #print(scorematrix[i])\n",
    "                    diff[i] = dif\n",
    "                    #decision[i] = -1\n",
    "        \n",
    "    #print(ch, ph)\n",
    "    ch_plot.append(ch)\n",
    "    ph_plot.append(ph)\n",
    "\n",
    "plt.plot(ch_plot)\n",
    "plt.plot(ph_plot)\n",
    "plt.legend(['P2C','C2P'])"
   ]
  },
  {
   "cell_type": "markdown",
   "metadata": {},
   "source": [
    "### This following chunk checks the predicted 956 images. This is only available for results generated after Nov.13 2023"
   ]
  },
  {
   "cell_type": "code",
   "execution_count": 114,
   "metadata": {},
   "outputs": [],
   "source": [
    "def dice_coefficient_carte(image1, image2):#Generate the Dice coefficient of two binary images, should do thresholding before inputting\n",
    "    # Ensure the input images have the same shape\n",
    "    smooth = 1\n",
    "    if image1.shape != image2.shape:\n",
    "        raise ValueError(\"Input images must have the same shape.\")\n",
    "    image1 = np.matrix(image1)\n",
    "    image2 = np.matrix(image2)\n",
    "    img1_f = (~image1.astype(bool)).astype(int)\n",
    "    img2_f = (~image2.astype(bool)).astype(int)\n",
    "    # Calculate the intersection (logical AND) between the two binary images\n",
    "    intersection_o = np.logical_and(image1, image2).sum()\n",
    "    intersection_f = np.logical_and(img1_f, img2_f).sum()\n",
    "    #print(intersection_o,intersection_f)\n",
    "    # Calculate the sum of pixels in each image\n",
    "    sum_image1_o = image1.sum()\n",
    "    sum_image2_o = image2.sum()\n",
    "    #print(sum_image1_o,sum_image2_o)\n",
    "    sum_image1_f = img1_f.sum()\n",
    "    sum_image2_f = img2_f.sum()\n",
    "    #print(sum_image1_f,sum_image2_f)\n",
    "   \n",
    "    # Calculate the Dice coefficient\n",
    "    dice = (2.0 * intersection_o + smooth) / (sum_image1_o + sum_image2_o + smooth)\n",
    "    #print('dice',dice)\n",
    "    dice_f = (2.0 * (intersection_f - 14616) + smooth) / (sum_image1_f + sum_image2_f + smooth - 29232) #Hard-coded numbers here, need to prove \n",
    "    #print('dice_f',dice_f)\n",
    "    dice_avg = (dice + dice_f) / 2.0\n",
    "    #print('dice_avg', dice_avg)\n",
    "    return dice_avg"
   ]
  },
  {
   "cell_type": "code",
   "execution_count": 126,
   "metadata": {},
   "outputs": [
    {
     "name": "stdout",
     "output_type": "stream",
     "text": [
      "1.0 2.0 1.0\n",
      "1.0006026348474468 1.950902755782149 -8.922063949939155\n",
      "1.0024134473682718 1.9017463004610655 -38.63776193393591\n",
      "1.00544119135783 1.8524711369551015 -88.29056687837559\n",
      "1.0097005565352637 1.8030171932856716 -158.12120052393828\n",
      "1.0152123204933219 1.7533235277265227 -248.47012311436634\n",
      "1.0220035651989767 1.7033280249233052 -359.781080629913\n",
      "1.030107961938772 1.6529670797242884 -492.60577336317886\n",
      "1.03956612989658 1.602175265240684 -647.6097308304301\n",
      "1.0504260749907126 1.5508849813657415 -825.579501591479\n",
      "1.0627437172258807 1.499026079617389 -1027.4312932319851\n",
      "1.0765835166847686 1.4465254597191715 -1254.221228386845\n",
      "1.092019210455573 1.3933066327853152 -1507.1574182608688\n",
      "1.1091346753403173 1.339289245311332 -1787.6140968551065\n",
      "1.128024934205407 1.284388557370952 -2097.14810852981\n",
      "1.1487973274334302 1.2285148674577577 -2437.5181004744313\n",
      "1.17157287525381 1.17157287525381 -2810.706842407914\n",
      "1.1964878619450432 1.1134609722182713 -3218.947181273424\n",
      "1.2236956792339264 1.0540704482173602 -3664.7522424412\n",
      "1.2533689739472365 0.9932846004014115 -4150.950615577172\n",
      "1.2857021544554055 0.9309777280984168 -4680.727418714811\n",
      "1.3209143221424415 0.867013994539312 -5257.67232566508\n",
      "1.359252708629945 0.8012461326361526 -5885.835879351755\n",
      "1.400996717537665 0.7335139676448619 -6569.795709451921\n",
      "1.4464626921716894 0.6636427241614022 -7314.734643124628\n",
      "1.4960095589963573 0.5914410782699115 -8126.533163959052\n",
      "1.5500455327856084 0.5166989074559292 -9011.87926471917\n",
      "1.6090361152465453 0.4391846806921129 -9978.39949140346\n",
      "1.673513677715992 0.3586424183426795 -11034.815939602753\n",
      "1.7440889943645193 0.27478813548652026 -12191.135206538433\n",
      "1.8214651907890222 0.18730566196170595 -13458.87691503459\n",
      "1.9064547015827618 0.09584170659814961 -14851.351534323789\n",
      "1.9999999999999998 2.220446049250313e-16 -16383.999999999996\n",
      "2.103199087890325 -0.10066569247971957 -18074.81132259967\n",
      "2.217337035352032 -0.2066599514669516 -19944.83931012381\n",
      "2.343925266431387 -0.318555814666869 -22018.846195760085\n",
      "2.484750841870328 -0.43700705117595273 -24326.11004941276\n",
      "2.6419387536569765 -0.5627631600731089 -26901.445364322324\n",
      "2.818031309036683 -0.6966878269734398 -29786.503623774952\n",
      "3.01609017782527 -0.8397818069881846 -33031.445165118384\n",
      "3.2398288088435496 -0.9932115253309779 -36697.108586809205\n",
      "3.49378599939804 -1.1583451359204173 -40857.85437327401\n",
      "3.7835559091916773 -1.3367984111670141 -45605.33325869842\n",
      "4.1160965123773385 -1.5304937401883825 -51053.539656018125\n",
      "4.50014861423135 -1.7417368235787776 -57345.67648377579\n",
      "4.946813157195198 -1.97331758468673 -64663.61327191361\n",
      "5.470359031630039 -2.22864471509728 -73241.12065991003\n",
      "6.089372901211047 -2.5119277038583174 -83382.70816824444\n",
      "6.82842712474619 -2.82842712474619 -95490.95001184157\n",
      "7.7205508139746915 -3.184805035476143 -110106.96879038285\n",
      "8.810978433275906 -3.5896255449809535 -127971.84929790413\n",
      "10.162990560806412 -4.054086408635547 -150122.32844410007\n",
      "11.86729602491863 -4.593116417876642 -178044.5038926598\n",
      "14.057640120081938 -5.227071362614856 -213929.54515866502\n",
      "16.937850739699517 -5.984447567540165 -261116.7931160647\n",
      "20.831010051529457 -6.906404448828821 -324899.34407865594\n",
      "26.274142369088164 -8.054678984251693 -414075.32911175565\n",
      "34.21380577116479 -9.526284010237609 -544152.306233003\n",
      "46.447180534475535 -11.482904810829977 -744573.6416011235\n",
      "66.73619063830472 -14.215571607353805 -1076971.2267989535\n",
      "104.08686891981709 -18.306340775217684 -1688891.4798541386\n",
      "184.78328094654415 -25.11333848470484 -3010947.6050857175\n",
      "415.3450622318997 -38.710935249974284 -6788254.865480463\n",
      "1660.3796462927621 -79.47096774416669 -27185697.216182064\n",
      "2.6670937881135714e+32 -3.2662478706390736e+16 -4.369499753066464e+36\n",
      "1660.3796462927783 83.47096774416708 -27185534.27424684\n",
      "415.3450622319017 42.71093524997438 -6788173.443609996\n",
      "184.78328094654478 29.113338484704887 -3010893.3784087584\n",
      "104.08686891981738 22.306340775217713 -1688850.8671725928\n",
      "66.73619063830483 18.21557160735382 -1076938.7956557407\n",
      "46.447180534475606 15.482904810829988 -744546.675791503\n",
      "34.21380577116484 13.526284010237617 -544129.2536649834\n",
      "26.2741423690882 12.0546789842517 -414055.21975378774\n",
      "20.83101005152948 10.906404448828827 -324881.5312697586\n",
      "16.937850739699527 9.984447567540169 -261100.82422092985\n",
      "14.05764012008195 9.22707136261486 -213915.09101593998\n",
      "11.867296024918643 8.593116417876645 -178031.31765982424\n",
      "10.16299056080642 8.054086408635548 -150110.22027128295\n",
      "8.810978433275913 7.589625544980956 -127960.67004681431\n",
      "7.720550813974696 7.184805035476145 -110096.59918031197\n",
      "6.828427124746192 6.828427124746191 -95481.29315759211\n",
      "6.089372901211052 6.511927703858319 -83373.6843128368\n",
      "5.470359031630047 6.228644715097284 -73232.66337047996\n",
      "4.946813157195196 5.973317584686729 -64655.6666367442\n",
      "4.500148614231353 5.741736823578779 -57338.19301012867\n",
      "4.116096512377339 5.530493740188383 -51046.47866853777\n",
      "3.783555909191679 5.336798411167015 -45598.65966187611\n",
      "3.4937859993980434 5.1583451359204195 -40851.53768300222\n",
      "3.239828808843553 4.99321152533098 -36691.1221637586\n",
      "3.01609017782527 4.839781806988185 -33025.765601504405\n",
      "2.8180313090366846 4.696687826973441 -29781.11024812103\n",
      "2.641938753656978 4.56276316007311 -26896.319838002193\n",
      "2.484750841870329 4.437007051175954 -24321.236035310427\n",
      "2.3439252664313894 4.318555814666871 -22014.209084130784\n",
      "2.217337035352032 4.206659951466952 -19940.425990220872\n",
      "2.103199087890325 4.100665692479719 -18070.60999121471\n",
      "2.0000000000000004 4.0 -16380.000000000007\n",
      "1.9064547015827626 3.904158293401851 -14847.543217736998\n",
      "1.8214651907890231 3.812694338038295 -13455.25152635853\n",
      "1.7440889943645193 3.7252118645134793 -12187.684782809403\n",
      "1.673513677715992 3.6413575816573207 -11031.53322443944\n",
      "1.6090361152465458 3.5608153193078875 -9975.27786076485\n",
      "1.5500455327856089 3.483301092544071 -9008.912662534085\n",
      "1.4960095589963578 3.408558921730089 -8123.716046115601\n",
      "1.4464626921716894 3.3363572758385978 -7312.061928572948\n",
      "1.400996717537665 3.266486032355138 -6567.26273738721\n",
      "1.3592527086299453 3.1987538673638474 -5883.43837161703\n",
      "1.3209143221424418 3.1329860054606886 -5255.406353654163\n",
      "1.285702154455406 3.069022271901584 -4678.589374171014\n",
      "1.253368973947237 3.0067153995985896 -4148.937184777983\n",
      "1.2236956792339264 2.9459295517826396 -3662.8603833376337\n",
      "1.1964878619450432 2.886539027781729 -3217.1741032178616\n",
      "1.1715728752538102 2.8284271247461903 -2809.0499881584237\n",
      "1.1487973274334307 2.771485132542243 -2435.9751302093505\n",
      "1.1280249342054072 2.715611442629049 -2095.7168856445555\n",
      "1.1091346753403173 2.660710754688668 -1786.2926753457282\n",
      "1.092019210455573 2.606693367214685 -1505.9440315264394\n",
      "1.0765835166847688 2.553474540280829 -1253.114279306285\n",
      "1.0627437172258807 2.500973920382611 -1026.4293453912212\n",
      "1.0504260749907128 2.4491150186342594 -824.6812715542126\n",
      "1.0395661298965801 2.397824734759317 -646.8140813609137\n",
      "1.030107961938772 2.3470329202757116 -491.9117075226273\n",
      "1.0220035651989767 2.296671975076695 -359.1877366797599\n",
      "1.0152123204933219 2.2466764722734776 -247.97677016982\n",
      "1.0097005565352637 2.196982806714329 -157.7272349105104\n",
      "1.00544119135783 2.147528863044899 -87.99550915228656\n",
      "1.0024134473682718 2.0982536995389345 -38.44125453485797\n",
      "1.0006026348474468 2.049097244217851 -8.823869461503483\n",
      "1.0 2.0000000000000004 1.0000000000000002\n",
      "1.0006026348474468 1.9509027557821494 -8.922063949938986\n",
      "1.0024134473682718 1.901746300461066 -38.637761933935444\n",
      "1.00544119135783 1.8524711369551012 -88.29056687837574\n",
      "1.0097005565352637 1.8030171932856716 -158.12120052393826\n",
      "1.0152123204933219 1.753323527726523 -248.47012311436595\n",
      "1.0220035651989767 1.7033280249233056 -359.7810806299121\n",
      "1.030107961938772 1.652967079724289 -492.60577336317726\n",
      "1.0395661298965801 1.6021752652406838 -647.6097308304305\n",
      "1.0504260749907126 1.5508849813657413 -825.5795015914792\n",
      "1.0627437172258807 1.4990260796173893 -1027.4312932319847\n",
      "1.0765835166847686 1.4465254597191717 -1254.2212283868441\n",
      "1.092019210455573 1.3933066327853156 -1507.157418260866\n",
      "1.109134675340317 1.339289245311333 -1787.6140968551024\n",
      "1.128024934205407 1.2843885573709517 -2097.1481085298105\n",
      "1.1487973274334302 1.2285148674577577 -2437.5181004744313\n",
      "1.1715728752538097 1.1715728752538102 -2810.7068424079116\n",
      "1.196487861945043 1.113460972218272 -3218.94718127342\n",
      "1.2236956792339262 1.0540704482173608 -3664.752242441195\n",
      "1.2533689739472365 0.9932846004014113 -4150.950615577174\n",
      "1.2857021544554055 0.9309777280984168 -4680.727418714811\n",
      "1.3209143221424413 0.8670139945393123 -5257.672325665078\n",
      "1.3592527086299449 0.8012461326361531 -5885.83587935175\n",
      "1.4009967175376645 0.7335139676448625 -6569.795709451914\n",
      "1.446462692171689 0.6636427241614031 -7314.734643124619\n",
      "1.4960095589963573 0.5914410782699115 -8126.533163959052\n",
      "1.5500455327856082 0.5166989074559296 -9011.879264719164\n",
      "1.6090361152465449 0.43918468069211336 -9978.399491403454\n",
      "1.6735136777159914 0.3586424183426802 -11034.815939602744\n",
      "1.7440889943645184 0.27478813548652137 -12191.135206538418\n",
      "1.8214651907890225 0.18730566196170573 -13458.876915034594\n",
      "1.9064547015827618 0.09584170659814961 -14851.351534323789\n",
      "1.9999999999999993 6.661338147750939e-16 -16383.999999999989\n",
      "2.103199087890324 -0.10066569247971868 -18074.811322599657\n",
      "2.2173370353520303 -0.20665995146694982 -19944.839310123778\n",
      "2.343925266431386 -0.31855581466686766 -22018.84619576006\n",
      "2.484750841870325 -0.43700705117595007 -24326.11004941271\n",
      "2.6419387536569734 -0.5627631600731062 -26901.44536432227\n",
      "2.8180313090366855 -0.6966878269734416 -29786.503623774992\n",
      "3.0160901778252716 -0.8397818069881859 -33031.44516511841\n",
      "3.2398288088435505 -0.9932115253309783 -36697.10858680922\n",
      "3.4937859993980407 -1.1583451359204178 -40857.85437327402\n",
      "3.783555909191676 -1.3367984111670133 -45605.333258698396\n",
      "4.116096512377337 -1.5304937401883816 -51053.539656018096\n",
      "4.500148614231348 -1.7417368235787767 -57345.67648377576\n",
      "4.946813157195191 -1.9733175846867264 -64663.61327191349\n",
      "5.470359031630032 -2.2286447150972766 -73241.12065990991\n",
      "6.089372901211033 -2.511927703858311 -83382.70816824421\n",
      "6.82842712474617 -2.828427124746182 -95490.95001184125\n",
      "7.720550813974706 -3.184805035476148 -110106.96879038308\n",
      "8.81097843327591 -3.5896255449809553 -127971.84929790422\n",
      "10.16299056080642 -4.054086408635549 -150122.32844410022\n",
      "11.867296024918621 -4.593116417876639 -178044.50389265965\n",
      "14.057640120081924 -5.227071362614852 -213929.54515866478\n",
      "16.9378507396995 -5.984447567540161 -261116.79311606442\n",
      "20.831010051529393 -6.906404448828807 -324899.3440786549\n",
      "26.27414236908807 -8.054678984251675 -414075.32911175414\n",
      "34.21380577116466 -9.526284010237585 -544152.3062330008\n",
      "46.44718053447517 -11.482904810829924 -744573.6416011176\n",
      "66.73619063830506 -14.215571607353848 -1076971.226798959\n",
      "104.08686891981777 -18.306340775217752 -1688891.4798541497\n",
      "184.78328094654464 -25.113338484704876 -3010947.6050857254\n",
      "415.3450622319013 -38.71093524997436 -6788254.865480489\n",
      "1660.3796462927453 -79.47096774416627 -27185697.21618179\n",
      "2.963437542348412e+31 -1.0887492902130244e+16 -4.8549997256294035e+35\n",
      "1660.379646292795 83.4709677441675 -27185534.274247117\n",
      "415.3450622319075 42.71093524997467 -6788173.443610091\n",
      "184.7832809465465 29.113338484705015 -3010893.378408787\n",
      "104.08686891981857 22.30634077521783 -1688850.8671726123\n",
      "66.73619063830544 18.215571607353894 -1076938.7956557507\n",
      "46.4471805344754 15.482904810829957 -744546.6757914997\n",
      "34.2138057711648 13.52628401023761 -544129.2536649827\n",
      "26.27414236908817 12.054678984251694 -414055.21975378727\n",
      "20.831010051529464 10.906404448828823 -324881.53126975836\n",
      "16.93785073969955 9.984447567540172 -261100.82422093014\n",
      "14.057640120081963 9.227071362614863 -213915.09101594018\n",
      "11.867296024918652 8.593116417876647 -178031.3176598244\n",
      "10.162990560806442 8.054086408635555 -150110.2202712833\n",
      "8.810978433275928 7.5896255449809615 -127960.67004681454\n",
      "7.720550813974719 7.1848050354761535 -110096.59918031235\n",
      "6.828427124746183 6.828427124746187 -95481.29315759196\n",
      "6.089372901211044 6.511927703858316 -83373.68431283667\n",
      "5.470359031630039 6.22864471509728 -73232.66337047983\n",
      "4.946813157195198 5.97331758468673 -64655.66663674423\n",
      "4.500148614231354 5.74173682357878 -57338.19301012869\n",
      "4.116096512377343 5.530493740188385 -51046.47866853781\n",
      "3.7835559091916804 5.336798411167016 -45598.65966187613\n",
      "3.4937859993980447 5.15834513592042 -40851.53768300224\n",
      "3.2398288088435545 4.993211525330981 -36691.12216375862\n",
      "3.0160901778252747 4.839781806988189 -33025.765601504485\n",
      "2.8180313090366886 4.696687826973443 -29781.1102481211\n",
      "2.6419387536569756 4.562763160073108 -26896.319838002157\n",
      "2.4847508418703277 4.437007051175952 -24321.2360353104\n",
      "2.3439252664313877 4.318555814666869 -22014.209084130758\n",
      "2.217337035352032 4.206659951466952 -19940.42599022088\n",
      "2.103199087890326 4.100665692479721 -18070.60999121473\n",
      "2.000000000000001 4.000000000000001 -16380.000000000015\n",
      "1.9064547015827633 3.904158293401852 -14847.54321773701\n",
      "1.8214651907890236 3.8126943380382956 -13455.251526358537\n",
      "1.7440889943645208 3.7252118645134815 -12187.68478280943\n",
      "1.6735136777159934 3.6413575816573225 -11031.533224439463\n",
      "1.609036115246547 3.5608153193078893 -9975.277860764872\n",
      "1.550045532785608 3.48330109254407 -9008.912662534072\n",
      "1.4960095589963571 3.408558921730088 -8123.71604611559\n",
      "1.4464626921716894 3.3363572758385978 -7312.06192857295\n",
      "1.4009967175376652 3.2664860323551386 -6567.262737387215\n",
      "1.3592527086299455 3.1987538673638483 -5883.438371617033\n",
      "1.3209143221424418 3.1329860054606886 -5255.406353654164\n",
      "1.2857021544554061 3.0690222719015843 -4678.589374171016\n",
      "1.253368973947237 3.0067153995985896 -4148.937184777985\n",
      "1.223695679233927 2.945929551782641 -3662.860383337644\n",
      "1.1964878619450439 2.88653902778173 -3217.174103217871\n",
      "1.1715728752538106 2.8284271247461916 -2809.049988158432\n",
      "1.1487973274334302 2.7714851325422423 -2435.9751302093455\n",
      "1.1280249342054067 2.715611442629048 -2095.716885644551\n",
      "1.1091346753403173 2.660710754688668 -1786.2926753457293\n",
      "1.0920192104555733 2.6066933672146853 -1505.9440315264405\n",
      "1.0765835166847688 2.553474540280829 -1253.1142793062859\n",
      "1.062743717225881 2.5009739203826116 -1026.4293453912226\n",
      "1.0504260749907128 2.4491150186342594 -824.6812715542136\n",
      "1.0395661298965801 2.397824734759317 -646.8140813609145\n",
      "1.0301079619387723 2.3470329202757125 -491.9117075226306\n",
      "1.022003565198977 2.296671975076696 -359.18773667976274\n",
      "1.0152123204933219 2.246676472273477 -247.97677016981868\n",
      "1.0097005565352637 2.1969828067143284 -157.72723491050937\n",
      "1.00544119135783 2.1475288630448985 -87.99550915228579\n",
      "1.0024134473682718 2.0982536995389345 -38.44125453485817\n",
      "1.0006026348474468 2.049097244217851 -8.82386946150358\n"
     ]
    }
   ],
   "source": [
    "polar_prediction_file = 'polar_prediction.npy'\n",
    "carte_prediction_file = 'carte_prediction.npy'\n",
    "polar_prediction = np.load(os.path.join(resultsdir,polar_prediction_file))\n",
    "carte_prediction = np.load(os.path.join(resultsdir,carte_prediction_file))\n",
    "test_label_folder_path = 'data/endoscopic_test956/cartesian/label'\n",
    "count = 0\n",
    "trans_dic = p2c_dic_gen(127, 127, 256, 256)\n",
    "polar_dice = []\n",
    "carte_dice = []\n",
    "for prediction in [polar_prediction,carte_prediction]:\n",
    "    for i in range(956):\n",
    "        test_file_name = os.path.join(test_label_folder_path, (str(i) + '.tif'))\n",
    "        ground_truth_mask = cv2.imread(test_file_name, cv2.IMREAD_GRAYSCALE)\n",
    "        ground_truth_mask = ground_truth_mask / 255.0\n",
    "        ground_truth_mask = ground_truth_mask.astype(np.uint8)\n",
    "        current_prediction = prediction[i]\n",
    "        current_prediction = np.reshape(current_prediction,(256,256))\n",
    "        threshold = 0.5\n",
    "        current_prediction = (current_prediction > threshold).astype(np.uint8)\n",
    "        if count == 0:\n",
    "            current_prediction = p2c(current_prediction, trans_dic)\n",
    "            polar_dice.append(dice_coefficient_carte(ground_truth_mask,current_prediction))\n",
    "        else:\n",
    "            carte_dice.append(dice_coefficient_carte(ground_truth_mask,current_prediction))\n",
    "            \n",
    "        \n",
    "    count += 1\n",
    "polar_dice = np.asarray(polar_dice)\n",
    "carte_dice = np.asarray(carte_dice)"
   ]
  },
  {
   "cell_type": "code",
   "execution_count": 132,
   "metadata": {},
   "outputs": [
    {
     "data": {
      "text/plain": [
       "<matplotlib.legend.Legend at 0x7fd6bda0d810>"
      ]
     },
     "execution_count": 132,
     "metadata": {},
     "output_type": "execute_result"
    },
    {
     "data": {
      "image/png": "[encoded data removed]",
      "text/plain": [
       "<Figure size 432x288 with 1 Axes>"
      ]
     },
     "metadata": {
      "needs_background": "light"
     },
     "output_type": "display_data"
    }
   ],
   "source": [
    "polar_past_score_file = 'prev-analysis/analysis_dice_back_Test_P2C.npy'\n",
    "\n",
    "polar_past_score = np.load(polar_past_score_file)\n",
    "\n",
    "polar_performance_inc = polar_dice - polar_past_score\n",
    "plt.plot(np.sort(polar_dice))\n",
    "plt.plot(np.sort(polar_past_score))\n",
    "plt.plot(np.sort(polar_performance_inc))\n",
    "plt.legend(['new','past','dif'])"
   ]
  },
  {
   "cell_type": "code",
   "execution_count": 136,
   "metadata": {},
   "outputs": [
    {
     "data": {
      "text/plain": [
       "<matplotlib.legend.Legend at 0x7fd6bd7a5810>"
      ]
     },
     "execution_count": 136,
     "metadata": {},
     "output_type": "execute_result"
    },
    {
     "data": {
      "image/png": "[encoded data removed]",
      "text/plain": [
       "<Figure size 432x288 with 1 Axes>"
      ]
     },
     "metadata": {
      "needs_background": "light"
     },
     "output_type": "display_data"
    }
   ],
   "source": [
    "carte_past_score_file = 'prev-analysis/analysis_dice_back_Test_C.npy'\n",
    "carte_past_score = np.load(carte_past_score_file)\n",
    "carte_performance_inc = carte_dice = carte_past_score\n",
    "plt.plot(np.sort(carte_dice))\n",
    "plt.plot(np.sort(carte_past_score))\n",
    "plt.plot(np.sort(carte_performance_inc))\n",
    "plt.legend(['new','past','dif'])"
   ]
  },
  {
   "cell_type": "code",
   "execution_count": null,
   "metadata": {},
   "outputs": [],
   "source": []
  }
 ],
 "metadata": {
  "kernelspec": {
   "display_name": "Python 3 (ipykernel)",
   "language": "python",
   "name": "python3"
  },
  "language_info": {
   "codemirror_mode": {
    "name": "ipython",
    "version": 3
   },
   "file_extension": ".py",
   "mimetype": "text/x-python",
   "name": "python",
   "nbconvert_exporter": "python",
   "pygments_lexer": "ipython3",
   "version": "3.7.9"
  }
 },
 "nbformat": 4,
 "nbformat_minor": 5
}
