{
 "cells": [
  {
   "cell_type": "markdown",
   "id": "ab00a2f7",
   "metadata": {},
   "source": [
    "# Instruction on how to read from the result folder\n",
    "Author: Yicheng Zhu 2023-11-07\n",
    "yzhu19@smith.edu"
   ]
  },
  {
   "cell_type": "markdown",
   "id": "d8869307",
   "metadata": {},
   "source": [
    "-------------"
   ]
  },
  {
   "cell_type": "markdown",
   "id": "60dc1e48",
   "metadata": {},
   "source": [
    "## Convention\n",
    "\n",
    "#### <span style=\"color:red\">IMPORTANT</span>\n",
    "\n",
    "Throughout this experiment, _polar-dominant_ is ```True``` and _cartesian-dominant_ is ```False```\n",
    "\n",
    "Throughout this experiment, if there is a matrix and contains 10 columns, ```index 0 - 4``` represent the five polar-dominant portions, and ```index 5 - 9``` represent the five cartesian-dominant portions"
   ]
  },
  {
   "cell_type": "markdown",
   "id": "425c6649",
   "metadata": {},
   "source": [
    "_________________\n"
   ]
  },
  {
   "cell_type": "markdown",
   "id": "fb408fe5",
   "metadata": {},
   "source": [
    "## Overview\n",
    "All the usable data are recorded in the form of numpy arrays.\n",
    "\n",
    "Because of the lack of labeling of those data, this jupyter notebook will help people easily figure out how to extract the usable data."
   ]
  },
  {
   "cell_type": "markdown",
   "id": "35853c9f",
   "metadata": {},
   "source": [
    "#### Import the packages for use"
   ]
  },
  {
   "cell_type": "code",
   "execution_count": 2,
   "id": "0b600bd0",
   "metadata": {},
   "outputs": [],
   "source": [
    "import numpy as np\n",
    "import matplotlib.pyplot as plt\n",
    "import os"
   ]
  },
  {
   "cell_type": "markdown",
   "id": "26f36d3b",
   "metadata": {},
   "source": [
    "#### Set the directory of the interested result folder\n",
    "Note that depending on the migration framework used, it's possible that some data is not available -- for example, there is no 'probability-history' if Cuiling's method or Chris' method is used."
   ]
  },
  {
   "cell_type": "markdown",
   "id": "aec9420e",
   "metadata": {},
   "source": [
    "Here set the ```resultdir``` to the address of 'results' folder"
   ]
  },
  {
   "cell_type": "code",
   "execution_count": 6,
   "id": "ab428dbd",
   "metadata": {},
   "outputs": [],
   "source": [
    "resultsdir = '/home/panda/Documents/Our-UNet-Code/results20231028'"
   ]
  },
  {
   "cell_type": "markdown",
   "id": "ed772607",
   "metadata": {},
   "source": [
    "----------------------"
   ]
  },
  {
   "cell_type": "markdown",
   "id": "2394a12a",
   "metadata": {},
   "source": [
    "## Type of Data stored"
   ]
  },
  {
   "cell_type": "markdown",
   "id": "91ee7e5e",
   "metadata": {},
   "source": [
    "### 0. FileMatrix\n",
    "Filematrix is stored as ```.png``` file and therefore is a little different to load. The purpose of it is to enable a visual sanity check of if only once one image is appeared in. \n",
    "\n",
    "This png contains of a 7407 * 10 matrix. Each row represents one image, e.g. first row represents image ```0.tif```. The black dot's location represents the file location."
   ]
  },
  {
   "cell_type": "markdown",
   "id": "1c50489e",
   "metadata": {},
   "source": [
    "#### Instruction on how to read filematrix\n",
    "Well, basically click open and scan through. The location information contained can be found in score-matrix, so there's no need to bother reading this file."
   ]
  },
  {
   "cell_type": "markdown",
   "id": "3e0acd11",
   "metadata": {},
   "source": [
    "### 1. History\n",
    "History is a location log that records the coarse location of if the image is considered as polar or cartesian dominant per that round. \n",
    "\n",
    "History contains of 7404*(R+1) data, where R is the number of rounds we iterate through\n",
    "\n",
    "A newer history will contain the older one, so it's always just enough to read the history file names: ```history_round_MAXNUM.npy```\n"
   ]
  },
  {
   "cell_type": "markdown",
   "id": "2cbe6faa",
   "metadata": {},
   "source": [
    "#### Example of reading history location"
   ]
  },
  {
   "cell_type": "code",
   "execution_count": 23,
   "id": "b9aa636f",
   "metadata": {},
   "outputs": [],
   "source": [
    "history_file = os.path.join(resultsdir,'history/history_round_3.npy')"
   ]
  },
  {
   "cell_type": "code",
   "execution_count": 24,
   "id": "06dd1cb2",
   "metadata": {},
   "outputs": [],
   "source": [
    "history = np.load(history_file)"
   ]
  },
  {
   "cell_type": "code",
   "execution_count": 25,
   "id": "6e12c676",
   "metadata": {},
   "outputs": [
    {
     "data": {
      "text/plain": [
       "(7404, 5)"
      ]
     },
     "execution_count": 25,
     "metadata": {},
     "output_type": "execute_result"
    }
   ],
   "source": [
    "history.shape"
   ]
  },
  {
   "cell_type": "code",
   "execution_count": 26,
   "id": "ea4136c5",
   "metadata": {},
   "outputs": [],
   "source": [
    "history_slice = history[:,-1]"
   ]
  },
  {
   "cell_type": "code",
   "execution_count": 27,
   "id": "68aaddc0",
   "metadata": {},
   "outputs": [
    {
     "data": {
      "text/plain": [
       "(7404,)"
      ]
     },
     "execution_count": 27,
     "metadata": {},
     "output_type": "execute_result"
    }
   ],
   "source": [
    "history_slice.shape"
   ]
  },
  {
   "cell_type": "code",
   "execution_count": 28,
   "id": "0c8621f0",
   "metadata": {},
   "outputs": [
    {
     "name": "stdout",
     "output_type": "stream",
     "text": [
      "3702\n",
      "3686\n",
      "3660\n",
      "3616\n",
      "3571\n"
     ]
    }
   ],
   "source": [
    "for i in range(history.shape[1]):\n",
    "    slice = history[:,i]\n",
    "    print(np.sum(slice))"
   ]
  },
  {
   "cell_type": "markdown",
   "id": "50ab4a81",
   "metadata": {},
   "source": [
    "### 2. Models History\n",
    "Model History is the log of loss history when the model was trained. For each iteration, the five polar model histories and the five cartesian model histories are bundled into two seperate files and can be found separately. \n",
    "\n",
    "Basically, the most relevant data we can extract from a model history is the loss that it is converged to. Given that we are using the checkpoint to store the model with minimum loss, the last digit of the curve does not necessarily mean the final loss of the one that we finally decided to keep.\n",
    "\n",
    "In order to extract that, the minimum of each curve should be taken."
   ]
  },
  {
   "cell_type": "markdown",
   "id": "88be2d7b",
   "metadata": {},
   "source": [
    "#### Example of reading model history"
   ]
  },
  {
   "cell_type": "code",
   "execution_count": 31,
   "id": "adc135f6",
   "metadata": {},
   "outputs": [],
   "source": [
    "model_history_file = os.path.join(resultsdir,'models_history/round_0/carte_history.npy')\n",
    "model_history = np.load(model_history_file)"
   ]
  },
  {
   "cell_type": "code",
   "execution_count": 32,
   "id": "8790c076",
   "metadata": {},
   "outputs": [
    {
     "data": {
      "text/plain": [
       "(5, 100)"
      ]
     },
     "execution_count": 32,
     "metadata": {},
     "output_type": "execute_result"
    }
   ],
   "source": [
    "model_history.shape"
   ]
  },
  {
   "cell_type": "code",
   "execution_count": 38,
   "id": "a7cb2c26",
   "metadata": {},
   "outputs": [
    {
     "data": {
      "text/plain": [
       "[<matplotlib.lines.Line2D at 0x7ff2d1182dd0>]"
      ]
     },
     "execution_count": 38,
     "metadata": {},
     "output_type": "execute_result"
    },
    {
     "data": {
      "image/png": "[encoded data removed]",
      "text/plain": [
       "<Figure size 432x288 with 1 Axes>"
      ]
     },
     "metadata": {
      "needs_background": "light"
     },
     "output_type": "display_data"
    }
   ],
   "source": [
    "plt.plot(model_history[0][:])"
   ]
  },
  {
   "cell_type": "code",
   "execution_count": 36,
   "id": "b95732c1",
   "metadata": {},
   "outputs": [
    {
     "name": "stdout",
     "output_type": "stream",
     "text": [
      "0.7190205454826355\n",
      "0.23631617426872253\n",
      "0.24382779002189636\n",
      "0.24170717597007751\n",
      "0.2246464341878891\n"
     ]
    }
   ],
   "source": [
    "#Getting the min of model loss\n",
    "for i in range(5):\n",
    "    current_model = model_history[i][:]\n",
    "    print(np.min(current_model))"
   ]
  },
  {
   "cell_type": "markdown",
   "id": "5d0ebc7a",
   "metadata": {},
   "source": [
    "### 3. prob_history"
   ]
  },
  {
   "cell_type": "markdown",
   "id": "5a267ad0",
   "metadata": {},
   "source": [
    "This is only going to appear in Yicheng's random migration framework result so that I will skip this part for now."
   ]
  },
  {
   "cell_type": "markdown",
   "id": "92098f7c",
   "metadata": {},
   "source": [
    "### 4. Score Matrix\n",
    "\n",
    "#### <span style=\"color:red\">IMPORTANT</span>\n",
    "\n",
    "Score matrix is the main character here and I believe lots of analysis can be done on it. \n",
    "\n",
    "The shape of it is always 7404*10. Each row, there are 6 scores and 4 blanks (in the form of 0s). The location tells us which model is this score generated from. \n",
    "\n",
    "For example, the score in the second coloumn is always the generated by the polar model which used the portion index 0, 2, 3, 4 as the training set.\n",
    "\n",
    "#### In-group score vs. out-of-group scores\n",
    "\n",
    "Given that there are 6 scores, 1 in-group and 5 out-of-group, stored in the matrix, I need to clarify that the one in-group score is what we considered MOST IMPORTANT because ultimately we would like to have a better and better in-group score."
   ]
  },
  {
   "cell_type": "markdown",
   "id": "a8ddaf1c",
   "metadata": {},
   "source": [
    "#### Example of reading score matrix:"
   ]
  },
  {
   "cell_type": "markdown",
   "id": "b12b662e",
   "metadata": {},
   "source": [
    "1. Example for plotting out the in-group score"
   ]
  },
  {
   "cell_type": "code",
   "execution_count": 41,
   "id": "40ac6320",
   "metadata": {},
   "outputs": [
    {
     "data": {
      "image/png": "[encoded data removed]",
      "text/plain": [
       "<Figure size 432x288 with 1 Axes>"
      ]
     },
     "metadata": {
      "needs_background": "light"
     },
     "output_type": "display_data"
    }
   ],
   "source": [
    "for i in range(4):\n",
    "    x_range = 7404\n",
    "    scoreMatrix_file = 'scorematrix/scorematrix_round_' + str(i) + '.npy'\n",
    "    scoreMatrix = np.load(os.path.join(resultsdir, scoreMatrix_file))\n",
    "    picked_score = np.zeros(scoreMatrix[:,0].shape)\n",
    "    i = 0\n",
    "    for each_row in scoreMatrix:\n",
    "        first = sum(each_row[:5])\n",
    "        last = sum(each_row[5:])\n",
    "        picked_score[i] = min(first,last)\n",
    "        i += 1\n",
    "    #print(picked_score)\n",
    "    plt.plot(np.sort(picked_score))\n",
    "    plt.legend([1,2,3,4,5])"
   ]
  },
  {
   "cell_type": "markdown",
   "id": "979a8e52",
   "metadata": {},
   "source": [
    "2. Example for plotting the difference of difference of, for each image, the maximum score it got and the average\n",
    "\n",
    "PS> I know you can do better than my hard-coded method"
   ]
  },
  {
   "cell_type": "code",
   "execution_count": 49,
   "id": "6b1e4fc8",
   "metadata": {},
   "outputs": [
    {
     "data": {
      "text/plain": [
       "[<matplotlib.lines.Line2D at 0x7ff2cecdf350>]"
      ]
     },
     "execution_count": 49,
     "metadata": {},
     "output_type": "execute_result"
    },
    {
     "data": {
      "image/png": "[encoded data removed]",
      "text/plain": [
       "<Figure size 432x288 with 1 Axes>"
      ]
     },
     "metadata": {
      "needs_background": "light"
     },
     "output_type": "display_data"
    }
   ],
   "source": [
    "scoreMatrix_0 = np.load(os.path.join(resultsdir, ('scorematrix/scorematrix_round_0.npy')))\n",
    "scoreMatrix_1 = np.load(os.path.join(resultsdir, ('scorematrix/scorematrix_round_1.npy')))\n",
    "scoreMatrix_2 = np.load(os.path.join(resultsdir, ('scorematrix/scorematrix_round_2.npy')))\n",
    "scoreMatrix_3 = np.load(os.path.join(resultsdir, ('scorematrix/scorematrix_round_3.npy')))\n",
    "\n",
    "dif = []\n",
    "for i in range(scoreMatrix.shape[0]):\n",
    "    fst = np.max(scoreMatrix_0[i]).item(0)\n",
    "    snd = np.max(scoreMatrix_1[i]).item(0)\n",
    "    trd = np.max(scoreMatrix_2[i]).item(0)\n",
    "    fth = np.max(scoreMatrix_3[i]).item(0)\n",
    "    #print(fst,snd,trd,fth)\n",
    "    max_f = max(fst,snd,trd,fth)\n",
    "    avg = (fst+snd+trd+fth)/4\n",
    "    dif.append(max_f - avg)\n",
    "    \n",
    "dif_np = np.asarray(dif)\n",
    "plt.plot((dif_np))"
   ]
  },
  {
   "cell_type": "code",
   "execution_count": null,
   "id": "4b8d3228",
   "metadata": {},
   "outputs": [],
   "source": []
  }
 ],
 "metadata": {
  "kernelspec": {
   "display_name": "Python 3 (ipykernel)",
   "language": "python",
   "name": "python3"
  },
  "language_info": {
   "codemirror_mode": {
    "name": "ipython",
    "version": 3
   },
   "file_extension": ".py",
   "mimetype": "text/x-python",
   "name": "python",
   "nbconvert_exporter": "python",
   "pygments_lexer": "ipython3",
   "version": "3.7.9"
  }
 },
 "nbformat": 4,
 "nbformat_minor": 5
}
