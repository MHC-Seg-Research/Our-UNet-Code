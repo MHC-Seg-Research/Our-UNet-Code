{
 "cells": [
  {
   "cell_type": "markdown",
   "id": "ab00a2f7",
   "metadata": {},
   "source": [
    "# Instruction on how to read from the result folder\n",
    "Author: Yicheng Zhu 2023-11-07\n",
    "yzhu19@smith.edu"
   ]
  },
  {
   "cell_type": "markdown",
   "id": "d8869307",
   "metadata": {},
   "source": [
    "-------------"
   ]
  },
  {
   "cell_type": "markdown",
   "id": "60dc1e48",
   "metadata": {},
   "source": [
    "## Convention\n",
    "\n",
    "#### <span style=\"color:red\">IMPORTANT</span>\n",
    "\n",
    "Throughout this experiment, _polar-dominant_ is ```True``` and _cartesian-dominant_ is ```False```\n",
    "\n",
    "Throughout this experiment, if there is a matrix and contains 10 columns, ```index 0 - 4``` represent the five polar-dominant portions, and ```index 5 - 9``` represent the five cartesian-dominant portions"
   ]
  },
  {
   "cell_type": "markdown",
   "id": "425c6649",
   "metadata": {},
   "source": [
    "_________________\n"
   ]
  },
  {
   "cell_type": "markdown",
   "id": "fb408fe5",
   "metadata": {},
   "source": [
    "## Overview\n",
    "All the usable data are recorded in the form of numpy arrays.\n",
    "\n",
    "Because of the lack of labeling of those data, this jupyter notebook will help people easily figure out how to extract the usable data."
   ]
  },
  {
   "cell_type": "markdown",
   "id": "35853c9f",
   "metadata": {},
   "source": [
    "#### Import the packages for use"
   ]
  },
  {
   "cell_type": "code",
   "execution_count": 1,
   "id": "0b600bd0",
   "metadata": {},
   "outputs": [
    {
     "name": "stderr",
     "output_type": "stream",
     "text": [
      "2023-12-07 12:01:35.862203: I tensorflow/core/util/util.cc:169] oneDNN custom operations are on. You may see slightly different numerical results due to floating-point round-off errors from different computation orders. To turn them off, set the environment variable `TF_ENABLE_ONEDNN_OPTS=0`.\n"
     ]
    }
   ],
   "source": [
    "import numpy as np\n",
    "import matplotlib.pyplot as plt\n",
    "import os\n",
    "import cv2\n",
    "from p2ctransformer.p2c import *\n",
    "from model import *\n",
    "from data import *\n",
    "from defines import *"
   ]
  },
  {
   "cell_type": "markdown",
   "id": "26f36d3b",
   "metadata": {},
   "source": [
    "#### Set the directory of the interested result folder\n",
    "Note that depending on the migration framework used, it's possible that some data is not available -- for example, there is no 'probability-history' if Cuiling's method or Chris' method is used."
   ]
  },
  {
   "cell_type": "markdown",
   "id": "aec9420e",
   "metadata": {},
   "source": [
    "Here set the ```resultdir``` to the address of 'results' folder"
   ]
  },
  {
   "cell_type": "code",
   "execution_count": 2,
   "metadata": {},
   "outputs": [],
   "source": [
    "resultsdir = '/home/scram-2004/Project/Our-UNet-Code/results'"
   ]
  },
  {
   "cell_type": "code",
   "execution_count": 6,
   "id": "ab428dbd",
   "metadata": {},
   "outputs": [],
   "source": [
    "resultsdir = '/home/scram-2004/Project/Our-UNet-Code/history_results/results20231129'"
   ]
  },
  {
   "cell_type": "markdown",
   "id": "ed772607",
   "metadata": {},
   "source": [
    "----------------------"
   ]
  },
  {
   "cell_type": "markdown",
   "id": "2394a12a",
   "metadata": {},
   "source": [
    "## Type of Data stored"
   ]
  },
  {
   "cell_type": "markdown",
   "id": "91ee7e5e",
   "metadata": {},
   "source": [
    "### 0. FileMatrix\n",
    "Filematrix is stored as ```.png``` file and therefore is a little different to load. The purpose of it is to enable a visual sanity check of if only once one image is appeared in. \n",
    "\n",
    "This png contains of a 7407 * 10 matrix. Each row represents one image, e.g. first row represents image ```0.tif```. The black dot's location represents the file location."
   ]
  },
  {
   "cell_type": "markdown",
   "id": "1c50489e",
   "metadata": {},
   "source": [
    "#### Instruction on how to read filematrix\n",
    "Well, basically click open and scan through. The location information contained can be found in score-matrix, so there's no need to bother reading this file."
   ]
  },
  {
   "cell_type": "markdown",
   "id": "3e0acd11",
   "metadata": {},
   "source": [
    "### 1. History\n",
    "History is a location log that records the coarse location of if the image is considered as polar or cartesian dominant per that round. \n",
    "\n",
    "History contains of 7404*(R+1) data, where R is the number of rounds we iterate through\n",
    "\n",
    "A newer history will contain the older one, so it's always just enough to read the history file names: ```history_round_MAXNUM.npy```\n"
   ]
  },
  {
   "cell_type": "markdown",
   "id": "2cbe6faa",
   "metadata": {},
   "source": [
    "#### Example of reading history location"
   ]
  },
  {
   "cell_type": "code",
   "execution_count": 55,
   "id": "b9aa636f",
   "metadata": {},
   "outputs": [],
   "source": [
    "history_file = os.path.join(resultsdir,'history/history_round_2.npy')"
   ]
  },
  {
   "cell_type": "code",
   "execution_count": 56,
   "id": "06dd1cb2",
   "metadata": {},
   "outputs": [],
   "source": [
    "history = np.load(history_file)"
   ]
  },
  {
   "cell_type": "code",
   "execution_count": 18,
   "id": "6e12c676",
   "metadata": {},
   "outputs": [
    {
     "data": {
      "text/plain": [
       "(7404, 4)"
      ]
     },
     "execution_count": 18,
     "metadata": {},
     "output_type": "execute_result"
    }
   ],
   "source": [
    "history.shape"
   ]
  },
  {
   "cell_type": "code",
   "execution_count": 19,
   "id": "ea4136c5",
   "metadata": {},
   "outputs": [],
   "source": [
    "history_slice = history[:,-1]"
   ]
  },
  {
   "cell_type": "code",
   "execution_count": 20,
   "id": "68aaddc0",
   "metadata": {},
   "outputs": [
    {
     "data": {
      "text/plain": [
       "(7404,)"
      ]
     },
     "execution_count": 20,
     "metadata": {},
     "output_type": "execute_result"
    }
   ],
   "source": [
    "history_slice.shape"
   ]
  },
  {
   "cell_type": "code",
   "execution_count": 6,
   "id": "0c8621f0",
   "metadata": {},
   "outputs": [
    {
     "name": "stdout",
     "output_type": "stream",
     "text": [
      "3702\n",
      "3702\n",
      "3702\n",
      "3702\n"
     ]
    }
   ],
   "source": [
    "for i in range(history.shape[1]):\n",
    "    slice = history[:,i]\n",
    "    print(np.sum(slice))"
   ]
  },
  {
   "cell_type": "markdown",
   "id": "50ab4a81",
   "metadata": {},
   "source": [
    "### 2. Models History\n",
    "Model History is the log of loss history when the model was trained. For each iteration, the five polar model histories and the five cartesian model histories are bundled into two seperate files and can be found separately. \n",
    "\n",
    "Basically, the most relevant data we can extract from a model history is the loss that it is converged to. Given that we are using the checkpoint to store the model with minimum loss, the last digit of the curve does not necessarily mean the final loss of the one that we finally decided to keep.\n",
    "\n",
    "In order to extract that, the minimum of each curve should be taken."
   ]
  },
  {
   "cell_type": "markdown",
   "id": "88be2d7b",
   "metadata": {},
   "source": [
    "#### Example of reading model history"
   ]
  },
  {
   "cell_type": "code",
   "execution_count": 3,
   "id": "adc135f6",
   "metadata": {},
   "outputs": [],
   "source": [
    "model_history_file = os.path.join(resultsdir,'models_history/round_2/polar_history.npy')\n",
    "model_history = np.load(model_history_file)"
   ]
  },
  {
   "cell_type": "code",
   "execution_count": 24,
   "id": "8790c076",
   "metadata": {},
   "outputs": [
    {
     "data": {
      "text/plain": [
       "(146, 5)"
      ]
     },
     "execution_count": 24,
     "metadata": {},
     "output_type": "execute_result"
    }
   ],
   "source": [
    "model_history.shape"
   ]
  },
  {
   "cell_type": "code",
   "execution_count": 58,
   "metadata": {},
   "outputs": [
    {
     "name": "stdout",
     "output_type": "stream",
     "text": [
      "[[0.68986833 0.66803545 0.64436209 0.4708423  0.43985602]\n",
      " [0.4249675  0.42764059 0.40081975 0.39678398 0.39549163]\n",
      " [0.35664442 0.37870142 0.37978858 0.37347332 0.36450079]\n",
      " [0.3389962  0.3455216  0.35073659 0.31779212 0.3511512 ]\n",
      " [0.33225021 0.32905039 0.30998805 0.33383816 0.2974458 ]\n",
      " [0.31390327 0.31017256 0.32082123 0.315263   0.27427277]\n",
      " [0.30167872 0.31253979 0.26897863 0.28633744 0.29686508]\n",
      " [0.28730154 0.26327577 0.27894962 0.24970087 0.2899887 ]\n",
      " [0.71692747 0.63230765 0.48860791 0.46359769 0.46810779]\n",
      " [0.4312433  0.43070349 0.40270817 0.38076809 0.40782616]\n",
      " [0.40408567 0.37144941 0.38425767 0.39771643 0.35985807]\n",
      " [0.37612662 0.35388917 0.3706471  0.36356905 0.36067128]\n",
      " [0.34155732 0.33827096 0.31681272 0.35796237 0.32604998]\n",
      " [0.3153027  0.35804275 0.32975417 0.32770211 0.33127999]\n",
      " [0.32211775 0.29764441 0.29936293 0.32969344 0.29198635]\n",
      " [0.31501481 0.32027945 0.30825138 0.29146624 0.28431693]\n",
      " [0.28171894 0.29860494 0.28513563 0.30474877 0.28132507]\n",
      " [0.27401662 0.2695742  0.27859536 0.30058777 0.26910016]\n",
      " [0.25078928 0.2854445  0.2912606  0.28982237 0.26526418]\n",
      " [0.28116891 0.27165607 0.27485999 0.26627773 0.24813393]\n",
      " [0.25158167 0.25261372 0.23043139 0.24175259 0.24233897]\n",
      " [0.68774533 0.54310209 0.50501764 0.45634732 0.43606856]\n",
      " [0.44296569 0.41925886 0.43437138 0.42353505 0.40970209]\n",
      " [0.40525919 0.37993047 0.3750793  0.38675231 0.37720993]\n",
      " [0.38981619 0.36192402 0.3618179  0.35658276 0.39387241]\n",
      " [0.34572628 0.34165424 0.30945784 0.34161845 0.33490071]\n",
      " [0.32633597 0.34493485 0.32711181 0.29916158 0.34114018]\n",
      " [0.33527336 0.33137926 0.31240878 0.28641355 0.2813651 ]\n",
      " [0.71494174 0.69567555 0.6768856  0.67171943 0.67025703]\n",
      " [0.65182722 0.66900557 0.6566835  0.66533273 0.65563428]\n",
      " [0.64532423 0.65379924 0.64674991 0.65026373 0.65463239]\n",
      " [0.63871044 0.63245803 0.66875607 0.64564574 0.65211999]\n",
      " [0.64058238 0.62769878 0.66230893 0.64327914 0.63952893]\n",
      " [0.62872392 0.64050549 0.63533872 0.6350376  0.62136084]\n",
      " [0.66374767 0.65468961 0.60532939 0.63243568 0.62561429]\n",
      " [0.7044456  0.68194526 0.66294271 0.66596413 0.67907488]\n",
      " [0.66167718 0.63570601 0.66258788 0.65976697 0.64731014]\n",
      " [0.65922517 0.66082776 0.6473639  0.6607703  0.6335603 ]\n",
      " [0.63324881 0.63563526 0.64944595 0.65871513 0.66383111]\n",
      " [0.65208071 0.64047372 0.66279465 0.6144166  0.65663904]\n",
      " [0.74896574 0.66370833 0.63664401 0.61440897 0.6087693 ]\n",
      " [0.59764069 0.59624487 0.59082741 0.57444781 0.57723171]\n",
      " [0.56807315 0.55563349 0.57071918 0.55802661 0.56303984]\n",
      " [0.55911034 0.56339079 0.54161304 0.56213164 0.55129617]\n",
      " [0.54122412 0.54015559 0.54702604 0.53257012 0.54310668]\n",
      " [0.53212911 0.5274294  0.55459213 0.54236466 0.53178251]\n",
      " [0.50729001 0.51319391 0.53145069 0.51130164 0.50671345]\n",
      " [0.51321405 0.49757293 0.51216185 0.51728517 0.50657219]\n",
      " [0.50816607 0.50434256 0.49252647 0.5116753  0.50442958]\n",
      " [0.48457372 0.50150841 0.49646267 0.50333774 0.48422414]\n",
      " [0.48036885 0.50225794 0.50069553 0.48169497 0.48903397]\n",
      " [0.48403293 0.48876312 0.50498486 0.48558992 0.46974111]\n",
      " [0.47245619 0.46902531 0.47862157 0.4952746  0.48468006]\n",
      " [0.4675487  0.47696459 0.47224382 0.48183548 0.47661123]\n",
      " [0.46580485 0.48233432 0.47476918 0.47376132 0.47486028]\n",
      " [0.45577964 0.48286942 0.46867445 0.46201742 0.46412674]\n",
      " [0.72433925 0.69902098 0.67878544 0.67008007 0.67336524]\n",
      " [0.64418072 0.65890664 0.66305608 0.64182508 0.66163552]\n",
      " [0.65771091 0.64710963 0.66943389 0.63797879 0.63603437]\n",
      " [0.63670671 0.62698013 0.65460736 0.66188711 0.6528458 ]\n",
      " [0.63713533 0.64475429 0.6390295  0.64287978 0.62682575]\n",
      " [0.66463608 0.63651866 0.65052265 0.62245518 0.62962043]\n",
      " [0.65088356 0.63563645 0.62122327 0.62734008 0.64417768]\n",
      " [0.61589181 0.63835615 0.6535688  0.62813997 0.64081788]\n",
      " [0.7139681  0.65790904 0.63462496 0.61074537 0.60417789]\n",
      " [0.59618187 0.59007919 0.60621423 0.58138043 0.57577127]\n",
      " [0.58604115 0.56698942 0.56788033 0.56531441 0.56135881]\n",
      " [0.56162971 0.54687029 0.57367194 0.55055016 0.55582482]\n",
      " [0.54075694 0.56565541 0.54724145 0.54643267 0.53311968]\n",
      " [0.54428977 0.52441669 0.54062104 0.53423607 0.53490293]\n",
      " [0.52296454 0.53992796 0.51958025 0.52644396 0.53948748]\n",
      " [0.51828915 0.51506281 0.522672   0.52296793 0.52420741]\n",
      " [0.52477562 0.51859289 0.51482797 0.50926894 0.49811107]\n",
      " [0.50392294 0.50156528 0.5148828  0.51983702 0.49321207]\n",
      " [0.50439388 0.51335055 0.49158221 0.50087219 0.50374407]\n",
      " [0.48745391 0.49048102 0.49333018 0.50132668 0.49411768]\n",
      " [0.49056703 0.47769243 0.50185472 0.49495441 0.49385819]\n",
      " [0.48880965 0.47552881 0.48749205 0.49479941 0.486552  ]\n",
      " [0.46712366 0.48063701 0.48188025 0.46954352 0.47692379]\n",
      " [0.47947329 0.47934735 0.46579245 0.46138054 0.47941211]\n",
      " [0.47346932 0.45818084 0.47003481 0.46109778 0.46725813]\n",
      " [0.46115053 0.46307963 0.45989659 0.48047557 0.45634812]\n",
      " [0.46609381 0.46936521 0.46444672 0.45399654 0.47269207]\n",
      " [0.46274275 0.46368617 0.45396599 0.46220893 0.45148009]\n",
      " [0.45747277 0.43887252 0.44882813 0.44996065 0.4440892 ]\n",
      " [0.44197175 0.46928844 0.45498687 0.43793428 0.45365074]\n",
      " [0.43747482 0.43661618 0.44523165 0.46252137 0.44293687]\n",
      " [0.43443769 0.44418469 0.46460268 0.45241889 0.44630346]\n",
      " [0.44101441 0.44474116 0.43161574 0.44235516 0.4373689 ]\n",
      " [0.73066795 0.6272862  0.63429928 0.61571717 0.60820472]\n",
      " [0.59650016 0.57259387 0.57582414 0.60577524 0.56874138]\n",
      " [0.5825758  0.58864087 0.56485629 0.55530441 0.58144093]\n",
      " [0.55500454 0.55640268 0.53836387 0.53363436 0.54803878]\n",
      " [0.54029709 0.53751367 0.53794301 0.55058724 0.53211653]\n",
      " [0.51942456 0.52421337 0.52531177 0.52290672 0.53439409]\n",
      " [0.52872914 0.52585512 0.50360984 0.51280266 0.50589865]\n",
      " [0.52534467 0.49717167 0.50386232 0.50138438 0.51078713]\n",
      " [0.50590497 0.5056327  0.53038955 0.49543497 0.48090914]\n",
      " [0.49947104 0.50258684 0.47409067 0.49722323 0.50192368]\n",
      " [0.49299383 0.48597422 0.48882973 0.47650272 0.46914423]\n",
      " [0.48873794 0.48198229 0.4992913  0.46849564 0.48000428]\n",
      " [0.48919114 0.48353541 0.48720536 0.4715606  0.25071725]\n",
      " [0.25396979 0.24755017 0.27094367 0.24780619 0.22346191]\n",
      " [0.24536359 0.21999843 0.26582304 0.23237075 0.2040645 ]\n",
      " [0.69971412 0.68455797 0.66283303 0.68043321 0.66236788]\n",
      " [0.66980433 0.6629557  0.65641826 0.65744019 0.66817099]\n",
      " [0.64833105 0.64606112 0.63256681 0.65051478 0.65928906]\n",
      " [0.66353035 0.63180882 0.65710932 0.66021085 0.65819532]\n",
      " [0.63141942 0.63762105 0.6334098  0.6473183  0.63982272]\n",
      " [0.65223968 0.62085325 0.66136867 0.63585246 0.62128985]\n",
      " [0.63392609 0.63861167 0.63115299 0.61543125 0.6485166 ]\n",
      " [0.72621834 0.63115621 0.47485858 0.46826062 0.44352758]\n",
      " [0.44927731 0.42479554 0.42506465 0.40433758 0.39939317]\n",
      " [0.37671587 0.42709941 0.37663913 0.37267751 0.35950339]\n",
      " [0.35938668 0.39025128 0.36518556 0.35742673 0.37767217]\n",
      " [0.34885982 0.33873329 0.35802826 0.3503066  0.35021612]\n",
      " [0.33046603 0.31952202 0.35041407 0.32116261 0.34689158]\n",
      " [0.32237062 0.32670957 0.31301418 0.3336798  0.31119126]\n",
      " [0.31307653 0.32706553 0.32724479 0.31247532 0.30447075]\n",
      " [0.29642981 0.32165721 0.28551957 0.29663008 0.28928456]\n",
      " [0.30581495 0.29054409 0.30402619 0.29889041 0.27395537]\n",
      " [0.28024119 0.30016062 0.26216272 0.26853445 0.2706607 ]\n",
      " [0.26552999 0.29615602 0.28927955 0.25806275 0.2768071 ]\n",
      " [0.29208302 0.28254002 0.28164074 0.25080633 0.25392967]\n",
      " [0.66527027 0.53381568 0.47032911 0.45888785 0.42111212]\n",
      " [0.4304252  0.42147884 0.42586109 0.4190816  0.38587204]\n",
      " [0.39671084 0.43348637 0.38288611 0.37423217 0.35761642]\n",
      " [0.34711856 0.38751033 0.37922278 0.35916942 0.37250298]\n",
      " [0.382027   0.33979234 0.38726515 0.35175407 0.33838871]\n",
      " [0.32907182 0.34358945 0.38145515 0.2991372  0.33996713]\n",
      " [0.30861673 0.29739514 0.31477541 0.30954003 0.33973235]\n",
      " [0.31483597 0.32852197 0.27788728 0.2939688  0.29696643]\n",
      " [0.31005174 0.30753085 0.30706716 0.27611399 0.30339676]\n",
      " [0.29186863 0.28649238 0.28286561 0.28016359 0.26839152]\n",
      " [0.27704814 0.2762571  0.29012826 0.2577247  0.27169326]\n",
      " [0.27543625 0.24614468 0.26306677 0.27963561 0.26490244]\n",
      " [0.26489913 0.2605406  0.2612468  0.25983322 0.22023733]\n",
      " [0.71247697 0.68016934 0.5637213  0.47521383 0.4384307 ]\n",
      " [0.43279085 0.41133597 0.41414779 0.40291497 0.38325191]\n",
      " [0.40550643 0.37886986 0.38323292 0.38005513 0.35949081]\n",
      " [0.38259235 0.35319033 0.36181495 0.36156523 0.36666021]\n",
      " [0.31744659 0.36634347 0.32710817 0.33229294 0.32093653]\n",
      " [0.33375153 0.32914114 0.33676979 0.32040751 0.30679452]\n",
      " [0.31863034 0.33044544 0.29071698 0.30769515 0.29426578]\n",
      " [0.3136141  0.31756702 0.28847682 0.29610598 0.29991263]\n",
      " [0.26634252 0.30149624 0.27426732 0.30212131 0.28450346]\n",
      " [0.2598207  0.27622005 0.2704241  0.28629902 0.27638683]\n",
      " [0.26713872 0.2629174  0.28996825 0.2698659  0.251102  ]\n",
      " [0.2576558  0.28767854 0.2741451  0.27011138 0.23465742]]\n"
     ]
    }
   ],
   "source": [
    "print(model_history)"
   ]
  },
  {
   "cell_type": "code",
   "execution_count": 4,
   "id": "a7cb2c26",
   "metadata": {},
   "outputs": [
    {
     "data": {
      "text/plain": [
       "[<matplotlib.lines.Line2D at 0x7f6949319fd0>,\n",
       " <matplotlib.lines.Line2D at 0x7f69492ea450>,\n",
       " <matplotlib.lines.Line2D at 0x7f69492ab150>,\n",
       " <matplotlib.lines.Line2D at 0x7f69492ab210>,\n",
       " <matplotlib.lines.Line2D at 0x7f69492ab2d0>]"
      ]
     },
     "execution_count": 4,
     "metadata": {},
     "output_type": "execute_result"
    },
    {
     "data": {
      "image/png": "[encoded data removed]",
      "text/plain": [
       "<Figure size 432x288 with 1 Axes>"
      ]
     },
     "metadata": {
      "needs_background": "light"
     },
     "output_type": "display_data"
    }
   ],
   "source": [
    "\n",
    "plt.plot(model_history[:][:][:])\n"
   ]
  },
  {
   "cell_type": "code",
   "execution_count": 6,
   "id": "b95732c1",
   "metadata": {},
   "outputs": [
    {
     "name": "stdout",
     "output_type": "stream",
     "text": [
      "0.45412659645080566\n",
      "0.40706193447113037\n",
      "0.38077667355537415\n",
      "0.349405437707901\n",
      "0.32726144790649414\n"
     ]
    }
   ],
   "source": [
    "#Getting the min of model loss\n",
    "for i in range(5):\n",
    "    current_model = model_history[i][:]\n",
    "    print(np.min(current_model))"
   ]
  },
  {
   "cell_type": "markdown",
   "id": "5d0ebc7a",
   "metadata": {},
   "source": [
    "### 3. prob_history"
   ]
  },
  {
   "cell_type": "markdown",
   "id": "5a267ad0",
   "metadata": {},
   "source": [
    "This is only going to appear in Yicheng's random migration framework result so that I will skip this part for now."
   ]
  },
  {
   "cell_type": "markdown",
   "id": "92098f7c",
   "metadata": {},
   "source": [
    "### 4. Score Matrix\n",
    "\n",
    "#### <span style=\"color:red\">IMPORTANT</span>\n",
    "\n",
    "Score matrix is the main character here and I believe lots of analysis can be done on it. \n",
    "\n",
    "The shape of it is always 7404*10. Each row, there are 6 scores and 4 blanks (in the form of 0s). The location tells us which model is this score generated from. \n",
    "\n",
    "For example, the score in the second coloumn is always the generated by the polar model which used the portion index 0, 2, 3, 4 as the training set.\n",
    "\n",
    "#### In-group score vs. out-of-group scores\n",
    "\n",
    "Given that there are 6 scores, 1 in-group and 5 out-of-group, stored in the matrix, I need to clarify that the one in-group score is what we considered MOST IMPORTANT because ultimately we would like to have a better and better in-group score."
   ]
  },
  {
   "cell_type": "markdown",
   "id": "a8ddaf1c",
   "metadata": {},
   "source": [
    "#### Example of reading score matrix:"
   ]
  },
  {
   "cell_type": "markdown",
   "id": "b12b662e",
   "metadata": {},
   "source": [
    "1. Example for plotting out the in-group score (weighted)"
   ]
  },
  {
   "cell_type": "code",
   "execution_count": 7,
   "id": "40ac6320",
   "metadata": {},
   "outputs": [
    {
     "data": {
      "image/png": "[encoded data removed]",
      "text/plain": [
       "<Figure size 432x288 with 1 Axes>"
      ]
     },
     "metadata": {
      "needs_background": "light"
     },
     "output_type": "display_data"
    }
   ],
   "source": [
    "for i in range(10):\n",
    "    x_range = 7404\n",
    "    scoreMatrix_file = 'scorematrix/scorematrix_round_' + str(i) + '.npy'\n",
    "    scoreMatrix = np.load(os.path.join(resultsdir, scoreMatrix_file))\n",
    "    model_history_file_polar = os.path.join(resultsdir,'models_history/round_'+ str(i) +'/polar_history.npy')\n",
    "    model_history_file_carte = os.path.join(resultsdir,'models_history/round_'+ str(i) +'/carte_history.npy')\n",
    "    model_history_polar = np.load(model_history_file_polar)\n",
    "    model_history_carte = np.load(model_history_file_carte)\n",
    "    model_loss_num = []\n",
    "    for i in range(5):\n",
    "        current_model = model_history_polar[i][:]\n",
    "        model_loss_num.append(np.min(current_model))\n",
    "    for i in range(5):\n",
    "        current_model = model_history_carte[i][:]\n",
    "        model_loss_num.append(np.min(current_model))\n",
    "    #print(model_loss_num)\n",
    "    picked_score = np.zeros(scoreMatrix[:,0].shape)\n",
    "    weighted_score = np.zeros(scoreMatrix[:,0].shape)\n",
    "    i = 0\n",
    "    for each_row in scoreMatrix:\n",
    "        first_zero = np.where(each_row == 0)[0][0]\n",
    "        if first_zero >= 5:\n",
    "            chosen = max(each_row[5:])\n",
    "        else:\n",
    "            chosen = max(each_row[:5])\n",
    "        picked_score[i] = chosen\n",
    "        #print(each_row)\n",
    "        #print(chosen)\n",
    "        picked_index = np.where(each_row == chosen)[0][0]\n",
    "        #print(picked_index)\n",
    "        picked_loss = model_loss_num[picked_index]\n",
    "        weighted_score[i] = chosen * (1 - picked_loss)\n",
    "        i += 1\n",
    "    #print(picked_score)\n",
    "    plt.plot(np.sort(picked_score))\n",
    "    plt.legend([1,2,3,4,5,6,7,8,9,10])\n"
   ]
  },
  {
   "cell_type": "code",
   "execution_count": 10,
   "metadata": {},
   "outputs": [
    {
     "name": "stdout",
     "output_type": "stream",
     "text": [
      "(7126, 10)\n"
     ]
    }
   ],
   "source": [
    "print(scoreMatrix.shape)"
   ]
  },
  {
   "cell_type": "markdown",
   "metadata": {},
   "source": [
    "2. Example for getting a filtered illustration, from the first one, pick out the index that contains the scores below threshold, then ignore all data from that index for the rest rounds."
   ]
  },
  {
   "cell_type": "code",
   "execution_count": 4,
   "metadata": {},
   "outputs": [
    {
     "name": "stdout",
     "output_type": "stream",
     "text": [
      "940\n",
      "658\n",
      "577\n",
      "518\n",
      "489\n",
      "470\n",
      "437\n",
      "402\n",
      "384\n",
      "376\n"
     ]
    },
    {
     "data": {
      "image/png": "[encoded data removed]",
      "text/plain": [
       "<Figure size 432x288 with 1 Axes>"
      ]
     },
     "metadata": {
      "needs_background": "light"
     },
     "output_type": "display_data"
    }
   ],
   "source": [
    "index_below_threshold = []\n",
    "ifFirstRound = True\n",
    "check_Threshold = 0.5\n",
    "for i in range(10):\n",
    "    x_range = 7404\n",
    "    scoreMatrix_file = 'scorematrix/scorematrix_round_' + str(i) + '.npy'\n",
    "    scoreMatrix = np.load(os.path.join(resultsdir, scoreMatrix_file))\n",
    "    model_history_file_polar = os.path.join(resultsdir,'models_history/round_'+ str(i) +'/polar_history.npy')\n",
    "    model_history_file_carte = os.path.join(resultsdir,'models_history/round_'+ str(i) +'/carte_history.npy')\n",
    "    model_history_polar = np.load(model_history_file_polar)\n",
    "    model_history_carte = np.load(model_history_file_carte)\n",
    "    model_loss_num = []\n",
    "    for i in range(5):\n",
    "        current_model = model_history_polar[i][:]\n",
    "        model_loss_num.append(np.min(current_model))\n",
    "    for i in range(5):\n",
    "        current_model = model_history_carte[i][:]\n",
    "        model_loss_num.append(np.min(current_model))\n",
    "    #print(model_loss_num)\n",
    "    picked_score = np.zeros(scoreMatrix[:,0].shape)\n",
    "    weighted_score = np.zeros(scoreMatrix[:,0].shape)\n",
    "    i = 0\n",
    "    for each_row in scoreMatrix:\n",
    "        first_zero = np.where(each_row == 0)[0][0]\n",
    "        if first_zero >= 5:\n",
    "            chosen = max(each_row[5:])\n",
    "        else:\n",
    "            chosen = max(each_row[:5])\n",
    "        \n",
    "        if ifFirstRound:\n",
    "            if chosen < check_Threshold:\n",
    "                picked_score[i] = chosen\n",
    "                index_below_threshold.append(True)\n",
    "            else:\n",
    "                picked_score[i] = 0\n",
    "                index_below_threshold.append(False)\n",
    "        else:\n",
    "            if not index_below_threshold[i]:\n",
    "                picked_score[i] = 0\n",
    "            else:\n",
    "                if chosen > check_Threshold:\n",
    "                    picked_score[i] = 0\n",
    "                    index_below_threshold[i] = False\n",
    "                else:\n",
    "                    picked_score[i] = chosen\n",
    "        #print(each_row)\n",
    "        #print(chosen)\n",
    "        picked_index = np.where(each_row == chosen)[0][0]\n",
    "        #print(picked_index)\n",
    "        picked_loss = model_loss_num[picked_index]\n",
    "        weighted_score[i] = chosen * (1 - picked_loss)\n",
    "        i += 1\n",
    "    ifFirstRound = False\n",
    "    #print(picked_score)\n",
    "    plt.plot(np.sort(picked_score))\n",
    "    plt.legend([1,2,3,4,5,6,7,8,9,10])\n",
    "    print(np.sum(index_below_threshold))\n",
    "\n",
    "    "
   ]
  },
  {
   "cell_type": "markdown",
   "metadata": {},
   "source": [
    "2.1. After getting the index, load other histories to see if those images are consistently BAD regardless of the round\n"
   ]
  },
  {
   "cell_type": "code",
   "execution_count": 5,
   "metadata": {},
   "outputs": [
    {
     "name": "stdout",
     "output_type": "stream",
     "text": [
      "190\n"
     ]
    },
    {
     "data": {
      "image/png": "[encoded data removed]",
      "text/plain": [
       "<Figure size 432x288 with 1 Axes>"
      ]
     },
     "metadata": {
      "needs_background": "light"
     },
     "output_type": "display_data"
    }
   ],
   "source": [
    "anotherresultdir = 'history_results/results20231202/'\n",
    "\n",
    "for i in range(5):\n",
    "    x_range = 7404\n",
    "    scoreMatrix_file = 'scorematrix/scorematrix_round_' + str(i) + '.npy'\n",
    "    scoreMatrix = np.load(os.path.join(anotherresultdir, scoreMatrix_file))\n",
    "    model_history_file_polar = os.path.join(anotherresultdir,'models_history/round_'+ str(i) +'/polar_history.npy')\n",
    "    model_history_file_carte = os.path.join(anotherresultdir,'models_history/round_'+ str(i) +'/carte_history.npy')\n",
    "    model_history_polar = np.load(model_history_file_polar)\n",
    "    model_history_carte = np.load(model_history_file_carte)\n",
    "    model_loss_num = []\n",
    "    for i in range(5):\n",
    "        current_model = model_history_polar[i][:]\n",
    "        model_loss_num.append(np.min(current_model))\n",
    "    for i in range(5):\n",
    "        current_model = model_history_carte[i][:]\n",
    "        model_loss_num.append(np.min(current_model))\n",
    "    #print(model_loss_num)\n",
    "    picked_score = np.zeros(scoreMatrix[:,0].shape)\n",
    "    weighted_score = np.zeros(scoreMatrix[:,0].shape)\n",
    "    i = 0\n",
    "    for each_row in scoreMatrix:\n",
    "        first_zero = np.where(each_row == 0)[0][0]\n",
    "        if first_zero >= 5:\n",
    "            chosen = max(each_row[5:])\n",
    "        else:\n",
    "            chosen = max(each_row[:5])\n",
    "        \n",
    "        if ifFirstRound:\n",
    "            if chosen < check_Threshold:\n",
    "                picked_score[i] = chosen\n",
    "                index_below_threshold.append(True)\n",
    "            else:\n",
    "                picked_score[i] = 0\n",
    "                index_below_threshold.append(False)\n",
    "        else:\n",
    "            if not index_below_threshold[i]:\n",
    "                picked_score[i] = 0\n",
    "            else:\n",
    "                if chosen > check_Threshold:\n",
    "                    picked_score[i] = 0\n",
    "                    index_below_threshold[i] = False\n",
    "                else:\n",
    "                    picked_score[i] = chosen\n",
    "\n",
    "        #print(each_row)\n",
    "        #print(chosen)\n",
    "        picked_index = np.where(each_row == chosen)[0][0]\n",
    "        #print(picked_index)\n",
    "        picked_loss = model_loss_num[picked_index]\n",
    "        weighted_score[i] = chosen * (1 - picked_loss)\n",
    "        i += 1\n",
    "    ifFirstRound = False\n",
    "    #print(picked_score)\n",
    "    plt.plot(np.sort(picked_score))\n",
    "    plt.legend([1,2,3,4,5,6,7,8,9,10])\n",
    "print(np.sum(index_below_threshold))"
   ]
  },
  {
   "cell_type": "code",
   "execution_count": 11,
   "metadata": {},
   "outputs": [],
   "source": [
    "np.save('picked_index.npy',index_below_threshold)"
   ]
  },
  {
   "cell_type": "code",
   "execution_count": 6,
   "metadata": {},
   "outputs": [
    {
     "name": "stdout",
     "output_type": "stream",
     "text": [
      "190\n",
      "7126\n",
      "20\n",
      "30\n",
      "37\n",
      "57\n",
      "84\n",
      "96\n",
      "105\n",
      "123\n",
      "140\n",
      "141\n",
      "156\n",
      "205\n",
      "230\n",
      "249\n",
      "281\n",
      "299\n",
      "306\n",
      "316\n",
      "379\n",
      "391\n",
      "470\n",
      "617\n",
      "623\n",
      "630\n",
      "686\n",
      "781\n",
      "825\n",
      "842\n",
      "845\n",
      "883\n",
      "973\n",
      "1003\n",
      "1018\n",
      "1020\n",
      "1022\n",
      "1035\n",
      "1051\n",
      "1052\n",
      "1078\n",
      "1082\n",
      "1149\n",
      "1167\n",
      "1204\n",
      "1210\n",
      "1232\n",
      "1352\n",
      "1356\n",
      "1400\n",
      "1401\n",
      "1440\n",
      "1459\n",
      "1575\n",
      "1580\n",
      "1587\n",
      "1635\n",
      "1641\n",
      "1729\n",
      "1736\n",
      "1766\n",
      "1796\n",
      "1801\n",
      "1829\n",
      "1893\n",
      "2026\n",
      "2030\n",
      "2120\n",
      "2185\n",
      "2209\n",
      "2246\n",
      "2260\n",
      "2263\n",
      "2287\n",
      "2291\n",
      "2328\n",
      "2377\n",
      "2425\n",
      "2455\n",
      "2478\n",
      "2589\n",
      "2590\n",
      "2603\n",
      "2621\n",
      "2697\n",
      "2736\n",
      "2760\n",
      "2821\n",
      "2825\n",
      "2852\n",
      "2880\n",
      "2888\n",
      "2897\n",
      "2956\n",
      "2958\n",
      "2968\n",
      "2983\n",
      "3006\n",
      "3017\n",
      "3042\n",
      "3053\n",
      "3074\n",
      "3151\n",
      "3311\n",
      "3354\n",
      "3357\n",
      "3376\n",
      "3470\n",
      "3529\n",
      "3539\n",
      "3552\n",
      "3580\n",
      "3586\n",
      "3590\n",
      "3605\n",
      "3633\n",
      "3682\n",
      "3734\n",
      "3739\n",
      "3911\n",
      "3930\n",
      "4000\n",
      "4005\n",
      "4025\n",
      "4043\n",
      "4045\n",
      "4052\n",
      "4142\n",
      "4153\n",
      "4162\n",
      "4220\n",
      "4268\n",
      "4486\n",
      "4534\n",
      "4563\n",
      "4597\n",
      "4698\n",
      "4775\n",
      "4922\n",
      "4947\n",
      "4958\n",
      "4999\n",
      "5001\n",
      "5047\n",
      "5085\n",
      "5089\n",
      "5132\n",
      "5198\n",
      "5208\n",
      "5209\n",
      "5365\n",
      "5397\n",
      "5503\n",
      "5570\n",
      "5622\n",
      "5668\n",
      "5689\n",
      "5722\n",
      "5730\n",
      "5791\n",
      "5817\n",
      "5851\n",
      "5868\n",
      "6012\n",
      "6029\n",
      "6067\n",
      "6104\n",
      "6187\n",
      "6210\n",
      "6267\n",
      "6274\n",
      "6309\n",
      "6363\n",
      "6474\n",
      "6484\n",
      "6563\n",
      "6663\n",
      "6667\n",
      "6695\n",
      "6713\n",
      "6730\n",
      "6786\n",
      "6805\n",
      "6913\n",
      "6914\n",
      "6933\n",
      "6966\n",
      "6998\n",
      "7000\n",
      "7089\n",
      "7097\n",
      "7108\n"
     ]
    }
   ],
   "source": [
    "print(np.sum(index_below_threshold))\n",
    "print(np.size(index_below_threshold))\n",
    "for i in range(np.size(index_below_threshold)):\n",
    "    if index_below_threshold[i]:\n",
    "        print(i)"
   ]
  },
  {
   "cell_type": "markdown",
   "id": "979a8e52",
   "metadata": {},
   "source": [
    "3. Example for plotting the difference of difference of, for each image, the maximum score it got and the average\n",
    "\n",
    "PS> I know you can do better than my hard-coded method"
   ]
  },
  {
   "cell_type": "code",
   "execution_count": 68,
   "id": "6b1e4fc8",
   "metadata": {},
   "outputs": [
    {
     "data": {
      "text/plain": [
       "[<matplotlib.lines.Line2D at 0x7f8b93068bd0>]"
      ]
     },
     "execution_count": 68,
     "metadata": {},
     "output_type": "execute_result"
    },
    {
     "data": {
      "image/png": "[encoded data removed]",
      "text/plain": [
       "<Figure size 432x288 with 1 Axes>"
      ]
     },
     "metadata": {
      "needs_background": "light"
     },
     "output_type": "display_data"
    }
   ],
   "source": [
    "scoreMatrix_0 = np.load(os.path.join(resultsdir, ('scorematrix/scorematrix_round_0.npy')))\n",
    "scoreMatrix_1 = np.load(os.path.join(resultsdir, ('scorematrix/scorematrix_round_1.npy')))\n",
    "scoreMatrix_2 = np.load(os.path.join(resultsdir, ('scorematrix/scorematrix_round_2.npy')))\n",
    "scoreMatrix_3 = np.load(os.path.join(resultsdir, ('scorematrix/scorematrix_round_3.npy')))\n",
    "\n",
    "dif = []\n",
    "for i in range(scoreMatrix.shape[0]):\n",
    "    fst = np.max(scoreMatrix_0[i]).item(0)\n",
    "    snd = np.max(scoreMatrix_1[i]).item(0)\n",
    "    trd = np.max(scoreMatrix_2[i]).item(0)\n",
    "    fth = np.max(scoreMatrix_3[i]).item(0)\n",
    "    #print(fst,snd,trd,fth)\n",
    "    max_f = max(fst,snd,trd,fth)\n",
    "    avg = (fst+snd+trd+fth)/4\n",
    "    dif.append(max_f - avg)\n",
    "    \n",
    "dif_np = np.asarray(dif)\n",
    "plt.plot(np.sort(dif_np))"
   ]
  },
  {
   "cell_type": "markdown",
   "metadata": {},
   "source": [
    "### This following method is used to pick the interested round and see how many of them are moving around in our method"
   ]
  },
  {
   "cell_type": "code",
   "execution_count": 7,
   "id": "4b8d3228",
   "metadata": {},
   "outputs": [
    {
     "name": "stdout",
     "output_type": "stream",
     "text": [
      "[91, 33, 40, 14, 59]\n",
      "[367, 536, 584, 369, 514]\n"
     ]
    },
    {
     "data": {
      "text/plain": [
       "<matplotlib.legend.Legend at 0x7f6471180d10>"
      ]
     },
     "execution_count": 7,
     "metadata": {},
     "output_type": "execute_result"
    },
    {
     "data": {
      "image/png": "[encoded data removed]",
      "text/plain": [
       "<Figure size 432x288 with 1 Axes>"
      ]
     },
     "metadata": {
      "needs_background": "light"
     },
     "output_type": "display_data"
    }
   ],
   "source": [
    "ch_plot = []\n",
    "ph_plot = []\n",
    "for interested_round in range(5):\n",
    "    scoreMatrix_file = 'scorematrix/scorematrix_round_' + str(interested_round) + '.npy'\n",
    "    history_file_path= 'history/history_round_' + str(interested_round) + '.npy'\n",
    "    history_file = os.path.join(resultsdir,history_file_path)\n",
    "    history = np.load(history_file)\n",
    "    scorematrix = np.load(os.path.join(resultsdir, scoreMatrix_file))\n",
    "    history_slice = history[:,interested_round]\n",
    "    diff = np.zeros(7126)\n",
    "    Transition_threshold = 0.3\n",
    "    ch = 0\n",
    "    ph = 0\n",
    "    for i in range(7126):\n",
    "        if history_slice[i]:\n",
    "            polar_score = np.max(scorematrix[i][:5])\n",
    "            carte_score = np.median(scorematrix[i][5:])\n",
    "            #print(carte_score,polar_score)\n",
    "            if carte_score > polar_score:\n",
    "                #print('Carte-higher')\n",
    "                dif = polar_score - carte_score\n",
    "                if abs(dif) > Transition_threshold:\n",
    "                    ch += 1\n",
    "                    #print(scorematrix[i])\n",
    "                    diff[i] = dif\n",
    "                #decision[i] = 1\n",
    "        else:\n",
    "            polar_score = np.median(scorematrix[i][:5])\n",
    "            carte_score = np.max(scorematrix[i][5:])\n",
    "            #print(carte_score,polar_score)\n",
    "            if carte_score < polar_score:\n",
    "                #print('Polar-higer')\n",
    "                dif = polar_score - carte_score\n",
    "                if abs(dif) > Transition_threshold:\n",
    "                    ph += 1\n",
    "                    #print(scorematrix[i])\n",
    "                    diff[i] = dif\n",
    "                    #decision[i] = -1\n",
    "        \n",
    "    #print(ch, ph)\n",
    "    ch_plot.append(ch)\n",
    "    ph_plot.append(ph)\n",
    "\n",
    "plt.plot(ch_plot)\n",
    "plt.plot(ph_plot)\n",
    "print(ch_plot)\n",
    "print(ph_plot)\n",
    "plt.legend(['P2C','C2P'])"
   ]
  },
  {
   "cell_type": "markdown",
   "metadata": {},
   "source": [
    "### This following chunk checks the predicted 956 images. This is only available for results generated after Nov.13 2023"
   ]
  },
  {
   "cell_type": "code",
   "execution_count": 9,
   "metadata": {},
   "outputs": [],
   "source": [
    "def dice_coefficient_carte(image1, image2):#Generate the Dice coefficient of two binary images, should do thresholding before inputting\n",
    "    # Ensure the input images have the same shape\n",
    "    smooth = 1\n",
    "    if image1.shape != image2.shape:\n",
    "        raise ValueError(\"Input images must have the same shape.\")\n",
    "    image1 = np.matrix(image1)\n",
    "    image2 = np.matrix(image2)\n",
    "    img1_f = (~image1.astype(bool)).astype(int)\n",
    "    img2_f = (~image2.astype(bool)).astype(int)\n",
    "    # Calculate the intersection (logical AND) between the two binary images\n",
    "    intersection_o = np.logical_and(image1, image2).sum()\n",
    "    intersection_f = np.logical_and(img1_f, img2_f).sum()\n",
    "    #print(intersection_o,intersection_f)\n",
    "    # Calculate the sum of pixels in each image\n",
    "    sum_image1_o = image1.sum()\n",
    "    sum_image2_o = image2.sum()\n",
    "    #print(sum_image1_o,sum_image2_o)\n",
    "    sum_image1_f = img1_f.sum()\n",
    "    sum_image2_f = img2_f.sum()\n",
    "    #print(sum_image1_f,sum_image2_f)\n",
    "   \n",
    "    # Calculate the Dice coefficient\n",
    "    dice = (2.0 * intersection_o + smooth) / (sum_image1_o + sum_image2_o + smooth)\n",
    "    #print('dice',dice)\n",
    "    dice_f = (2.0 * (intersection_f - 14616) + smooth) / (sum_image1_f + sum_image2_f + smooth - 29232) #Hard-coded numbers here, need to prove \n",
    "    #print('dice_f',dice_f)\n",
    "    dice_avg = (dice + dice_f) / 2.0\n",
    "    #print('dice_avg', dice_avg)\n",
    "    return dice_avg"
   ]
  },
  {
   "cell_type": "code",
   "execution_count": 12,
   "metadata": {},
   "outputs": [
    {
     "name": "stdout",
     "output_type": "stream",
     "text": [
      "1.0 2.0 1.0\n",
      "1.0006026348474468 1.950902755782149 -8.922063949939155\n",
      "1.0024134473682718 1.9017463004610655 -38.63776193393591\n",
      "1.00544119135783 1.8524711369551015 -88.29056687837559\n",
      "1.0097005565352637 1.8030171932856716 -158.12120052393828\n",
      "1.0152123204933219 1.7533235277265227 -248.47012311436634\n",
      "1.0220035651989767 1.7033280249233052 -359.781080629913\n",
      "1.030107961938772 1.6529670797242884 -492.60577336317886\n",
      "1.03956612989658 1.602175265240684 -647.6097308304301\n",
      "1.0504260749907126 1.5508849813657415 -825.579501591479\n",
      "1.0627437172258807 1.499026079617389 -1027.4312932319851\n",
      "1.0765835166847686 1.4465254597191715 -1254.221228386845\n",
      "1.092019210455573 1.3933066327853152 -1507.1574182608688\n",
      "1.1091346753403173 1.339289245311332 -1787.6140968551065\n",
      "1.128024934205407 1.284388557370952 -2097.14810852981\n",
      "1.1487973274334302 1.2285148674577577 -2437.5181004744313\n",
      "1.17157287525381 1.17157287525381 -2810.706842407914\n",
      "1.1964878619450432 1.1134609722182713 -3218.947181273424\n",
      "1.2236956792339264 1.0540704482173602 -3664.7522424412\n",
      "1.2533689739472365 0.9932846004014115 -4150.950615577172\n",
      "1.2857021544554055 0.9309777280984168 -4680.727418714811\n",
      "1.3209143221424415 0.867013994539312 -5257.67232566508\n",
      "1.359252708629945 0.8012461326361526 -5885.835879351755\n",
      "1.400996717537665 0.7335139676448619 -6569.795709451921\n",
      "1.4464626921716894 0.6636427241614022 -7314.734643124628\n",
      "1.4960095589963573 0.5914410782699115 -8126.533163959052\n",
      "1.5500455327856084 0.5166989074559292 -9011.87926471917\n",
      "1.6090361152465453 0.4391846806921129 -9978.39949140346\n",
      "1.673513677715992 0.3586424183426795 -11034.815939602753\n",
      "1.7440889943645193 0.27478813548652026 -12191.135206538433\n",
      "1.8214651907890222 0.18730566196170595 -13458.87691503459\n",
      "1.9064547015827618 0.09584170659814961 -14851.351534323789\n",
      "1.9999999999999998 2.220446049250313e-16 -16383.999999999996\n",
      "2.103199087890325 -0.10066569247971957 -18074.81132259967\n",
      "2.217337035352032 -0.2066599514669516 -19944.83931012381\n",
      "2.343925266431387 -0.318555814666869 -22018.846195760085\n",
      "2.484750841870328 -0.43700705117595273 -24326.11004941276\n",
      "2.6419387536569765 -0.5627631600731089 -26901.445364322324\n",
      "2.818031309036683 -0.6966878269734398 -29786.503623774952\n",
      "3.01609017782527 -0.8397818069881846 -33031.445165118384\n",
      "3.2398288088435496 -0.9932115253309779 -36697.108586809205\n",
      "3.49378599939804 -1.1583451359204173 -40857.85437327401\n",
      "3.7835559091916773 -1.3367984111670141 -45605.33325869842\n",
      "4.1160965123773385 -1.5304937401883825 -51053.539656018125\n",
      "4.50014861423135 -1.7417368235787776 -57345.67648377579\n",
      "4.946813157195198 -1.97331758468673 -64663.61327191361\n",
      "5.470359031630039 -2.22864471509728 -73241.12065991003\n",
      "6.089372901211047 -2.5119277038583174 -83382.70816824444\n",
      "6.82842712474619 -2.82842712474619 -95490.95001184157\n",
      "7.7205508139746915 -3.184805035476143 -110106.96879038285\n",
      "8.810978433275906 -3.5896255449809535 -127971.84929790413\n",
      "10.162990560806412 -4.054086408635547 -150122.32844410007\n",
      "11.86729602491863 -4.593116417876642 -178044.5038926598\n",
      "14.057640120081938 -5.227071362614856 -213929.54515866502\n",
      "16.937850739699517 -5.984447567540165 -261116.7931160647\n",
      "20.831010051529457 -6.906404448828821 -324899.34407865594\n",
      "26.274142369088164 -8.054678984251693 -414075.32911175565\n",
      "34.21380577116479 -9.526284010237609 -544152.306233003\n",
      "46.447180534475535 -11.482904810829977 -744573.6416011235\n",
      "66.73619063830472 -14.215571607353805 -1076971.2267989535\n",
      "104.08686891981709 -18.306340775217684 -1688891.4798541386\n",
      "184.78328094654415 -25.11333848470484 -3010947.6050857175\n",
      "415.3450622318997 -38.710935249974284 -6788254.865480463\n",
      "1660.3796462927621 -79.47096774416669 -27185697.216182064\n",
      "2.6670937881135714e+32 -3.2662478706390736e+16 -4.369499753066464e+36\n",
      "1660.3796462927783 83.47096774416708 -27185534.27424684\n",
      "415.3450622319017 42.71093524997438 -6788173.443609996\n",
      "184.78328094654478 29.113338484704887 -3010893.3784087584\n",
      "104.08686891981738 22.306340775217713 -1688850.8671725928\n",
      "66.73619063830483 18.21557160735382 -1076938.7956557407\n",
      "46.447180534475606 15.482904810829988 -744546.675791503\n",
      "34.21380577116484 13.526284010237617 -544129.2536649834\n",
      "26.2741423690882 12.0546789842517 -414055.21975378774\n",
      "20.83101005152948 10.906404448828827 -324881.5312697586\n",
      "16.937850739699527 9.984447567540169 -261100.82422092985\n",
      "14.05764012008195 9.22707136261486 -213915.09101593998\n",
      "11.867296024918643 8.593116417876645 -178031.31765982424\n",
      "10.16299056080642 8.054086408635548 -150110.22027128295\n",
      "8.810978433275913 7.589625544980956 -127960.67004681431\n",
      "7.720550813974696 7.184805035476145 -110096.59918031197\n",
      "6.828427124746192 6.828427124746191 -95481.29315759211\n",
      "6.089372901211052 6.511927703858319 -83373.6843128368\n",
      "5.470359031630047 6.228644715097284 -73232.66337047996\n",
      "4.946813157195196 5.973317584686729 -64655.6666367442\n",
      "4.500148614231353 5.741736823578779 -57338.19301012867\n",
      "4.116096512377339 5.530493740188383 -51046.47866853777\n",
      "3.783555909191679 5.336798411167015 -45598.65966187611\n",
      "3.4937859993980434 5.1583451359204195 -40851.53768300222\n",
      "3.239828808843553 4.99321152533098 -36691.1221637586\n",
      "3.01609017782527 4.839781806988185 -33025.765601504405\n",
      "2.8180313090366846 4.696687826973441 -29781.11024812103\n",
      "2.641938753656978 4.56276316007311 -26896.319838002193\n",
      "2.484750841870329 4.437007051175954 -24321.236035310427\n",
      "2.3439252664313894 4.318555814666871 -22014.209084130784\n",
      "2.217337035352032 4.206659951466952 -19940.425990220872\n",
      "2.103199087890325 4.100665692479719 -18070.60999121471\n",
      "2.0000000000000004 4.0 -16380.000000000007\n",
      "1.9064547015827626 3.904158293401851 -14847.543217736998\n",
      "1.8214651907890231 3.812694338038295 -13455.25152635853\n",
      "1.7440889943645193 3.7252118645134793 -12187.684782809403\n",
      "1.673513677715992 3.6413575816573207 -11031.53322443944\n",
      "1.6090361152465458 3.5608153193078875 -9975.27786076485\n",
      "1.5500455327856089 3.483301092544071 -9008.912662534085\n",
      "1.4960095589963578 3.408558921730089 -8123.716046115601\n",
      "1.4464626921716894 3.3363572758385978 -7312.061928572948\n",
      "1.400996717537665 3.266486032355138 -6567.26273738721\n",
      "1.3592527086299453 3.1987538673638474 -5883.43837161703\n",
      "1.3209143221424418 3.1329860054606886 -5255.406353654163\n",
      "1.285702154455406 3.069022271901584 -4678.589374171014\n",
      "1.253368973947237 3.0067153995985896 -4148.937184777983\n",
      "1.2236956792339264 2.9459295517826396 -3662.8603833376337\n",
      "1.1964878619450432 2.886539027781729 -3217.1741032178616\n",
      "1.1715728752538102 2.8284271247461903 -2809.0499881584237\n",
      "1.1487973274334307 2.771485132542243 -2435.9751302093505\n",
      "1.1280249342054072 2.715611442629049 -2095.7168856445555\n",
      "1.1091346753403173 2.660710754688668 -1786.2926753457282\n",
      "1.092019210455573 2.606693367214685 -1505.9440315264394\n",
      "1.0765835166847688 2.553474540280829 -1253.114279306285\n",
      "1.0627437172258807 2.500973920382611 -1026.4293453912212\n",
      "1.0504260749907128 2.4491150186342594 -824.6812715542126\n",
      "1.0395661298965801 2.397824734759317 -646.8140813609137\n",
      "1.030107961938772 2.3470329202757116 -491.9117075226273\n",
      "1.0220035651989767 2.296671975076695 -359.1877366797599\n",
      "1.0152123204933219 2.2466764722734776 -247.97677016982\n",
      "1.0097005565352637 2.196982806714329 -157.7272349105104\n",
      "1.00544119135783 2.147528863044899 -87.99550915228656\n",
      "1.0024134473682718 2.0982536995389345 -38.44125453485797\n",
      "1.0006026348474468 2.049097244217851 -8.823869461503483\n",
      "1.0 2.0000000000000004 1.0000000000000002\n",
      "1.0006026348474468 1.9509027557821494 -8.922063949938986\n",
      "1.0024134473682718 1.901746300461066 -38.637761933935444\n",
      "1.00544119135783 1.8524711369551012 -88.29056687837574\n",
      "1.0097005565352637 1.8030171932856716 -158.12120052393826\n",
      "1.0152123204933219 1.753323527726523 -248.47012311436595\n",
      "1.0220035651989767 1.7033280249233056 -359.7810806299121\n",
      "1.030107961938772 1.652967079724289 -492.60577336317726\n",
      "1.0395661298965801 1.6021752652406838 -647.6097308304305\n",
      "1.0504260749907126 1.5508849813657413 -825.5795015914792\n",
      "1.0627437172258807 1.4990260796173893 -1027.4312932319847\n",
      "1.0765835166847686 1.4465254597191717 -1254.2212283868441\n",
      "1.092019210455573 1.3933066327853156 -1507.157418260866\n",
      "1.109134675340317 1.339289245311333 -1787.6140968551024\n",
      "1.128024934205407 1.2843885573709517 -2097.1481085298105\n",
      "1.1487973274334302 1.2285148674577577 -2437.5181004744313\n",
      "1.1715728752538097 1.1715728752538102 -2810.7068424079116\n",
      "1.196487861945043 1.113460972218272 -3218.94718127342\n",
      "1.2236956792339262 1.0540704482173608 -3664.752242441195\n",
      "1.2533689739472365 0.9932846004014113 -4150.950615577174\n",
      "1.2857021544554055 0.9309777280984168 -4680.727418714811\n",
      "1.3209143221424413 0.8670139945393123 -5257.672325665078\n",
      "1.3592527086299449 0.8012461326361531 -5885.83587935175\n",
      "1.4009967175376645 0.7335139676448625 -6569.795709451914\n",
      "1.446462692171689 0.6636427241614031 -7314.734643124619\n",
      "1.4960095589963573 0.5914410782699115 -8126.533163959052\n",
      "1.5500455327856082 0.5166989074559296 -9011.879264719164\n",
      "1.6090361152465449 0.43918468069211336 -9978.399491403454\n",
      "1.6735136777159914 0.3586424183426802 -11034.815939602744\n",
      "1.7440889943645184 0.27478813548652137 -12191.135206538418\n",
      "1.8214651907890225 0.18730566196170573 -13458.876915034594\n",
      "1.9064547015827618 0.09584170659814961 -14851.351534323789\n",
      "1.9999999999999993 6.661338147750939e-16 -16383.999999999989\n",
      "2.103199087890324 -0.10066569247971868 -18074.811322599657\n",
      "2.2173370353520303 -0.20665995146694982 -19944.839310123778\n",
      "2.343925266431386 -0.31855581466686766 -22018.84619576006\n",
      "2.484750841870325 -0.43700705117595007 -24326.11004941271\n",
      "2.6419387536569734 -0.5627631600731062 -26901.44536432227\n",
      "2.8180313090366855 -0.6966878269734416 -29786.503623774992\n",
      "3.0160901778252716 -0.8397818069881859 -33031.44516511841\n",
      "3.2398288088435505 -0.9932115253309783 -36697.10858680922\n",
      "3.4937859993980407 -1.1583451359204178 -40857.85437327402\n",
      "3.783555909191676 -1.3367984111670133 -45605.333258698396\n",
      "4.116096512377337 -1.5304937401883816 -51053.539656018096\n",
      "4.500148614231348 -1.7417368235787767 -57345.67648377576\n",
      "4.946813157195191 -1.9733175846867264 -64663.61327191349\n",
      "5.470359031630032 -2.2286447150972766 -73241.12065990991\n",
      "6.089372901211033 -2.511927703858311 -83382.70816824421\n",
      "6.82842712474617 -2.828427124746182 -95490.95001184125\n",
      "7.720550813974706 -3.184805035476148 -110106.96879038308\n",
      "8.81097843327591 -3.5896255449809553 -127971.84929790422\n",
      "10.16299056080642 -4.054086408635549 -150122.32844410022\n",
      "11.867296024918621 -4.593116417876639 -178044.50389265965\n",
      "14.057640120081924 -5.227071362614852 -213929.54515866478\n",
      "16.9378507396995 -5.984447567540161 -261116.79311606442\n",
      "20.831010051529393 -6.906404448828807 -324899.3440786549\n",
      "26.27414236908807 -8.054678984251675 -414075.32911175414\n",
      "34.21380577116466 -9.526284010237585 -544152.3062330008\n",
      "46.44718053447517 -11.482904810829924 -744573.6416011176\n",
      "66.73619063830506 -14.215571607353848 -1076971.226798959\n",
      "104.08686891981777 -18.306340775217752 -1688891.4798541497\n",
      "184.78328094654464 -25.113338484704876 -3010947.6050857254\n",
      "415.3450622319013 -38.71093524997436 -6788254.865480489\n",
      "1660.3796462927453 -79.47096774416627 -27185697.21618179\n",
      "2.963437542348412e+31 -1.0887492902130244e+16 -4.8549997256294035e+35\n",
      "1660.379646292795 83.4709677441675 -27185534.274247117\n",
      "415.3450622319075 42.71093524997467 -6788173.443610091\n",
      "184.7832809465465 29.113338484705015 -3010893.378408787\n",
      "104.08686891981857 22.30634077521783 -1688850.8671726123\n",
      "66.73619063830544 18.215571607353894 -1076938.7956557507\n",
      "46.4471805344754 15.482904810829957 -744546.6757914997\n",
      "34.2138057711648 13.52628401023761 -544129.2536649827\n",
      "26.27414236908817 12.054678984251694 -414055.21975378727\n",
      "20.831010051529464 10.906404448828823 -324881.53126975836\n",
      "16.93785073969955 9.984447567540172 -261100.82422093014\n",
      "14.057640120081963 9.227071362614863 -213915.09101594018\n",
      "11.867296024918652 8.593116417876647 -178031.3176598244\n",
      "10.162990560806442 8.054086408635555 -150110.2202712833\n",
      "8.810978433275928 7.5896255449809615 -127960.67004681454\n",
      "7.720550813974719 7.1848050354761535 -110096.59918031235\n",
      "6.828427124746183 6.828427124746187 -95481.29315759196\n",
      "6.089372901211044 6.511927703858316 -83373.68431283667\n",
      "5.470359031630039 6.22864471509728 -73232.66337047983\n",
      "4.946813157195198 5.97331758468673 -64655.66663674423\n",
      "4.500148614231354 5.74173682357878 -57338.19301012869\n",
      "4.116096512377343 5.530493740188385 -51046.47866853781\n",
      "3.7835559091916804 5.336798411167016 -45598.65966187613\n",
      "3.4937859993980447 5.15834513592042 -40851.53768300224\n",
      "3.2398288088435545 4.993211525330981 -36691.12216375862\n",
      "3.0160901778252747 4.839781806988189 -33025.765601504485\n",
      "2.8180313090366886 4.696687826973443 -29781.1102481211\n",
      "2.6419387536569756 4.562763160073108 -26896.319838002157\n",
      "2.4847508418703277 4.437007051175952 -24321.2360353104\n",
      "2.3439252664313877 4.318555814666869 -22014.209084130758\n",
      "2.217337035352032 4.206659951466952 -19940.42599022088\n",
      "2.103199087890326 4.100665692479721 -18070.60999121473\n",
      "2.000000000000001 4.000000000000001 -16380.000000000015\n",
      "1.9064547015827633 3.904158293401852 -14847.54321773701\n",
      "1.8214651907890236 3.8126943380382956 -13455.251526358537\n",
      "1.7440889943645208 3.7252118645134815 -12187.68478280943\n",
      "1.6735136777159934 3.6413575816573225 -11031.533224439463\n",
      "1.609036115246547 3.5608153193078893 -9975.277860764872\n",
      "1.550045532785608 3.48330109254407 -9008.912662534072\n",
      "1.4960095589963571 3.408558921730088 -8123.71604611559\n",
      "1.4464626921716894 3.3363572758385978 -7312.06192857295\n",
      "1.4009967175376652 3.2664860323551386 -6567.262737387215\n",
      "1.3592527086299455 3.1987538673638483 -5883.438371617033\n",
      "1.3209143221424418 3.1329860054606886 -5255.406353654164\n",
      "1.2857021544554061 3.0690222719015843 -4678.589374171016\n",
      "1.253368973947237 3.0067153995985896 -4148.937184777985\n",
      "1.223695679233927 2.945929551782641 -3662.860383337644\n",
      "1.1964878619450439 2.88653902778173 -3217.174103217871\n",
      "1.1715728752538106 2.8284271247461916 -2809.049988158432\n",
      "1.1487973274334302 2.7714851325422423 -2435.9751302093455\n",
      "1.1280249342054067 2.715611442629048 -2095.716885644551\n",
      "1.1091346753403173 2.660710754688668 -1786.2926753457293\n",
      "1.0920192104555733 2.6066933672146853 -1505.9440315264405\n",
      "1.0765835166847688 2.553474540280829 -1253.1142793062859\n",
      "1.062743717225881 2.5009739203826116 -1026.4293453912226\n",
      "1.0504260749907128 2.4491150186342594 -824.6812715542136\n",
      "1.0395661298965801 2.397824734759317 -646.8140813609145\n",
      "1.0301079619387723 2.3470329202757125 -491.9117075226306\n",
      "1.022003565198977 2.296671975076696 -359.18773667976274\n",
      "1.0152123204933219 2.246676472273477 -247.97677016981868\n",
      "1.0097005565352637 2.1969828067143284 -157.72723491050937\n",
      "1.00544119135783 2.1475288630448985 -87.99550915228579\n",
      "1.0024134473682718 2.0982536995389345 -38.44125453485817\n",
      "1.0006026348474468 2.049097244217851 -8.82386946150358\n"
     ]
    }
   ],
   "source": [
    "polar_prediction_file = 'polar_prediction.npy'\n",
    "carte_prediction_file = 'carte_prediction.npy'\n",
    "polar_prediction = np.load(os.path.join(resultsdir,polar_prediction_file))\n",
    "carte_prediction = np.load(os.path.join(resultsdir,carte_prediction_file))\n",
    "test_label_folder_path = 'data/endoscopic_test956/cartesian/label'\n",
    "count = 0\n",
    "trans_dic = p2c_dic_gen(127, 127, 256, 256)\n",
    "polar_dice = []\n",
    "carte_dice = []\n",
    "for prediction in [polar_prediction,carte_prediction]:\n",
    "    for i in range(956):\n",
    "        test_file_name = os.path.join(test_label_folder_path, (str(i) + '.tif'))\n",
    "        ground_truth_mask = cv2.imread(test_file_name, cv2.IMREAD_GRAYSCALE)\n",
    "        ground_truth_mask = ground_truth_mask / 255.0\n",
    "        ground_truth_mask = ground_truth_mask.astype(np.uint8)\n",
    "        current_prediction = prediction[i]\n",
    "        current_prediction = np.reshape(current_prediction,(256,256))\n",
    "        threshold = 0.5\n",
    "        current_prediction = (current_prediction > threshold).astype(np.uint8)\n",
    "        if count == 0:\n",
    "            current_prediction = p2c(current_prediction, trans_dic)\n",
    "            polar_dice.append(dice_coefficient_carte(ground_truth_mask,current_prediction))\n",
    "        else:\n",
    "            carte_dice.append(dice_coefficient_carte(ground_truth_mask,current_prediction))\n",
    "            \n",
    "        \n",
    "    count += 1\n",
    "polar_dice = np.asarray(polar_dice)\n",
    "carte_dice = np.asarray(carte_dice)"
   ]
  },
  {
   "cell_type": "code",
   "execution_count": 13,
   "metadata": {},
   "outputs": [
    {
     "data": {
      "text/plain": [
       "<matplotlib.legend.Legend at 0x7f72290f3150>"
      ]
     },
     "execution_count": 13,
     "metadata": {},
     "output_type": "execute_result"
    },
    {
     "data": {
      "image/png": "[encoded data removed]",
      "text/plain": [
       "<Figure size 432x288 with 1 Axes>"
      ]
     },
     "metadata": {
      "needs_background": "light"
     },
     "output_type": "display_data"
    }
   ],
   "source": [
    "polar_past_score_file = 'prev-analysis/analysis_dice_back_Test_P2C.npy'\n",
    "\n",
    "polar_past_score = np.load(polar_past_score_file)\n",
    "\n",
    "polar_performance_inc = polar_dice - polar_past_score\n",
    "plt.plot(np.sort(polar_dice))\n",
    "plt.plot(np.sort(polar_past_score))\n",
    "plt.plot(np.sort(polar_performance_inc))\n",
    "plt.legend(['new','past','dif'])"
   ]
  },
  {
   "cell_type": "code",
   "execution_count": 14,
   "metadata": {},
   "outputs": [
    {
     "data": {
      "text/plain": [
       "<matplotlib.legend.Legend at 0x7f722910fb10>"
      ]
     },
     "execution_count": 14,
     "metadata": {},
     "output_type": "execute_result"
    },
    {
     "data": {
      "image/png": "[encoded data removed]",
      "text/plain": [
       "<Figure size 432x288 with 1 Axes>"
      ]
     },
     "metadata": {
      "needs_background": "light"
     },
     "output_type": "display_data"
    }
   ],
   "source": [
    "carte_past_score_file = 'prev-analysis/analysis_dice_back_Test_C.npy'\n",
    "carte_past_score = np.load(carte_past_score_file)\n",
    "carte_performance_inc = carte_dice - carte_past_score\n",
    "plt.plot(np.sort(carte_dice))\n",
    "plt.plot(np.sort(carte_past_score))\n",
    "plt.plot(np.sort(carte_performance_inc))\n",
    "\n",
    "plt.legend(['new','past','dif'])"
   ]
  },
  {
   "cell_type": "markdown",
   "metadata": {},
   "source": [
    "### In order to have a fair comparison, a model shall be trained using the same machine to be the baseline of comparison."
   ]
  },
  {
   "cell_type": "code",
   "execution_count": 12,
   "metadata": {},
   "outputs": [
    {
     "name": "stderr",
     "output_type": "stream",
     "text": [
      "2023-11-30 15:19:03.390917: I tensorflow/stream_executor/cuda/cuda_gpu_executor.cc:975] successful NUMA node read from SysFS had negative value (-1), but there must be at least one NUMA node, so returning NUMA node zero\n",
      "2023-11-30 15:19:03.395035: I tensorflow/stream_executor/cuda/cuda_gpu_executor.cc:975] successful NUMA node read from SysFS had negative value (-1), but there must be at least one NUMA node, so returning NUMA node zero\n",
      "2023-11-30 15:19:03.395116: I tensorflow/stream_executor/cuda/cuda_gpu_executor.cc:975] successful NUMA node read from SysFS had negative value (-1), but there must be at least one NUMA node, so returning NUMA node zero\n",
      "2023-11-30 15:19:03.395437: I tensorflow/core/platform/cpu_feature_guard.cc:193] This TensorFlow binary is optimized with oneAPI Deep Neural Network Library (oneDNN) to use the following CPU instructions in performance-critical operations:  AVX2 AVX_VNNI FMA\n",
      "To enable them in other operations, rebuild TensorFlow with the appropriate compiler flags.\n",
      "2023-11-30 15:19:03.396106: I tensorflow/stream_executor/cuda/cuda_gpu_executor.cc:975] successful NUMA node read from SysFS had negative value (-1), but there must be at least one NUMA node, so returning NUMA node zero\n",
      "2023-11-30 15:19:03.396237: I tensorflow/stream_executor/cuda/cuda_gpu_executor.cc:975] successful NUMA node read from SysFS had negative value (-1), but there must be at least one NUMA node, so returning NUMA node zero\n",
      "2023-11-30 15:19:03.396276: I tensorflow/stream_executor/cuda/cuda_gpu_executor.cc:975] successful NUMA node read from SysFS had negative value (-1), but there must be at least one NUMA node, so returning NUMA node zero\n",
      "2023-11-30 15:19:03.737445: I tensorflow/stream_executor/cuda/cuda_gpu_executor.cc:975] successful NUMA node read from SysFS had negative value (-1), but there must be at least one NUMA node, so returning NUMA node zero\n",
      "2023-11-30 15:19:03.737533: I tensorflow/stream_executor/cuda/cuda_gpu_executor.cc:975] successful NUMA node read from SysFS had negative value (-1), but there must be at least one NUMA node, so returning NUMA node zero\n",
      "2023-11-30 15:19:03.737580: I tensorflow/stream_executor/cuda/cuda_gpu_executor.cc:975] successful NUMA node read from SysFS had negative value (-1), but there must be at least one NUMA node, so returning NUMA node zero\n",
      "2023-11-30 15:19:03.737627: I tensorflow/core/common_runtime/gpu/gpu_device.cc:1532] Created device /job:localhost/replica:0/task:0/device:GPU:0 with 21315 MB memory:  -> device: 0, name: NVIDIA GeForce RTX 4090, pci bus id: 0000:01:00.0, compute capability: 8.9\n"
     ]
    },
    {
     "name": "stdout",
     "output_type": "stream",
     "text": [
      "Found 7126 images belonging to 1 classes.\n",
      "Found 7126 images belonging to 1 classes.\n",
      "Epoch 1/5\n",
      "WARNING:tensorflow:AutoGraph could not transform <function Model.make_train_function.<locals>.train_function at 0x7f47b5b649e0> and will run it as-is.\n",
      "Please report this to the TensorFlow team. When filing the bug, set the verbosity to 10 (on Linux, `export AUTOGRAPH_VERBOSITY=10`) and attach the full output.\n",
      "Cause: 'arguments' object has no attribute 'posonlyargs'\n",
      "To silence this warning, decorate the function with @tf.autograph.experimental.do_not_convert\n",
      "WARNING: AutoGraph could not transform <function Model.make_train_function.<locals>.train_function at 0x7f47b5b649e0> and will run it as-is.\n",
      "Please report this to the TensorFlow team. When filing the bug, set the verbosity to 10 (on Linux, `export AUTOGRAPH_VERBOSITY=10`) and attach the full output.\n",
      "Cause: 'arguments' object has no attribute 'posonlyargs'\n",
      "To silence this warning, decorate the function with @tf.autograph.experimental.do_not_convert\n",
      "WARNING:tensorflow:AutoGraph could not transform <function dice_coef_loss at 0x7f4858b44050> and will run it as-is.\n",
      "Please report this to the TensorFlow team. When filing the bug, set the verbosity to 10 (on Linux, `export AUTOGRAPH_VERBOSITY=10`) and attach the full output.\n",
      "Cause: 'arguments' object has no attribute 'posonlyargs'\n",
      "To silence this warning, decorate the function with @tf.autograph.experimental.do_not_convert\n",
      "WARNING: AutoGraph could not transform <function dice_coef_loss at 0x7f4858b44050> and will run it as-is.\n",
      "Please report this to the TensorFlow team. When filing the bug, set the verbosity to 10 (on Linux, `export AUTOGRAPH_VERBOSITY=10`) and attach the full output.\n",
      "Cause: 'arguments' object has no attribute 'posonlyargs'\n",
      "To silence this warning, decorate the function with @tf.autograph.experimental.do_not_convert\n"
     ]
    },
    {
     "name": "stderr",
     "output_type": "stream",
     "text": [
      "2023-11-30 15:19:05.172103: I tensorflow/stream_executor/cuda/cuda_dnn.cc:384] Loaded cuDNN version 8101\n",
      "2023-11-30 15:19:05.644808: I tensorflow/core/platform/default/subprocess.cc:304] Start cannot spawn child process: No such file or directory\n",
      "2023-11-30 15:19:05.646050: W tensorflow/stream_executor/gpu/asm_compiler.cc:230] Falling back to the CUDA driver for PTX compilation; ptxas does not support CC 8.9\n",
      "2023-11-30 15:19:05.646058: W tensorflow/stream_executor/gpu/asm_compiler.cc:233] Used ptxas at /usr/local/cuda-11.2/bin/ptxas\n",
      "2023-11-30 15:19:05.646087: W tensorflow/stream_executor/gpu/redzone_allocator.cc:314] UNIMPLEMENTED: /usr/local/cuda-11.2/bin/ptxas ptxas too old. Falling back to the driver to compile.\n",
      "Relying on driver to perform ptx compilation. \n",
      "Modify $PATH to customize ptxas location.\n",
      "This message will be only logged once.\n"
     ]
    },
    {
     "name": "stdout",
     "output_type": "stream",
     "text": [
      "100/100 [==============================] - ETA: 0s - loss: 0.6320 - accuracy: 0.7132 - dice_coef_loss: 0.6320\n",
      "Epoch 1: loss improved from inf to 0.63198, saving model to ./big_model_carte.hdf5\n",
      "100/100 [==============================] - 9s 62ms/step - loss: 0.6320 - accuracy: 0.7132 - dice_coef_loss: 0.6320\n",
      "Epoch 2/5\n",
      "100/100 [==============================] - ETA: 0s - loss: 0.5362 - accuracy: 0.8248 - dice_coef_loss: 0.5362\n",
      "Epoch 2: loss improved from 0.63198 to 0.53620, saving model to ./big_model_carte.hdf5\n",
      "100/100 [==============================] - 6s 62ms/step - loss: 0.5362 - accuracy: 0.8248 - dice_coef_loss: 0.5362\n",
      "Epoch 3/5\n",
      "100/100 [==============================] - ETA: 0s - loss: 0.4786 - accuracy: 0.8595 - dice_coef_loss: 0.4786\n",
      "Epoch 3: loss improved from 0.53620 to 0.47862, saving model to ./big_model_carte.hdf5\n",
      "100/100 [==============================] - 6s 62ms/step - loss: 0.4786 - accuracy: 0.8595 - dice_coef_loss: 0.4786\n",
      "Epoch 4/5\n",
      "100/100 [==============================] - ETA: 0s - loss: 0.4864 - accuracy: 0.8557 - dice_coef_loss: 0.4864\n",
      "Epoch 4: loss did not improve from 0.47862\n",
      "100/100 [==============================] - 6s 57ms/step - loss: 0.4864 - accuracy: 0.8557 - dice_coef_loss: 0.4864\n",
      "Epoch 5/5\n",
      "100/100 [==============================] - ETA: 0s - loss: 0.4731 - accuracy: 0.8650 - dice_coef_loss: 0.4731\n",
      "Epoch 5: loss improved from 0.47862 to 0.47306, saving model to ./big_model_carte.hdf5\n",
      "100/100 [==============================] - 6s 62ms/step - loss: 0.4731 - accuracy: 0.8650 - dice_coef_loss: 0.4731\n"
     ]
    },
    {
     "ename": "AssertionError",
     "evalue": "no files detected",
     "output_type": "error",
     "traceback": [
      "\u001b[0;31m---------------------------------------------------------------------------\u001b[0m",
      "\u001b[0;31mAssertionError\u001b[0m                            Traceback (most recent call last)",
      "\u001b[0;32m/tmp/ipykernel_634519/1254738133.py\u001b[0m in \u001b[0;36m<module>\u001b[0;34m\u001b[0m\n\u001b[1;32m     14\u001b[0m \u001b[0mbig_model_carte_checkpoint\u001b[0m \u001b[0;34m=\u001b[0m \u001b[0mModelCheckpoint\u001b[0m\u001b[0;34m(\u001b[0m\u001b[0;34m'./big_model_carte.hdf5'\u001b[0m\u001b[0;34m,\u001b[0m\u001b[0mmonitor\u001b[0m \u001b[0;34m=\u001b[0m \u001b[0;34m'loss'\u001b[0m\u001b[0;34m,\u001b[0m \u001b[0mverbose\u001b[0m \u001b[0;34m=\u001b[0m \u001b[0;36m1\u001b[0m\u001b[0;34m,\u001b[0m \u001b[0msave_best_only\u001b[0m\u001b[0;34m=\u001b[0m\u001b[0;32mTrue\u001b[0m\u001b[0;34m)\u001b[0m\u001b[0;34m\u001b[0m\u001b[0;34m\u001b[0m\u001b[0m\n\u001b[1;32m     15\u001b[0m \u001b[0mbig_model_carte\u001b[0m\u001b[0;34m.\u001b[0m\u001b[0mfit\u001b[0m\u001b[0;34m(\u001b[0m\u001b[0mbt_carte_generator\u001b[0m\u001b[0;34m,\u001b[0m \u001b[0mverbose\u001b[0m \u001b[0;34m=\u001b[0m \u001b[0;36m1\u001b[0m\u001b[0;34m,\u001b[0m \u001b[0msteps_per_epoch\u001b[0m \u001b[0;34m=\u001b[0m \u001b[0mSTEPS\u001b[0m\u001b[0;34m,\u001b[0m \u001b[0mepochs\u001b[0m \u001b[0;34m=\u001b[0m \u001b[0mEPOCHS\u001b[0m\u001b[0;34m,\u001b[0m \u001b[0mcallbacks\u001b[0m \u001b[0;34m=\u001b[0m \u001b[0;34m[\u001b[0m\u001b[0mbig_model_carte_checkpoint\u001b[0m\u001b[0;34m]\u001b[0m\u001b[0;34m)\u001b[0m\u001b[0;34m\u001b[0m\u001b[0;34m\u001b[0m\u001b[0m\n\u001b[0;32m---> 16\u001b[0;31m \u001b[0mbig_carte_test_gene\u001b[0m \u001b[0;34m=\u001b[0m \u001b[0mtestGenerator\u001b[0m\u001b[0;34m(\u001b[0m\u001b[0;34m'./data/endoscopic_test956/cartesian'\u001b[0m\u001b[0;34m,\u001b[0m \u001b[0mPARAM_IMG_FOLDER\u001b[0m\u001b[0;34m,\u001b[0m \u001b[0mPARAM_MSK_FOLDER\u001b[0m\u001b[0;34m)\u001b[0m\u001b[0;34m\u001b[0m\u001b[0;34m\u001b[0m\u001b[0m\n\u001b[0m\u001b[1;32m     17\u001b[0m \u001b[0mbig_carte_results\u001b[0m \u001b[0;34m=\u001b[0m \u001b[0mbig_model_carte\u001b[0m\u001b[0;34m.\u001b[0m\u001b[0mpredict_generator\u001b[0m\u001b[0;34m(\u001b[0m\u001b[0mbig_carte_test_gene\u001b[0m\u001b[0;34m,\u001b[0m \u001b[0;36m956\u001b[0m\u001b[0;34m,\u001b[0m \u001b[0mverbose\u001b[0m\u001b[0;34m=\u001b[0m\u001b[0;36m1\u001b[0m\u001b[0;34m)\u001b[0m\u001b[0;34m\u001b[0m\u001b[0;34m\u001b[0m\u001b[0m\n\u001b[1;32m     18\u001b[0m \u001b[0mnp\u001b[0m\u001b[0;34m.\u001b[0m\u001b[0msave\u001b[0m\u001b[0;34m(\u001b[0m\u001b[0;34m'./big_carte_prediction.npy'\u001b[0m\u001b[0;34m,\u001b[0m \u001b[0mbig_carte_results\u001b[0m\u001b[0;34m)\u001b[0m\u001b[0;34m\u001b[0m\u001b[0;34m\u001b[0m\u001b[0m\n",
      "\u001b[0;32m~/Project/Our-UNet-Code/data.py\u001b[0m in \u001b[0;36mtestGenerator\u001b[0;34m(test_path, image_folder, mask_folder, image_gray, mask_gray)\u001b[0m\n\u001b[1;32m    119\u001b[0m \u001b[0;34m\u001b[0m\u001b[0m\n\u001b[1;32m    120\u001b[0m     \u001b[0;32massert\u001b[0m \u001b[0mlen\u001b[0m\u001b[0;34m(\u001b[0m\u001b[0mimg_paths\u001b[0m\u001b[0;34m)\u001b[0m \u001b[0;34m==\u001b[0m \u001b[0mlen\u001b[0m\u001b[0;34m(\u001b[0m\u001b[0mlbl_paths\u001b[0m\u001b[0;34m)\u001b[0m\u001b[0;34m,\u001b[0m \u001b[0merrmsg1\u001b[0m\u001b[0;34m\u001b[0m\u001b[0;34m\u001b[0m\u001b[0m\n\u001b[0;32m--> 121\u001b[0;31m     \u001b[0;32massert\u001b[0m \u001b[0mlen\u001b[0m\u001b[0;34m(\u001b[0m\u001b[0mimg_paths\u001b[0m\u001b[0;34m)\u001b[0m \u001b[0;34m>\u001b[0m \u001b[0;36m0\u001b[0m\u001b[0;34m,\u001b[0m \u001b[0merrmsg2\u001b[0m\u001b[0;34m\u001b[0m\u001b[0;34m\u001b[0m\u001b[0m\n\u001b[0m\u001b[1;32m    122\u001b[0m \u001b[0;34m\u001b[0m\u001b[0m\n\u001b[1;32m    123\u001b[0m     \u001b[0;32mreturn\u001b[0m \u001b[0mimages\u001b[0m\u001b[0;34m\u001b[0m\u001b[0;34m\u001b[0m\u001b[0m\n",
      "\u001b[0;31mAssertionError\u001b[0m: no files detected"
     ]
    }
   ],
   "source": [
    "cartesian_original_folder = 'data/endoscopic/cartesian'\n",
    "polar_original_folder = 'data/endoscopic/polar'\n",
    "batch_size = 5\n",
    "carte_data_gen_args = dict(rotation_range = 80,      # TODO: improve the data augmentation\n",
    "                width_shift_range =0.02,\n",
    "                height_shift_range =0.02,\n",
    "                shear_range = 0.35,\n",
    "                zoom_range = 0.075,\n",
    "                horizontal_flip = True,\n",
    "                fill_mode = 'nearest',\n",
    "                rescale = 1./255)\n",
    "bt_carte_generator = trainGenerator(batch_size, cartesian_original_folder, PARAM_IMG_FOLDER, PARAM_MSK_FOLDER, carte_data_gen_args)\n",
    "big_model_carte = unet(PARAM_BETA1[PARAM_BETA_TEST_NUM], PARAM_BETA2[PARAM_BETA_TEST_NUM])\n",
    "big_model_carte_checkpoint = ModelCheckpoint('./big_model_carte.hdf5',monitor = 'loss', verbose = 1, save_best_only=True)\n",
    "big_model_carte.fit(bt_carte_generator, verbose = 1, steps_per_epoch = STEPS, epochs = EPOCHS, callbacks = [big_model_carte_checkpoint])\n",
    "big_carte_test_gene = testGenerator('./data/endoscopic_test956/cartesian', PARAM_IMG_FOLDER, PARAM_MSK_FOLDER)\n",
    "big_carte_results = big_model_carte.predict_generator(big_carte_test_gene, 956, verbose=1)\n",
    "np.save('./big_carte_prediction.npy', big_carte_results)\n",
    "polar_data_gen_args = dict(rotation_range = 50,      # TODO: improve the data augmentation\n",
    "            width_shift_range =0.2,\n",
    "            height_shift_range =0.2,\n",
    "            shear_range = 0.35,\n",
    "            zoom_range = 0.05,\n",
    "            horizontal_flip = True,\n",
    "            fill_mode = 'nearest',\n",
    "            rescale = 1./255)\n",
    "bt_polar_generator = trainGenerator(batch_size, polar_original_folder, PARAM_IMG_FOLDER, PARAM_MSK_FOLDER, polar_data_gen_args)\n",
    "big_model_polar = unet(PARAM_BETA1[PARAM_BETA_TEST_NUM], PARAM_BETA2[PARAM_BETA_TEST_NUM])\n",
    "big_model_polar_checkpoint = ModelCheckpoint('./big_model_polar.hdf5',monitor = 'loss', verbose = 1, save_best_only=True)\n",
    "big_model_polar.fit(bt_polar_generator, verbose = 1, steps_per_epoch = STEPS, epochs = EPOCHS, callbacks = [big_model_polar_checkpoint])\n",
    "big_polar_test_gene = testGenerator('./data/endoscopic_test956/polar', PARAM_IMG_FOLDER, PARAM_MSK_FOLDER)\n",
    "big_polar_results = big_model_polar.predict_generator(big_polar_test_gene, 956, verbose=1)\n",
    "np.save('./big_polar_prediction.npy', big_polar_results)"
   ]
  },
  {
   "cell_type": "code",
   "execution_count": 15,
   "metadata": {},
   "outputs": [],
   "source": [
    "polar_prediction_file = 'big_polar_prediction.npy'\n",
    "carte_prediction_file = 'big_carte_prediction.npy'\n",
    "polar_prediction = np.load(polar_prediction_file)\n",
    "carte_prediction = np.load(carte_prediction_file)\n",
    "test_label_folder_path = 'data/endoscopic_test956/cartesian/label'\n",
    "count = 0\n",
    "big_polar_dice = []\n",
    "big_carte_dice = []\n",
    "for prediction in [polar_prediction,carte_prediction]:\n",
    "    for i in range(956):\n",
    "        test_file_name = os.path.join(test_label_folder_path, (str(i) + '.tif'))\n",
    "        ground_truth_mask = cv2.imread(test_file_name, cv2.IMREAD_GRAYSCALE)\n",
    "        ground_truth_mask = ground_truth_mask / 255.0\n",
    "        ground_truth_mask = ground_truth_mask.astype(np.uint8)\n",
    "        current_prediction = prediction[i]\n",
    "        current_prediction = np.reshape(current_prediction,(256,256))\n",
    "        threshold = 0.5\n",
    "        current_prediction = (current_prediction > threshold).astype(np.uint8)\n",
    "        if count == 0:\n",
    "            current_prediction = p2c(current_prediction, trans_dic)\n",
    "            big_polar_dice.append(dice_coefficient_carte(ground_truth_mask,current_prediction))\n",
    "        else:\n",
    "            big_carte_dice.append(dice_coefficient_carte(ground_truth_mask,current_prediction))\n",
    "            \n",
    "        \n",
    "    count += 1\n",
    "big_polar_dice = np.asarray(big_polar_dice)\n",
    "big_carte_dice = np.asarray(big_carte_dice)"
   ]
  },
  {
   "cell_type": "code",
   "execution_count": 16,
   "metadata": {},
   "outputs": [
    {
     "data": {
      "text/plain": [
       "<matplotlib.legend.Legend at 0x7f721a0b3d90>"
      ]
     },
     "execution_count": 16,
     "metadata": {},
     "output_type": "execute_result"
    },
    {
     "data": {
      "image/png": "[encoded data removed]",
      "text/plain": [
       "<Figure size 432x288 with 1 Axes>"
      ]
     },
     "metadata": {
      "needs_background": "light"
     },
     "output_type": "display_data"
    }
   ],
   "source": [
    "polar_big_score = big_polar_dice\n",
    "\n",
    "polar_performance_inc = polar_dice - polar_big_score\n",
    "plt.plot(np.sort(polar_dice))\n",
    "plt.plot(np.sort(polar_big_score))\n",
    "plt.plot(np.sort(polar_performance_inc))\n",
    "plt.legend(['new','past','dif'])"
   ]
  },
  {
   "cell_type": "code",
   "execution_count": 15,
   "metadata": {},
   "outputs": [
    {
     "data": {
      "text/plain": [
       "<matplotlib.legend.Legend at 0x7fc78c368fd0>"
      ]
     },
     "execution_count": 15,
     "metadata": {},
     "output_type": "execute_result"
    },
    {
     "data": {
      "image/png": "[encoded data removed]",
      "text/plain": [
       "<Figure size 432x288 with 1 Axes>"
      ]
     },
     "metadata": {
      "needs_background": "light"
     },
     "output_type": "display_data"
    }
   ],
   "source": [
    "carte_big_score = big_carte_dice\n",
    "\n",
    "carte_performance_inc = carte_dice - carte_big_score\n",
    "plt.plot(np.sort(carte_dice))\n",
    "plt.plot(np.sort(carte_big_score))\n",
    "plt.plot(np.sort(carte_performance_inc))\n",
    "plt.legend(['new','past','dif'])"
   ]
  },
  {
   "cell_type": "code",
   "execution_count": null,
   "metadata": {},
   "outputs": [],
   "source": []
  }
 ],
 "metadata": {
  "kernelspec": {
   "display_name": "Python 3 (ipykernel)",
   "language": "python",
   "name": "python3"
  },
  "language_info": {
   "codemirror_mode": {
    "name": "ipython",
    "version": 3
   },
   "file_extension": ".py",
   "mimetype": "text/x-python",
   "name": "python",
   "nbconvert_exporter": "python",
   "pygments_lexer": "ipython3",
   "version": "3.7.9"
  }
 },
 "nbformat": 4,
 "nbformat_minor": 5
}
