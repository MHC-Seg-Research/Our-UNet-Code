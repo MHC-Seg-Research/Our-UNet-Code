{
 "cells": [
  {
   "cell_type": "markdown",
   "id": "ab00a2f7",
   "metadata": {},
   "source": [
    "# Instruction on how to read from the result folder\n",
    "Author: Yicheng Zhu 2023-11-07\n",
    "yzhu19@smith.edu"
   ]
  },
  {
   "cell_type": "markdown",
   "id": "d8869307",
   "metadata": {},
   "source": [
    "-------------"
   ]
  },
  {
   "cell_type": "markdown",
   "id": "60dc1e48",
   "metadata": {},
   "source": [
    "## Convention\n",
    "\n",
    "#### <span style=\"color:red\">IMPORTANT</span>\n",
    "\n",
    "Throughout this experiment, _polar-dominant_ is ```True``` and _cartesian-dominant_ is ```False```\n",
    "\n",
    "Throughout this experiment, if there is a matrix and contains 10 columns, ```index 0 - 4``` represent the five polar-dominant portions, and ```index 5 - 9``` represent the five cartesian-dominant portions"
   ]
  },
  {
   "cell_type": "markdown",
   "id": "425c6649",
   "metadata": {},
   "source": [
    "_________________\n"
   ]
  },
  {
   "cell_type": "markdown",
   "id": "fb408fe5",
   "metadata": {},
   "source": [
    "## Overview\n",
    "All the usable data are recorded in the form of numpy arrays.\n",
    "\n",
    "Because of the lack of labeling of those data, this jupyter notebook will help people easily figure out how to extract the usable data."
   ]
  },
  {
   "cell_type": "markdown",
   "id": "35853c9f",
   "metadata": {},
   "source": [
    "#### Import the packages for use"
   ]
  },
  {
   "cell_type": "code",
   "execution_count": 1,
   "id": "0b600bd0",
   "metadata": {},
   "outputs": [],
   "source": [
    "import numpy as np\n",
    "import matplotlib.pyplot as plt\n",
    "import os\n",
    "#import cv2\n",
    "#from p2ctransformer.p2c import *\n",
    "#from model import *\n",
    "#from data import *\n",
    "#from defines import *"
   ]
  },
  {
   "cell_type": "markdown",
   "id": "26f36d3b",
   "metadata": {},
   "source": [
    "#### Set the directory of the interested result folder\n",
    "Note that depending on the migration framework used, it's possible that some data is not available -- for example, there is no 'probability-history' if Cuiling's method or Chris' method is used."
   ]
  },
  {
   "cell_type": "markdown",
   "id": "aec9420e",
   "metadata": {},
   "source": [
    "Here set the ```resultdir``` to the address of 'results' folder"
   ]
  },
  {
   "cell_type": "code",
   "execution_count": 2,
   "id": "460a6bdf",
   "metadata": {},
   "outputs": [],
   "source": [
    "resultsdir = '/home/scram-2004/Project/Our-UNet-Code/results'"
   ]
  },
  {
   "cell_type": "code",
   "execution_count": 2,
   "id": "b9019bec",
   "metadata": {},
   "outputs": [],
   "source": [
    "resultsdir = '/Users/yichengzhu/Documents/GitHub/Our-UNet-Code/results'"
   ]
  },
  {
   "cell_type": "code",
   "execution_count": 11,
   "id": "ab428dbd",
   "metadata": {},
   "outputs": [],
   "source": [
    "resultsdir = '/home/scram-2004/Project/Our-UNet-Code/history_results/results20231111'"
   ]
  },
  {
   "cell_type": "markdown",
   "id": "ed772607",
   "metadata": {},
   "source": [
    "----------------------"
   ]
  },
  {
   "cell_type": "markdown",
   "id": "2394a12a",
   "metadata": {},
   "source": [
    "## Type of Data stored"
   ]
  },
  {
   "cell_type": "markdown",
   "id": "91ee7e5e",
   "metadata": {},
   "source": [
    "### 0. FileMatrix\n",
    "Filematrix is stored as ```.png``` file and therefore is a little different to load. The purpose of it is to enable a visual sanity check of if only once one image is appeared in. \n",
    "\n",
    "This png contains of a 7407 * 10 matrix. Each row represents one image, e.g. first row represents image ```0.tif```. The black dot's location represents the file location."
   ]
  },
  {
   "cell_type": "markdown",
   "id": "1c50489e",
   "metadata": {},
   "source": [
    "#### Instruction on how to read filematrix\n",
    "Well, basically click open and scan through. The location information contained can be found in score-matrix, so there's no need to bother reading this file."
   ]
  },
  {
   "cell_type": "markdown",
   "id": "3e0acd11",
   "metadata": {},
   "source": [
    "### 1. History\n",
    "History is a location log that records the coarse location of if the image is considered as polar or cartesian dominant per that round. \n",
    "\n",
    "History contains of 7404*(R+1) data, where R is the number of rounds we iterate through\n",
    "\n",
    "A newer history will contain the older one, so it's always just enough to read the history file names: ```history_round_MAXNUM.npy```\n"
   ]
  },
  {
   "cell_type": "markdown",
   "id": "2cbe6faa",
   "metadata": {},
   "source": [
    "#### Example of reading history location"
   ]
  },
  {
   "cell_type": "code",
   "execution_count": 10,
   "id": "b9aa636f",
   "metadata": {},
   "outputs": [],
   "source": [
    "history_file = os.path.join(resultsdir,'history/history_round_2.npy')"
   ]
  },
  {
   "cell_type": "code",
   "execution_count": null,
   "id": "06dd1cb2",
   "metadata": {},
   "outputs": [],
   "source": [
    "history = np.load(history_file)"
   ]
  },
  {
   "cell_type": "code",
   "execution_count": null,
   "id": "6e12c676",
   "metadata": {},
   "outputs": [],
   "source": [
    "history.shape"
   ]
  },
  {
   "cell_type": "code",
   "execution_count": null,
   "id": "ea4136c5",
   "metadata": {},
   "outputs": [],
   "source": [
    "history_slice = history[:,-1]"
   ]
  },
  {
   "cell_type": "code",
   "execution_count": null,
   "id": "68aaddc0",
   "metadata": {},
   "outputs": [],
   "source": [
    "history_slice.shape"
   ]
  },
  {
   "cell_type": "code",
   "execution_count": null,
   "id": "0c8621f0",
   "metadata": {},
   "outputs": [],
   "source": [
    "for i in range(history.shape[1]):\n",
    "    slice = history[:,i]\n",
    "    print(np.sum(slice))"
   ]
  },
  {
   "cell_type": "markdown",
   "id": "50ab4a81",
   "metadata": {},
   "source": [
    "### 2. Models History\n",
    "Model History is the log of loss history when the model was trained. For each iteration, the five polar model histories and the five cartesian model histories are bundled into two seperate files and can be found separately. \n",
    "\n",
    "Basically, the most relevant data we can extract from a model history is the loss that it is converged to. Given that we are using the checkpoint to store the model with minimum loss, the last digit of the curve does not necessarily mean the final loss of the one that we finally decided to keep.\n",
    "\n",
    "In order to extract that, the minimum of each curve should be taken."
   ]
  },
  {
   "cell_type": "markdown",
   "id": "88be2d7b",
   "metadata": {},
   "source": [
    "#### Example of reading model history"
   ]
  },
  {
   "cell_type": "code",
   "execution_count": 7,
   "id": "adc135f6",
   "metadata": {},
   "outputs": [],
   "source": [
    "model_history_file = os.path.join(resultsdir,'models_history/round_4/polar_history.npy')\n",
    "model_history = np.load(model_history_file)"
   ]
  },
  {
   "cell_type": "code",
   "execution_count": 8,
   "id": "8790c076",
   "metadata": {},
   "outputs": [
    {
     "data": {
      "text/plain": [
       "(326, 5)"
      ]
     },
     "execution_count": 8,
     "metadata": {},
     "output_type": "execute_result"
    }
   ],
   "source": [
    "model_history.shape"
   ]
  },
  {
   "cell_type": "code",
   "execution_count": 17,
   "id": "a9d975b7",
   "metadata": {},
   "outputs": [
    {
     "name": "stdout",
     "output_type": "stream",
     "text": [
      "polar\n",
      "1610\n",
      "carte\n",
      "1745\n"
     ]
    }
   ],
   "source": [
    "for ctype in ['polar','carte']:\n",
    "    print(ctype)\n",
    "    for i in range(11):\n",
    "        tt = 0\n",
    "        model_history_file = os.path.join(resultsdir, ('models_history/round_' + str(i) + '/' + ctype +'_history.npy'))\n",
    "        model_history = np.load(model_history_file)\n",
    "        thisroundcount = model_history.shape[0] * model_history.shape[1]\n",
    "        tt += thisroundcount\n",
    "    print(tt)"
   ]
  },
  {
   "cell_type": "code",
   "execution_count": null,
   "id": "6bf27084",
   "metadata": {},
   "outputs": [],
   "source": [
    "print(model_history)"
   ]
  },
  {
   "cell_type": "code",
   "execution_count": 12,
   "id": "84232863",
   "metadata": {},
   "outputs": [
    {
     "data": {
      "text/plain": [
       "[<matplotlib.lines.Line2D at 0x7fe20417db10>,\n",
       " <matplotlib.lines.Line2D at 0x7fe2041b02d0>,\n",
       " <matplotlib.lines.Line2D at 0x7fe2041b0750>,\n",
       " <matplotlib.lines.Line2D at 0x7fe204193890>,\n",
       " <matplotlib.lines.Line2D at 0x7fe2041b0e10>]"
      ]
     },
     "execution_count": 12,
     "metadata": {},
     "output_type": "execute_result"
    },
    {
     "data": {
      "image/png": "[encoded data removed]",
      "text/plain": [
       "<Figure size 640x480 with 1 Axes>"
      ]
     },
     "metadata": {},
     "output_type": "display_data"
    }
   ],
   "source": [
    "\n",
    "plt.axhline(y = 0.25, color = 'r', linestyle = '-') \n",
    "plt.ylim(0.2, 0.3)\n",
    "plt.plot(model_history[:][:][:])"
   ]
  },
  {
   "cell_type": "code",
   "execution_count": 24,
   "id": "a7cb2c26",
   "metadata": {},
   "outputs": [
    {
     "data": {
      "text/plain": [
       "[<matplotlib.lines.Line2D at 0x7f554aee3d50>]"
      ]
     },
     "execution_count": 24,
     "metadata": {},
     "output_type": "execute_result"
    },
    {
     "data": {
      "image/png": "[encoded data removed]",
      "text/plain": [
       "<Figure size 640x480 with 1 Axes>"
      ]
     },
     "metadata": {},
     "output_type": "display_data"
    }
   ],
   "source": [
    "\n",
    "plt.axhline(y = 0.25, color = 'r', linestyle = '-') \n",
    "\n",
    "plt.plot(model_history[0][:])\n",
    "plt.plot(model_history[0][:])\n",
    "plt.plot(model_history[0][:])\n",
    "plt.plot(model_history[0][:])\n",
    "plt.plot(model_history[0][:])"
   ]
  },
  {
   "cell_type": "code",
   "execution_count": null,
   "id": "b95732c1",
   "metadata": {},
   "outputs": [],
   "source": [
    "#Getting the min of model loss\n",
    "for i in range(5):\n",
    "    current_model = model_history[i][:]\n",
    "    print(np.min(current_model))"
   ]
  },
  {
   "cell_type": "markdown",
   "id": "5d0ebc7a",
   "metadata": {},
   "source": [
    "### 3. prob_history"
   ]
  },
  {
   "cell_type": "code",
   "execution_count": 4,
   "id": "89767a07",
   "metadata": {},
   "outputs": [],
   "source": [
    "prob = np.load(os.path.join(resultsdir,'prob_history','prob_history_round_14.npy'))"
   ]
  },
  {
   "cell_type": "code",
   "execution_count": 5,
   "id": "57210a14",
   "metadata": {},
   "outputs": [
    {
     "data": {
      "text/plain": [
       "(7404, 16)"
      ]
     },
     "execution_count": 5,
     "metadata": {},
     "output_type": "execute_result"
    }
   ],
   "source": [
    "prob.shape"
   ]
  },
  {
   "cell_type": "code",
   "execution_count": 6,
   "id": "cd790f4b",
   "metadata": {},
   "outputs": [
    {
     "name": "stdout",
     "output_type": "stream",
     "text": [
      "[0.5        0.36363327 0.22571766 0.13554476 0.08742211 0.05906277\n",
      " 0.04883647 0.03295809 0.01975104 0.01506786 0.01130841 0.00695851\n",
      " 0.00416053 0.00272225 0.00178303 0.00109572]\n"
     ]
    }
   ],
   "source": [
    "print(prob[0])"
   ]
  },
  {
   "cell_type": "code",
   "execution_count": 16,
   "id": "cd6a33f6",
   "metadata": {},
   "outputs": [
    {
     "data": {
      "text/plain": [
       "[<matplotlib.lines.Line2D at 0x7f1a6d9f8d90>]"
      ]
     },
     "execution_count": 16,
     "metadata": {},
     "output_type": "execute_result"
    },
    {
     "data": {
      "image/png": "[encoded data removed]",
      "text/plain": [
       "<Figure size 640x480 with 1 Axes>"
      ]
     },
     "metadata": {},
     "output_type": "display_data"
    }
   ],
   "source": [
    "plt.plot(prob[9])"
   ]
  },
  {
   "cell_type": "markdown",
   "id": "5a267ad0",
   "metadata": {},
   "source": [
    "This is only going to appear in Yicheng's random migration framework result so that I will skip this part for now."
   ]
  },
  {
   "cell_type": "markdown",
   "id": "92098f7c",
   "metadata": {},
   "source": [
    "### 4. Score Matrix\n",
    "\n",
    "#### <span style=\"color:red\">IMPORTANT</span>\n",
    "\n",
    "Score matrix is the main character here and I believe lots of analysis can be done on it. \n",
    "\n",
    "The shape of it is always 7404*10. Each row, there are 6 scores and 4 blanks (in the form of 0s). The location tells us which model is this score generated from. \n",
    "\n",
    "For example, the score in the second coloumn is always the generated by the polar model which used the portion index 0, 2, 3, 4 as the training set.\n",
    "\n",
    "#### In-group score vs. out-of-group scores\n",
    "\n",
    "Given that there are 6 scores, 1 in-group and 5 out-of-group, stored in the matrix, I need to clarify that the one in-group score is what we considered MOST IMPORTANT because ultimately we would like to have a better and better in-group score."
   ]
  },
  {
   "cell_type": "markdown",
   "id": "a8ddaf1c",
   "metadata": {},
   "source": [
    "#### Example of reading score matrix:"
   ]
  },
  {
   "cell_type": "markdown",
   "id": "b12b662e",
   "metadata": {},
   "source": [
    "1. Example for plotting out the in-group score (weighted)"
   ]
  },
  {
   "cell_type": "code",
   "execution_count": 20,
   "id": "40ac6320",
   "metadata": {},
   "outputs": [
    {
     "name": "stdout",
     "output_type": "stream",
     "text": [
      "0.21549877001282897\n",
      "0.25292137126765574\n",
      "0.09671680765699954\n",
      "0.15912929143416657\n",
      "0.20932236019868078\n",
      "0.1332501808778591\n",
      "0.11454516060316762\n",
      "0.08330062693571\n",
      "0.2859239872374536\n",
      "0.13425230368779725\n",
      "0.23870010727882177\n",
      "0.04210177112359173\n",
      "0.26052327362295097\n",
      "0.04184942135879757\n",
      "[ 0.          0.          0.         -0.0015933   0.          0.49900953\n",
      "  1.          1.          1.          1.        ]\n",
      "0.0\n"
     ]
    },
    {
     "data": {
      "image/png": "[encoded data removed]",
      "text/plain": [
       "<Figure size 640x480 with 1 Axes>"
      ]
     },
     "metadata": {},
     "output_type": "display_data"
    }
   ],
   "source": [
    "for i_round in range(15):\n",
    "    x_range = 7404\n",
    "    scoreMatrix_file = 'scorematrix/scorematrix_round_' + str(i_round) + '.npy'\n",
    "    scoreMatrix = np.load(os.path.join(resultsdir, scoreMatrix_file))\n",
    "    model_history_file_polar = os.path.join(resultsdir,'models_history/round_'+ str(i_round) +'/polar_history.npy')\n",
    "    model_history_file_carte = os.path.join(resultsdir,'models_history/round_'+ str(i_round) +'/carte_history.npy')\n",
    "    model_history_polar = np.load(model_history_file_polar)\n",
    "    model_history_carte = np.load(model_history_file_carte)\n",
    "    model_loss_num = []\n",
    "    for i in range(5):\n",
    "        current_model = model_history_polar[i][:]\n",
    "        model_loss_num.append(np.min(current_model))\n",
    "    for i in range(5):\n",
    "        current_model = model_history_carte[i][:]\n",
    "        model_loss_num.append(np.min(current_model))\n",
    "    #print(model_loss_num)\n",
    "    picked_score = np.zeros(scoreMatrix[:,0].shape)\n",
    "    weighted_score = np.zeros(scoreMatrix[:,0].shape)\n",
    "    i = 0\n",
    "    for each_row in scoreMatrix:\n",
    "        first_zero = np.where(each_row == 0)[0][0]\n",
    "        if first_zero >= 5:\n",
    "            chosen = max(each_row[5:])\n",
    "        else:\n",
    "            chosen = max(each_row[:5])\n",
    "        picked_score[i] = chosen\n",
    "        #print(each_row)\n",
    "        #print(chosen)\n",
    "        picked_index = np.where(each_row == chosen)[0][0]\n",
    "        #print(picked_index)\n",
    "        picked_loss = model_loss_num[picked_index]\n",
    "        weighted_score[i] = chosen * (1 - picked_loss)\n",
    "        i += 1\n",
    "        if chosen == 0:\n",
    "            print(each_row)\n",
    "    print(min(picked_score))\n",
    "    plt.plot(np.sort(picked_score))\n",
    "    plt.legend([1,2,3,4,5,6,7,8,9,10,11,12,13,14,15,16,17,18,19,20])\n"
   ]
  },
  {
   "cell_type": "code",
   "execution_count": null,
   "id": "600f42bf",
   "metadata": {},
   "outputs": [],
   "source": []
  },
  {
   "cell_type": "markdown",
   "id": "6b6c1a42",
   "metadata": {},
   "source": [
    "2. Example for getting a filtered illustration, from the first one, pick out the index that contains the scores below threshold, then ignore all data from that index for the rest rounds."
   ]
  },
  {
   "cell_type": "code",
   "execution_count": 6,
   "id": "8355650e",
   "metadata": {},
   "outputs": [
    {
     "name": "stdout",
     "output_type": "stream",
     "text": [
      "1062\n",
      "548\n",
      "381\n",
      "322\n",
      "296\n",
      "273\n",
      "257\n",
      "248\n",
      "242\n",
      "239\n"
     ]
    },
    {
     "data": {
      "image/png": "[encoded data removed]",
      "text/plain": [
       "<Figure size 432x288 with 1 Axes>"
      ]
     },
     "metadata": {
      "needs_background": "light"
     },
     "output_type": "display_data"
    }
   ],
   "source": [
    "index_below_threshold = []\n",
    "ifFirstRound = True\n",
    "check_Threshold = 0.5\n",
    "for i_round in range(10):\n",
    "    x_range = 7404\n",
    "    scoreMatrix_file = 'scorematrix/scorematrix_round_' + str(i_round) + '.npy'\n",
    "    scoreMatrix = np.load(os.path.join(resultsdir, scoreMatrix_file))\n",
    "    model_history_file_polar = os.path.join(resultsdir,'models_history/round_'+ str(i_round) +'/polar_history.npy')\n",
    "    model_history_file_carte = os.path.join(resultsdir,'models_history/round_'+ str(i_round) +'/carte_history.npy')\n",
    "    model_history_polar = np.load(model_history_file_polar)\n",
    "    model_history_carte = np.load(model_history_file_carte)\n",
    "    model_loss_num = []\n",
    "    for j in range(5):\n",
    "        current_model = model_history_polar[j][:]\n",
    "        model_loss_num.append(np.min(current_model))\n",
    "    for j in range(5):\n",
    "        current_model = model_history_carte[j][:]\n",
    "        model_loss_num.append(np.min(current_model))\n",
    "    #print(model_loss_num)\n",
    "    picked_score = np.zeros(scoreMatrix[:,0].shape)\n",
    "    weighted_score = np.zeros(scoreMatrix[:,0].shape)\n",
    "    i = 0\n",
    "    for each_row in scoreMatrix:\n",
    "        first_zero = np.where(each_row == 0)[0][0]\n",
    "        if first_zero >= 5:\n",
    "            chosen = max(each_row[5:])\n",
    "        else:\n",
    "            chosen = max(each_row[:5])\n",
    "        \n",
    "        if ifFirstRound:\n",
    "            if chosen < check_Threshold:\n",
    "                picked_score[i] = chosen\n",
    "                index_below_threshold.append(True)\n",
    "            else:\n",
    "                picked_score[i] = 0\n",
    "                index_below_threshold.append(False)\n",
    "        else:\n",
    "            if not index_below_threshold[i]:\n",
    "                picked_score[i] = 0\n",
    "            else:\n",
    "                if chosen > check_Threshold:\n",
    "                    picked_score[i] = 0\n",
    "                    index_below_threshold[i] = False\n",
    "                else:\n",
    "                    picked_score[i] = chosen\n",
    "        #print(each_row)\n",
    "        #print(chosen)\n",
    "        picked_index = np.where(each_row == chosen)[0][0]\n",
    "        #print(picked_index)\n",
    "        picked_loss = model_loss_num[picked_index]\n",
    "        weighted_score[i] = chosen * (1 - picked_loss)\n",
    "        i += 1\n",
    "    ifFirstRound = False\n",
    "    #print(picked_score)\n",
    "    plt.plot(np.sort(picked_score))\n",
    "    plt.legend([1,2,3,4,5,6,7,8,9,10])\n",
    "    print(np.sum(index_below_threshold))\n",
    "\n",
    "    "
   ]
  },
  {
   "cell_type": "markdown",
   "id": "7d526176",
   "metadata": {},
   "source": [
    "2.1. After getting the index, load other histories to see if those images are consistently BAD regardless of the round\n"
   ]
  },
  {
   "cell_type": "code",
   "execution_count": 5,
   "id": "11aa67bb",
   "metadata": {},
   "outputs": [
    {
     "name": "stdout",
     "output_type": "stream",
     "text": [
      "129\n"
     ]
    },
    {
     "data": {
      "image/png": "[encoded data removed]",
      "text/plain": [
       "<Figure size 432x288 with 1 Axes>"
      ]
     },
     "metadata": {
      "needs_background": "light"
     },
     "output_type": "display_data"
    }
   ],
   "source": [
    "anotherresultdir = 'history_results/results20231202/'\n",
    "\n",
    "for i in range(5):\n",
    "    x_range = 7404\n",
    "    scoreMatrix_file = 'scorematrix/scorematrix_round_' + str(i) + '.npy'\n",
    "    scoreMatrix = np.load(os.path.join(anotherresultdir, scoreMatrix_file))\n",
    "    model_history_file_polar = os.path.join(anotherresultdir,'models_history/round_'+ str(i) +'/polar_history.npy')\n",
    "    model_history_file_carte = os.path.join(anotherresultdir,'models_history/round_'+ str(i) +'/carte_history.npy')\n",
    "    model_history_polar = np.load(model_history_file_polar)\n",
    "    model_history_carte = np.load(model_history_file_carte)\n",
    "    model_loss_num = []\n",
    "    for i in range(5):\n",
    "        current_model = model_history_polar[i][:]\n",
    "        model_loss_num.append(np.min(current_model))\n",
    "    for i in range(5):\n",
    "        current_model = model_history_carte[i][:]\n",
    "        model_loss_num.append(np.min(current_model))\n",
    "    #print(model_loss_num)\n",
    "    picked_score = np.zeros(scoreMatrix[:,0].shape)\n",
    "    weighted_score = np.zeros(scoreMatrix[:,0].shape)\n",
    "    i = 0\n",
    "    for each_row in scoreMatrix:\n",
    "        first_zero = np.where(each_row == 0)[0][0]\n",
    "        if first_zero >= 5:\n",
    "            chosen = max(each_row[5:])\n",
    "        else:\n",
    "            chosen = max(each_row[:5])\n",
    "        \n",
    "        if ifFirstRound:\n",
    "            if chosen < check_Threshold:\n",
    "                picked_score[i] = chosen\n",
    "                index_below_threshold.append(True)\n",
    "            else:\n",
    "                picked_score[i] = 0\n",
    "                index_below_threshold.append(False)\n",
    "        else:\n",
    "            if not index_below_threshold[i]:\n",
    "                picked_score[i] = 0\n",
    "            else:\n",
    "                if chosen > check_Threshold:\n",
    "                    picked_score[i] = 0\n",
    "                    index_below_threshold[i] = False\n",
    "                else:\n",
    "                    picked_score[i] = chosen\n",
    "\n",
    "        #print(each_row)\n",
    "        #print(chosen)\n",
    "        picked_index = np.where(each_row == chosen)[0][0]\n",
    "        #print(picked_index)\n",
    "        picked_loss = model_loss_num[picked_index]\n",
    "        weighted_score[i] = chosen * (1 - picked_loss)\n",
    "        i += 1\n",
    "    ifFirstRound = False\n",
    "    #print(picked_score)\n",
    "    plt.plot(np.sort(picked_score))\n",
    "    plt.legend([1,2,3,4,5,6,7,8,9,10])\n",
    "print(np.sum(index_below_threshold))"
   ]
  },
  {
   "cell_type": "code",
   "execution_count": null,
   "id": "6f68b3df",
   "metadata": {},
   "outputs": [],
   "source": [
    "np.save('picked_index.npy',index_below_threshold)"
   ]
  },
  {
   "cell_type": "markdown",
   "id": "55473335",
   "metadata": {},
   "source": [
    "The Following block shows the 10 in-group scores for one specific image"
   ]
  },
  {
   "cell_type": "code",
   "execution_count": null,
   "id": "63fbceb8",
   "metadata": {},
   "outputs": [],
   "source": [
    "interested_image = [121]\n",
    "for i in range(10):\n",
    "    x_range = 7404\n",
    "    scoreMatrix_file = 'scorematrix/scorematrix_round_' + str(i) + '.npy'\n",
    "    scoreMatrix = np.load(os.path.join(resultsdir, scoreMatrix_file))\n",
    "    picked_score = np.zeros(scoreMatrix[:,0].shape)\n",
    "    i = 0\n",
    "    for this_row_index in interested_image:\n",
    "        this_row = scoreMatrix[this_row_index]\n",
    "        first_zero = np.where(this_row == 0)[0][0]\n",
    "        if first_zero >= 5:\n",
    "            chosen = max(this_row[5:])\n",
    "        else:\n",
    "            chosen = max(this_row[:5])\n",
    "        picked_score[i] = chosen\n",
    "        picked_index = np.where(this_row == chosen)[0][0]\n",
    "        picked_loss = model_loss_num[picked_index]\n",
    "        weighted_score[i] = chosen * (1 - picked_loss)\n",
    "        i += 1\n",
    "        if chosen == 0:\n",
    "            print(this_row)"
   ]
  },
  {
   "cell_type": "code",
   "execution_count": null,
   "id": "f5185e48",
   "metadata": {},
   "outputs": [],
   "source": [
    "print(np.sum(index_below_threshold))\n",
    "print(np.size(index_below_threshold))\n",
    "for i in range(np.size(index_below_threshold)):\n",
    "    if index_below_threshold[i]:\n",
    "        print(i)"
   ]
  },
  {
   "cell_type": "markdown",
   "id": "979a8e52",
   "metadata": {},
   "source": [
    "3. Example for plotting the difference of difference of, for each image, the maximum score it got and the average\n",
    "\n",
    "PS> I know you can do better than my hard-coded method"
   ]
  },
  {
   "cell_type": "code",
   "execution_count": null,
   "id": "6b1e4fc8",
   "metadata": {},
   "outputs": [],
   "source": [
    "scoreMatrix_0 = np.load(os.path.join(resultsdir, ('scorematrix/scorematrix_round_0.npy')))\n",
    "scoreMatrix_1 = np.load(os.path.join(resultsdir, ('scorematrix/scorematrix_round_1.npy')))\n",
    "scoreMatrix_2 = np.load(os.path.join(resultsdir, ('scorematrix/scorematrix_round_2.npy')))\n",
    "scoreMatrix_3 = np.load(os.path.join(resultsdir, ('scorematrix/scorematrix_round_3.npy')))\n",
    "\n",
    "dif = []\n",
    "for i in range(scoreMatrix.shape[0]):\n",
    "    fst = np.max(scoreMatrix_0[i]).item(0)\n",
    "    snd = np.max(scoreMatrix_1[i]).item(0)\n",
    "    trd = np.max(scoreMatrix_2[i]).item(0)\n",
    "    fth = np.max(scoreMatrix_3[i]).item(0)\n",
    "    #print(fst,snd,trd,fth)\n",
    "    max_f = max(fst,snd,trd,fth)\n",
    "    avg = (fst+snd+trd+fth)/4\n",
    "    dif.append(max_f - avg)\n",
    "    \n",
    "dif_np = np.asarray(dif)\n",
    "plt.plot(np.sort(dif_np))"
   ]
  },
  {
   "cell_type": "markdown",
   "id": "992c0902",
   "metadata": {},
   "source": [
    "### This following method is used to pick the interested round and see how many of them are moving around in our method"
   ]
  },
  {
   "cell_type": "code",
   "execution_count": 16,
   "id": "4b8d3228",
   "metadata": {},
   "outputs": [
    {
     "name": "stdout",
     "output_type": "stream",
     "text": [
      "[73, 100, 80, 68, 64, 93, 59, 60, 61, 71, 70]\n",
      "[411, 381, 395, 438, 259, 370, 375, 444, 304, 283, 529]\n"
     ]
    },
    {
     "data": {
      "text/plain": [
       "<matplotlib.legend.Legend at 0x7fe20413e690>"
      ]
     },
     "execution_count": 16,
     "metadata": {},
     "output_type": "execute_result"
    },
    {
     "data": {
      "image/png": "[encoded data removed]",
      "text/plain": [
       "<Figure size 640x480 with 1 Axes>"
      ]
     },
     "metadata": {},
     "output_type": "display_data"
    }
   ],
   "source": [
    "ch_plot = []\n",
    "ph_plot = []\n",
    "for interested_round in range(11):\n",
    "    scoreMatrix_file = 'scorematrix/scorematrix_round_' + str(interested_round) + '.npy'\n",
    "    history_file_path= 'history/history_round_' + str(interested_round) + '.npy'\n",
    "    history_file = os.path.join(resultsdir,history_file_path)\n",
    "    history = np.load(history_file)\n",
    "    scorematrix = np.load(os.path.join(resultsdir, scoreMatrix_file))\n",
    "    history_slice = history[:,interested_round]\n",
    "    diff = np.zeros(7126)\n",
    "    Transition_threshold = 0.3\n",
    "    ch = 0\n",
    "    ph = 0\n",
    "    for i in range(7126):\n",
    "        if history_slice[i]:\n",
    "            polar_score = np.max(scorematrix[i][:5])\n",
    "            carte_score = np.median(scorematrix[i][5:])\n",
    "            #print(carte_score,polar_score)\n",
    "            if carte_score > polar_score:\n",
    "                #print('Carte-higher')\n",
    "                dif = polar_score - carte_score\n",
    "                if abs(dif) > Transition_threshold:\n",
    "                    ch += 1\n",
    "                    #print(scorematrix[i])\n",
    "                    diff[i] = dif\n",
    "                #decision[i] = 1\n",
    "        else:\n",
    "            polar_score = np.median(scorematrix[i][:5])\n",
    "            carte_score = np.max(scorematrix[i][5:])\n",
    "            #print(carte_score,polar_score)\n",
    "            if carte_score < polar_score:\n",
    "                #print('Polar-higer')\n",
    "                dif = polar_score - carte_score\n",
    "                if abs(dif) > Transition_threshold:\n",
    "                    ph += 1\n",
    "                    #print(scorematrix[i])\n",
    "                    diff[i] = dif\n",
    "                    #decision[i] = -1\n",
    "        \n",
    "    #print(ch, ph)\n",
    "    ch_plot.append(ch)\n",
    "    ph_plot.append(ph)\n",
    "\n",
    "plt.plot(ch_plot)\n",
    "plt.plot(ph_plot)\n",
    "print(ch_plot)\n",
    "print(ph_plot)\n",
    "plt.legend(['P2C','C2P'])"
   ]
  },
  {
   "cell_type": "markdown",
   "id": "25a1f934",
   "metadata": {},
   "source": [
    "### This following chunk checks the predicted 956 images. This is only available for results generated after Nov.13 2023"
   ]
  },
  {
   "cell_type": "code",
   "execution_count": null,
   "id": "fba0f6f2",
   "metadata": {},
   "outputs": [],
   "source": [
    "def dice_coefficient_carte(image1, image2):#Generate the Dice coefficient of two binary images, should do thresholding before inputting\n",
    "    # Ensure the input images have the same shape\n",
    "    smooth = 1\n",
    "    if image1.shape != image2.shape:\n",
    "        raise ValueError(\"Input images must have the same shape.\")\n",
    "    image1 = np.matrix(image1)\n",
    "    image2 = np.matrix(image2)\n",
    "    img1_f = (~image1.astype(bool)).astype(int)\n",
    "    img2_f = (~image2.astype(bool)).astype(int)\n",
    "    # Calculate the intersection (logical AND) between the two binary images\n",
    "    intersection_o = np.logical_and(image1, image2).sum()\n",
    "    intersection_f = np.logical_and(img1_f, img2_f).sum()\n",
    "    #print(intersection_o,intersection_f)\n",
    "    # Calculate the sum of pixels in each image\n",
    "    sum_image1_o = image1.sum()\n",
    "    sum_image2_o = image2.sum()\n",
    "    #print(sum_image1_o,sum_image2_o)\n",
    "    sum_image1_f = img1_f.sum()\n",
    "    sum_image2_f = img2_f.sum()\n",
    "    #print(sum_image1_f,sum_image2_f)\n",
    "   \n",
    "    # Calculate the Dice coefficient\n",
    "    dice = (2.0 * intersection_o + smooth) / (sum_image1_o + sum_image2_o + smooth)\n",
    "    #print('dice',dice)\n",
    "    dice_f = (2.0 * (intersection_f - 14616) + smooth) / (sum_image1_f + sum_image2_f + smooth - 29232) #Hard-coded numbers here, need to prove \n",
    "    #print('dice_f',dice_f)\n",
    "    dice_avg = (dice + dice_f) / 2.0\n",
    "    #print('dice_avg', dice_avg)\n",
    "    return dice_avg"
   ]
  },
  {
   "cell_type": "code",
   "execution_count": null,
   "id": "8b2b7850",
   "metadata": {},
   "outputs": [],
   "source": [
    "polar_prediction_file = 'polar_prediction.npy'\n",
    "carte_prediction_file = 'carte_prediction.npy'\n",
    "polar_prediction = np.load(os.path.join(resultsdir,polar_prediction_file))\n",
    "carte_prediction = np.load(os.path.join(resultsdir,carte_prediction_file))\n",
    "test_label_folder_path = 'data/endoscopic_test956/cartesian/label'\n",
    "count = 0\n",
    "trans_dic = p2c_dic_gen(127, 127, 256, 256)\n",
    "polar_dice = []\n",
    "carte_dice = []\n",
    "for prediction in [polar_prediction,carte_prediction]:\n",
    "    for i in range(956):\n",
    "        test_file_name = os.path.join(test_label_folder_path, (str(i) + '.tif'))\n",
    "        ground_truth_mask = cv2.imread(test_file_name, cv2.IMREAD_GRAYSCALE)\n",
    "        ground_truth_mask = ground_truth_mask / 255.0\n",
    "        ground_truth_mask = ground_truth_mask.astype(np.uint8)\n",
    "        current_prediction = prediction[i]\n",
    "        current_prediction = np.reshape(current_prediction,(256,256))\n",
    "        threshold = 0.5\n",
    "        current_prediction = (current_prediction > threshold).astype(np.uint8)\n",
    "        if count == 0:\n",
    "            current_prediction = p2c(current_prediction, trans_dic)\n",
    "            polar_dice.append(dice_coefficient_carte(ground_truth_mask,current_prediction))\n",
    "        else:\n",
    "            carte_dice.append(dice_coefficient_carte(ground_truth_mask,current_prediction))\n",
    "            \n",
    "        \n",
    "    count += 1\n",
    "polar_dice = np.asarray(polar_dice)\n",
    "carte_dice = np.asarray(carte_dice)"
   ]
  },
  {
   "cell_type": "code",
   "execution_count": null,
   "id": "f886901e",
   "metadata": {},
   "outputs": [],
   "source": [
    "polar_past_score_file = 'prev-analysis/analysis_dice_back_Test_P2C.npy'\n",
    "\n",
    "polar_past_score = np.load(polar_past_score_file)\n",
    "\n",
    "polar_performance_inc = polar_dice - polar_past_score\n",
    "plt.plot(np.sort(polar_dice))\n",
    "plt.plot(np.sort(polar_past_score))\n",
    "plt.plot(np.sort(polar_performance_inc))\n",
    "plt.legend(['new','past','dif'])"
   ]
  },
  {
   "cell_type": "code",
   "execution_count": null,
   "id": "8f7a194e",
   "metadata": {},
   "outputs": [],
   "source": [
    "carte_past_score_file = 'prev-analysis/analysis_dice_back_Test_C.npy'\n",
    "carte_past_score = np.load(carte_past_score_file)\n",
    "carte_performance_inc = carte_dice - carte_past_score\n",
    "plt.plot(np.sort(carte_dice))\n",
    "plt.plot(np.sort(carte_past_score))\n",
    "plt.plot(np.sort(carte_performance_inc))\n",
    "\n",
    "plt.legend(['new','past','dif'])"
   ]
  },
  {
   "cell_type": "markdown",
   "id": "b75c677d",
   "metadata": {},
   "source": [
    "### In order to have a fair comparison, a model shall be trained using the same machine to be the baseline of comparison."
   ]
  },
  {
   "cell_type": "code",
   "execution_count": null,
   "id": "81dddc0f",
   "metadata": {},
   "outputs": [],
   "source": [
    "cartesian_original_folder = 'data/endoscopic/cartesian'\n",
    "polar_original_folder = 'data/endoscopic/polar'\n",
    "batch_size = 5\n",
    "carte_data_gen_args = dict(rotation_range = 80,      # TODO: improve the data augmentation\n",
    "                width_shift_range =0.02,\n",
    "                height_shift_range =0.02,\n",
    "                shear_range = 0.35,\n",
    "                zoom_range = 0.075,\n",
    "                horizontal_flip = True,\n",
    "                fill_mode = 'nearest',\n",
    "                rescale = 1./255)\n",
    "bt_carte_generator = trainGenerator(batch_size, cartesian_original_folder, PARAM_IMG_FOLDER, PARAM_MSK_FOLDER, carte_data_gen_args)\n",
    "big_model_carte = unet(PARAM_BETA1[PARAM_BETA_TEST_NUM], PARAM_BETA2[PARAM_BETA_TEST_NUM])\n",
    "big_model_carte_checkpoint = ModelCheckpoint('./big_model_carte.hdf5',monitor = 'loss', verbose = 1, save_best_only=True)\n",
    "big_model_carte.fit(bt_carte_generator, verbose = 1, steps_per_epoch = STEPS, epochs = EPOCHS, callbacks = [big_model_carte_checkpoint])\n",
    "big_carte_test_gene = testGenerator('./data/endoscopic_test956/cartesian', PARAM_IMG_FOLDER, PARAM_MSK_FOLDER)\n",
    "big_carte_results = big_model_carte.predict_generator(big_carte_test_gene, 956, verbose=1)\n",
    "np.save('./big_carte_prediction.npy', big_carte_results)\n",
    "polar_data_gen_args = dict(rotation_range = 50,      # TODO: improve the data augmentation\n",
    "            width_shift_range =0.2,\n",
    "            height_shift_range =0.2,\n",
    "            shear_range = 0.35,\n",
    "            zoom_range = 0.05,\n",
    "            horizontal_flip = True,\n",
    "            fill_mode = 'nearest',\n",
    "            rescale = 1./255)\n",
    "bt_polar_generator = trainGenerator(batch_size, polar_original_folder, PARAM_IMG_FOLDER, PARAM_MSK_FOLDER, polar_data_gen_args)\n",
    "big_model_polar = unet(PARAM_BETA1[PARAM_BETA_TEST_NUM], PARAM_BETA2[PARAM_BETA_TEST_NUM])\n",
    "big_model_polar_checkpoint = ModelCheckpoint('./big_model_polar.hdf5',monitor = 'loss', verbose = 1, save_best_only=True)\n",
    "big_model_polar.fit(bt_polar_generator, verbose = 1, steps_per_epoch = STEPS, epochs = EPOCHS, callbacks = [big_model_polar_checkpoint])\n",
    "big_polar_test_gene = testGenerator('./data/endoscopic_test956/polar', PARAM_IMG_FOLDER, PARAM_MSK_FOLDER)\n",
    "big_polar_results = big_model_polar.predict_generator(big_polar_test_gene, 956, verbose=1)\n",
    "np.save('./big_polar_prediction.npy', big_polar_results)"
   ]
  },
  {
   "cell_type": "code",
   "execution_count": null,
   "id": "a9a97e5b",
   "metadata": {},
   "outputs": [],
   "source": [
    "polar_prediction_file = 'big_polar_prediction.npy'\n",
    "carte_prediction_file = 'big_carte_prediction.npy'\n",
    "polar_prediction = np.load(polar_prediction_file)\n",
    "carte_prediction = np.load(carte_prediction_file)\n",
    "test_label_folder_path = 'data/endoscopic_test956/cartesian/label'\n",
    "count = 0\n",
    "big_polar_dice = []\n",
    "big_carte_dice = []\n",
    "for prediction in [polar_prediction,carte_prediction]:\n",
    "    for i in range(956):\n",
    "        test_file_name = os.path.join(test_label_folder_path, (str(i) + '.tif'))\n",
    "        ground_truth_mask = cv2.imread(test_file_name, cv2.IMREAD_GRAYSCALE)\n",
    "        ground_truth_mask = ground_truth_mask / 255.0\n",
    "        ground_truth_mask = ground_truth_mask.astype(np.uint8)\n",
    "        current_prediction = prediction[i]\n",
    "        current_prediction = np.reshape(current_prediction,(256,256))\n",
    "        threshold = 0.5\n",
    "        current_prediction = (current_prediction > threshold).astype(np.uint8)\n",
    "        if count == 0:\n",
    "            current_prediction = p2c(current_prediction, trans_dic)\n",
    "            big_polar_dice.append(dice_coefficient_carte(ground_truth_mask,current_prediction))\n",
    "        else:\n",
    "            big_carte_dice.append(dice_coefficient_carte(ground_truth_mask,current_prediction))\n",
    "            \n",
    "        \n",
    "    count += 1\n",
    "big_polar_dice = np.asarray(big_polar_dice)\n",
    "big_carte_dice = np.asarray(big_carte_dice)"
   ]
  },
  {
   "cell_type": "code",
   "execution_count": 11,
   "id": "3db14181",
   "metadata": {},
   "outputs": [
    {
     "ename": "ValueError",
     "evalue": "operands could not be broadcast together with shapes (2868,) (956,) ",
     "output_type": "error",
     "traceback": [
      "\u001b[0;31m---------------------------------------------------------------------------\u001b[0m",
      "\u001b[0;31mValueError\u001b[0m                                Traceback (most recent call last)",
      "\u001b[0;32m/var/folders/6_/n16h1wkj3ybgz_kztb40727m0000gn/T/ipykernel_10545/2633711888.py\u001b[0m in \u001b[0;36m<module>\u001b[0;34m\u001b[0m\n\u001b[1;32m      1\u001b[0m \u001b[0mpolar_big_score\u001b[0m \u001b[0;34m=\u001b[0m \u001b[0mnp\u001b[0m\u001b[0;34m.\u001b[0m\u001b[0mload\u001b[0m\u001b[0;34m(\u001b[0m\u001b[0;34m'polar_overall.npy'\u001b[0m\u001b[0;34m)\u001b[0m\u001b[0;34m\u001b[0m\u001b[0;34m\u001b[0m\u001b[0m\n\u001b[1;32m      2\u001b[0m \u001b[0mpolar_dice\u001b[0m \u001b[0;34m=\u001b[0m \u001b[0mnp\u001b[0m\u001b[0;34m.\u001b[0m\u001b[0mload\u001b[0m\u001b[0;34m(\u001b[0m\u001b[0;34m'polar_new_pre.npy'\u001b[0m\u001b[0;34m)\u001b[0m\u001b[0;34m\u001b[0m\u001b[0;34m\u001b[0m\u001b[0m\n\u001b[0;32m----> 3\u001b[0;31m \u001b[0mpolar_performance_inc\u001b[0m \u001b[0;34m=\u001b[0m \u001b[0mpolar_dice\u001b[0m \u001b[0;34m-\u001b[0m \u001b[0mpolar_big_score\u001b[0m\u001b[0;34m\u001b[0m\u001b[0;34m\u001b[0m\u001b[0m\n\u001b[0m\u001b[1;32m      4\u001b[0m \u001b[0mplt\u001b[0m\u001b[0;34m.\u001b[0m\u001b[0mplot\u001b[0m\u001b[0;34m(\u001b[0m\u001b[0mnp\u001b[0m\u001b[0;34m.\u001b[0m\u001b[0msort\u001b[0m\u001b[0;34m(\u001b[0m\u001b[0mpolar_dice\u001b[0m\u001b[0;34m)\u001b[0m\u001b[0;34m)\u001b[0m\u001b[0;34m\u001b[0m\u001b[0;34m\u001b[0m\u001b[0m\n\u001b[1;32m      5\u001b[0m \u001b[0mplt\u001b[0m\u001b[0;34m.\u001b[0m\u001b[0mplot\u001b[0m\u001b[0;34m(\u001b[0m\u001b[0mnp\u001b[0m\u001b[0;34m.\u001b[0m\u001b[0msort\u001b[0m\u001b[0;34m(\u001b[0m\u001b[0mpolar_big_score\u001b[0m\u001b[0;34m)\u001b[0m\u001b[0;34m)\u001b[0m\u001b[0;34m\u001b[0m\u001b[0;34m\u001b[0m\u001b[0m\n",
      "\u001b[0;31mValueError\u001b[0m: operands could not be broadcast together with shapes (2868,) (956,) "
     ]
    }
   ],
   "source": [
    "polar_big_score = np.load('polar_overall.npy')\n",
    "polar_dice = np.load('polar_new_pre.npy')\n",
    "polar_performance_inc = polar_dice - polar_big_score\n",
    "plt.plot(np.sort(polar_dice))\n",
    "plt.plot(np.sort(polar_big_score))\n",
    "plt.plot(np.sort(polar_performance_inc))\n",
    "plt.legend(['new','past','dif'])"
   ]
  },
  {
   "cell_type": "code",
   "execution_count": 10,
   "id": "f9c42270",
   "metadata": {},
   "outputs": [
    {
     "ename": "NameError",
     "evalue": "name 'carte_dice' is not defined",
     "output_type": "error",
     "traceback": [
      "\u001b[0;31m---------------------------------------------------------------------------\u001b[0m",
      "\u001b[0;31mNameError\u001b[0m                                 Traceback (most recent call last)",
      "\u001b[0;32m/var/folders/6_/n16h1wkj3ybgz_kztb40727m0000gn/T/ipykernel_10545/263612048.py\u001b[0m in \u001b[0;36m<module>\u001b[0;34m\u001b[0m\n\u001b[1;32m      1\u001b[0m \u001b[0mcarte_big_score\u001b[0m \u001b[0;34m=\u001b[0m \u001b[0mnp\u001b[0m\u001b[0;34m.\u001b[0m\u001b[0mload\u001b[0m\u001b[0;34m(\u001b[0m\u001b[0;34m'big_carte_prediction_score.npy'\u001b[0m\u001b[0;34m)\u001b[0m\u001b[0;34m\u001b[0m\u001b[0;34m\u001b[0m\u001b[0m\n\u001b[1;32m      2\u001b[0m \u001b[0;34m\u001b[0m\u001b[0m\n\u001b[0;32m----> 3\u001b[0;31m \u001b[0mcarte_performance_inc\u001b[0m \u001b[0;34m=\u001b[0m \u001b[0mcarte_dice\u001b[0m \u001b[0;34m-\u001b[0m \u001b[0mcarte_big_score\u001b[0m\u001b[0;34m\u001b[0m\u001b[0;34m\u001b[0m\u001b[0m\n\u001b[0m\u001b[1;32m      4\u001b[0m \u001b[0mplt\u001b[0m\u001b[0;34m.\u001b[0m\u001b[0mplot\u001b[0m\u001b[0;34m(\u001b[0m\u001b[0mnp\u001b[0m\u001b[0;34m.\u001b[0m\u001b[0msort\u001b[0m\u001b[0;34m(\u001b[0m\u001b[0mcarte_dice\u001b[0m\u001b[0;34m)\u001b[0m\u001b[0;34m)\u001b[0m\u001b[0;34m\u001b[0m\u001b[0;34m\u001b[0m\u001b[0m\n\u001b[1;32m      5\u001b[0m \u001b[0mplt\u001b[0m\u001b[0;34m.\u001b[0m\u001b[0mplot\u001b[0m\u001b[0;34m(\u001b[0m\u001b[0mnp\u001b[0m\u001b[0;34m.\u001b[0m\u001b[0msort\u001b[0m\u001b[0;34m(\u001b[0m\u001b[0mcarte_big_score\u001b[0m\u001b[0;34m)\u001b[0m\u001b[0;34m)\u001b[0m\u001b[0;34m\u001b[0m\u001b[0;34m\u001b[0m\u001b[0m\n",
      "\u001b[0;31mNameError\u001b[0m: name 'carte_dice' is not defined"
     ]
    }
   ],
   "source": [
    "carte_big_score = np.load('big_carte_prediction_score.npy')\n",
    "\n",
    "carte_performance_inc = carte_dice - carte_big_score\n",
    "plt.plot(np.sort(carte_dice))\n",
    "plt.plot(np.sort(carte_big_score))\n",
    "plt.plot(np.sort(carte_performance_inc))\n",
    "plt.legend(['new','past','dif'])"
   ]
  },
  {
   "cell_type": "code",
   "execution_count": null,
   "id": "d1dda7b9",
   "metadata": {},
   "outputs": [],
   "source": []
  }
 ],
 "metadata": {
  "kernelspec": {
   "display_name": "Python 3 (ipykernel)",
   "language": "python",
   "name": "python3"
  },
  "language_info": {
   "codemirror_mode": {
    "name": "ipython",
    "version": 3
   },
   "file_extension": ".py",
   "mimetype": "text/x-python",
   "name": "python",
   "nbconvert_exporter": "python",
   "pygments_lexer": "ipython3",
   "version": "3.11.5"
  }
 },
 "nbformat": 4,
 "nbformat_minor": 5
}
