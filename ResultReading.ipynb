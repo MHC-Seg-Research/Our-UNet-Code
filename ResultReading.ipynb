{
 "cells": [
  {
   "cell_type": "markdown",
   "id": "ab00a2f7",
   "metadata": {},
   "source": [
    "# Instruction on how to read from the result folder\n",
    "Author: Yicheng Zhu 2023-11-07\n",
    "yzhu19@smith.edu"
   ]
  },
  {
   "cell_type": "markdown",
   "id": "d8869307",
   "metadata": {},
   "source": [
    "-------------"
   ]
  },
  {
   "cell_type": "markdown",
   "id": "60dc1e48",
   "metadata": {},
   "source": [
    "## Convention\n",
    "\n",
    "#### <span style=\"color:red\">IMPORTANT</span>\n",
    "\n",
    "Throughout this experiment, _polar-dominant_ is ```True``` and _cartesian-dominant_ is ```False```\n",
    "\n",
    "Throughout this experiment, if there is a matrix and contains 10 columns, ```index 0 - 4``` represent the five polar-dominant portions, and ```index 5 - 9``` represent the five cartesian-dominant portions"
   ]
  },
  {
   "cell_type": "markdown",
   "id": "425c6649",
   "metadata": {},
   "source": [
    "_________________\n"
   ]
  },
  {
   "cell_type": "markdown",
   "id": "fb408fe5",
   "metadata": {},
   "source": [
    "## Overview\n",
    "All the usable data are recorded in the form of numpy arrays.\n",
    "\n",
    "Because of the lack of labeling of those data, this jupyter notebook will help people easily figure out how to extract the usable data."
   ]
  },
  {
   "cell_type": "markdown",
   "id": "35853c9f",
   "metadata": {},
   "source": [
    "#### Import the packages for use"
   ]
  },
  {
   "cell_type": "code",
   "execution_count": 1,
   "id": "0b600bd0",
   "metadata": {},
   "outputs": [
    {
     "name": "stderr",
     "output_type": "stream",
     "text": [
      "2023-11-23 20:47:38.612196: I tensorflow/core/util/util.cc:169] oneDNN custom operations are on. You may see slightly different numerical results due to floating-point round-off errors from different computation orders. To turn them off, set the environment variable `TF_ENABLE_ONEDNN_OPTS=0`.\n"
     ]
    }
   ],
   "source": [
    "import numpy as np\n",
    "import matplotlib.pyplot as plt\n",
    "import os\n",
    "import cv2\n",
    "from p2ctransformer.p2c import *\n",
    "from model import *\n",
    "from data import *\n",
    "from defines import *"
   ]
  },
  {
   "cell_type": "markdown",
   "id": "26f36d3b",
   "metadata": {},
   "source": [
    "#### Set the directory of the interested result folder\n",
    "Note that depending on the migration framework used, it's possible that some data is not available -- for example, there is no 'probability-history' if Cuiling's method or Chris' method is used."
   ]
  },
  {
   "cell_type": "markdown",
   "id": "aec9420e",
   "metadata": {},
   "source": [
    "Here set the ```resultdir``` to the address of 'results' folder"
   ]
  },
  {
   "cell_type": "code",
   "execution_count": 2,
   "metadata": {},
   "outputs": [],
   "source": [
    "resultsdir = '/home/scram-2004/Project/Our-UNet-Code/results'"
   ]
  },
  {
   "cell_type": "code",
   "execution_count": 48,
   "id": "ab428dbd",
   "metadata": {},
   "outputs": [],
   "source": [
    "resultsdir = '/home/scram-2004/Project/Our-UNet-Code/history_results/results20231120'"
   ]
  },
  {
   "cell_type": "markdown",
   "id": "ed772607",
   "metadata": {},
   "source": [
    "----------------------"
   ]
  },
  {
   "cell_type": "markdown",
   "id": "2394a12a",
   "metadata": {},
   "source": [
    "## Type of Data stored"
   ]
  },
  {
   "cell_type": "markdown",
   "id": "91ee7e5e",
   "metadata": {},
   "source": [
    "### 0. FileMatrix\n",
    "Filematrix is stored as ```.png``` file and therefore is a little different to load. The purpose of it is to enable a visual sanity check of if only once one image is appeared in. \n",
    "\n",
    "This png contains of a 7407 * 10 matrix. Each row represents one image, e.g. first row represents image ```0.tif```. The black dot's location represents the file location."
   ]
  },
  {
   "cell_type": "markdown",
   "id": "1c50489e",
   "metadata": {},
   "source": [
    "#### Instruction on how to read filematrix\n",
    "Well, basically click open and scan through. The location information contained can be found in score-matrix, so there's no need to bother reading this file."
   ]
  },
  {
   "cell_type": "markdown",
   "id": "3e0acd11",
   "metadata": {},
   "source": [
    "### 1. History\n",
    "History is a location log that records the coarse location of if the image is considered as polar or cartesian dominant per that round. \n",
    "\n",
    "History contains of 7404*(R+1) data, where R is the number of rounds we iterate through\n",
    "\n",
    "A newer history will contain the older one, so it's always just enough to read the history file names: ```history_round_MAXNUM.npy```\n"
   ]
  },
  {
   "cell_type": "markdown",
   "id": "2cbe6faa",
   "metadata": {},
   "source": [
    "#### Example of reading history location"
   ]
  },
  {
   "cell_type": "code",
   "execution_count": 16,
   "id": "b9aa636f",
   "metadata": {},
   "outputs": [],
   "source": [
    "history_file = os.path.join(resultsdir,'history/history_round_2.npy')"
   ]
  },
  {
   "cell_type": "code",
   "execution_count": 17,
   "id": "06dd1cb2",
   "metadata": {},
   "outputs": [],
   "source": [
    "history = np.load(history_file)"
   ]
  },
  {
   "cell_type": "code",
   "execution_count": 18,
   "id": "6e12c676",
   "metadata": {},
   "outputs": [
    {
     "data": {
      "text/plain": [
       "(7404, 4)"
      ]
     },
     "execution_count": 18,
     "metadata": {},
     "output_type": "execute_result"
    }
   ],
   "source": [
    "history.shape"
   ]
  },
  {
   "cell_type": "code",
   "execution_count": 19,
   "id": "ea4136c5",
   "metadata": {},
   "outputs": [],
   "source": [
    "history_slice = history[:,-1]"
   ]
  },
  {
   "cell_type": "code",
   "execution_count": 20,
   "id": "68aaddc0",
   "metadata": {},
   "outputs": [
    {
     "data": {
      "text/plain": [
       "(7404,)"
      ]
     },
     "execution_count": 20,
     "metadata": {},
     "output_type": "execute_result"
    }
   ],
   "source": [
    "history_slice.shape"
   ]
  },
  {
   "cell_type": "code",
   "execution_count": 6,
   "id": "0c8621f0",
   "metadata": {},
   "outputs": [
    {
     "name": "stdout",
     "output_type": "stream",
     "text": [
      "3702\n",
      "3702\n",
      "3702\n",
      "3702\n"
     ]
    }
   ],
   "source": [
    "for i in range(history.shape[1]):\n",
    "    slice = history[:,i]\n",
    "    print(np.sum(slice))"
   ]
  },
  {
   "cell_type": "markdown",
   "id": "50ab4a81",
   "metadata": {},
   "source": [
    "### 2. Models History\n",
    "Model History is the log of loss history when the model was trained. For each iteration, the five polar model histories and the five cartesian model histories are bundled into two seperate files and can be found separately. \n",
    "\n",
    "Basically, the most relevant data we can extract from a model history is the loss that it is converged to. Given that we are using the checkpoint to store the model with minimum loss, the last digit of the curve does not necessarily mean the final loss of the one that we finally decided to keep.\n",
    "\n",
    "In order to extract that, the minimum of each curve should be taken."
   ]
  },
  {
   "cell_type": "markdown",
   "id": "88be2d7b",
   "metadata": {},
   "source": [
    "#### Example of reading model history"
   ]
  },
  {
   "cell_type": "code",
   "execution_count": 3,
   "id": "adc135f6",
   "metadata": {},
   "outputs": [],
   "source": [
    "model_history_file = os.path.join(resultsdir,'models_history/round_2/polar_history.npy')\n",
    "model_history = np.load(model_history_file)"
   ]
  },
  {
   "cell_type": "code",
   "execution_count": 24,
   "id": "8790c076",
   "metadata": {},
   "outputs": [
    {
     "data": {
      "text/plain": [
       "(146, 5)"
      ]
     },
     "execution_count": 24,
     "metadata": {},
     "output_type": "execute_result"
    }
   ],
   "source": [
    "model_history.shape"
   ]
  },
  {
   "cell_type": "code",
   "execution_count": 64,
   "metadata": {},
   "outputs": [
    {
     "name": "stdout",
     "output_type": "stream",
     "text": [
      "[[0.6147598  0.52480102 0.46398711 0.44083706 0.44537193]\n",
      " [0.42178711 0.41955295 0.39993793 0.40028569 0.41803089]\n",
      " [0.37903076 0.38425094 0.38500077 0.38830745 0.38361058]\n",
      " [0.35382637 0.35415089 0.35718337 0.34694457 0.35426524]\n",
      " [0.34269994 0.34710568 0.34981924 0.34080976 0.33543637]\n",
      " [0.32762009 0.3236362  0.32576209 0.3071661  0.32708886]\n",
      " [0.30260515 0.31512773 0.29995942 0.30599359 0.30102876]\n",
      " [0.32285589 0.29214433 0.29930893 0.29229319 0.29204762]\n",
      " [0.3036792  0.2893908  0.27534518 0.30345672 0.27100024]\n",
      " [0.28595433 0.28041393 0.25404617 0.27471003 0.27643558]\n",
      " [0.29399014 0.28628424 0.23937118 0.26795584 0.27323756]\n",
      " [0.60171747 0.52044374 0.45199874 0.47144729 0.41806483]\n",
      " [0.42941391 0.38864514 0.42484364 0.38493305 0.38702139]\n",
      " [0.38838878 0.37600243 0.38022363 0.38175073 0.33705139]\n",
      " [0.35799402 0.33245102 0.35084504 0.34670243 0.35840917]\n",
      " [0.32012597 0.33515069 0.30267105 0.32587725 0.30365545]\n",
      " [0.32920739 0.31175062 0.33620593 0.29836878 0.29415554]\n",
      " [0.71613026 0.64807051 0.62977636 0.60051817 0.62086791]\n",
      " [0.60227817 0.41805527 0.43140826 0.38973483 0.40111932]\n",
      " [0.40826705 0.3665247  0.40026006 0.37361267 0.36707193]\n",
      " [0.37428787 0.36653301 0.35422808 0.33474556 0.36892062]\n",
      " [0.32537729 0.33009684 0.31797546 0.32953766 0.31807035]\n",
      " [0.29879558 0.31951258 0.30756414 0.30364659 0.30027306]\n",
      " [0.29068127 0.31614104 0.3118962  0.31948897 0.30860776]\n",
      " [0.31881493 0.28552377 0.27457601 0.2972028  0.29578879]\n",
      " [0.27357695 0.28404391 0.26832163 0.2811473  0.28821394]\n",
      " [0.29644775 0.2625401  0.28301167 0.26125592 0.27536923]\n",
      " [0.25533473 0.2736761  0.26019287 0.26105711 0.26440507]\n",
      " [0.2451207  0.25025612 0.2667346  0.26240543 0.26826108]\n",
      " [0.24855249 0.25434285 0.24015813 0.24351326 0.26589581]\n",
      " [0.26458168 0.25594464 0.24603383 0.24381407 0.23769611]\n",
      " [0.25296363 0.24731499 0.23218729 0.22367972 0.22759353]\n",
      " [0.24170068 0.22304159 0.21678577 0.24650985 0.22704875]\n",
      " [0.68743217 0.52198374 0.47425094 0.46840775 0.4199014 ]\n",
      " [0.43635392 0.43357468 0.4132522  0.36957374 0.38103732]\n",
      " [0.38999122 0.41639736 0.36051899 0.39256591 0.37760597]\n",
      " [0.37442639 0.36960724 0.34259963 0.36196941 0.3477731 ]\n",
      " [0.37017423 0.36379784 0.36093858 0.33296245 0.32390246]\n",
      " [0.34105462 0.34937984 0.35703257 0.33286116 0.31284022]\n",
      " [0.34622872 0.32746732 0.29441041 0.31024632 0.33433935]\n",
      " [0.31381398 0.31833196 0.29107958 0.30608922 0.30643621]\n",
      " [0.29550564 0.30464533 0.28461406 0.31525141 0.3143945 ]\n",
      " [0.28752607 0.28345436 0.29782888 0.29472175 0.30456045]\n",
      " [0.26691496 0.27604282 0.27715427 0.26872459 0.28367743]\n",
      " [0.26605472 0.25821179 0.28735766 0.29544196 0.27310938]\n",
      " [0.26458234 0.25234017 0.26896402 0.28350484 0.26803574]\n",
      " [0.25625008 0.26901042 0.25976792 0.25094512 0.245959  ]\n",
      " [0.26459619 0.24801281 0.25070605 0.24050587 0.25242373]\n",
      " [0.23941699 0.25773224 0.2382036  0.24918354 0.22892985]\n",
      " [0.74472588 0.65924382 0.61214745 0.61402106 0.59360051]\n",
      " [0.59784526 0.58074415 0.58464789 0.58161122 0.58175832]\n",
      " [0.58052707 0.57746667 0.55929738 0.56707335 0.55316651]\n",
      " [0.56917638 0.57070994 0.56168479 0.54933381 0.56152248]\n",
      " [0.5455454  0.56870627 0.54750448 0.5437932  0.53552896]\n",
      " [0.53827494 0.52151185 0.54692179 0.52936262 0.53380203]\n",
      " [0.5242095  0.5274927  0.5430578  0.51908696 0.51736629]\n",
      " [0.51231974 0.51523393 0.50769675 0.50844371 0.52180016]\n",
      " [0.50517112 0.50491238 0.50770748 0.50080252 0.50795776]\n",
      " [0.51304054 0.51237875 0.50042886 0.48927984 0.51175243]\n",
      " [0.4968659  0.48524371 0.4838421  0.48838234 0.48820019]\n",
      " [0.48678595 0.49276453 0.47555283 0.48424646 0.47864288]\n",
      " [0.49411419 0.45892587 0.48579788 0.47664624 0.47693583]\n",
      " [0.4814122  0.48691285 0.46037188 0.45704898 0.47852677]\n",
      " [0.48231924 0.49564368 0.48026118 0.47250092 0.45065054]\n",
      " [0.70727473 0.68754137 0.66617191 0.67053378 0.65917277]\n",
      " [0.65013921 0.6653319  0.65958679 0.65691572 0.63367105]\n",
      " [0.6495524  0.65466744 0.62816423 0.64774716 0.65987289]\n",
      " [0.65670156 0.65209514 0.64893955 0.64932936 0.6258688 ]\n",
      " [0.66620284 0.62392235 0.64048868 0.63354135 0.66056359]\n",
      " [0.620839   0.65461987 0.65052283 0.63264507 0.64435244]\n",
      " [0.6442247  0.63642472 0.61669493 0.64469373 0.6460219 ]\n",
      " [0.64364356 0.64170176 0.61238384 0.6316722  0.63349128]\n",
      " [0.6596787  0.61091185 0.64226627 0.64609849 0.65557039]\n",
      " [0.65266442 0.6302399  0.59727627 0.64189452 0.63015491]\n",
      " [0.63210917 0.52232116 0.52759105 0.47288951 0.47490585]\n",
      " [0.43984973 0.4547765  0.42722711 0.40208387 0.37899676]\n",
      " [0.40328658 0.37084472 0.39184642 0.38735467 0.408784  ]\n",
      " [0.37424451 0.35603079 0.3848556  0.37513849 0.35545942]\n",
      " [0.35768414 0.34343424 0.35305321 0.36788476 0.33303848]\n",
      " [0.33588287 0.34006718 0.35058621 0.30083641 0.32360455]\n",
      " [0.3311989  0.31510556 0.32797462 0.29609853 0.34221363]]\n"
     ]
    }
   ],
   "source": [
    "print(model_history)"
   ]
  },
  {
   "cell_type": "code",
   "execution_count": 4,
   "id": "a7cb2c26",
   "metadata": {},
   "outputs": [
    {
     "data": {
      "text/plain": [
       "[<matplotlib.lines.Line2D at 0x7f7229429bd0>,\n",
       " <matplotlib.lines.Line2D at 0x7f722940c990>,\n",
       " <matplotlib.lines.Line2D at 0x7f7229429d10>,\n",
       " <matplotlib.lines.Line2D at 0x7f7229429d90>,\n",
       " <matplotlib.lines.Line2D at 0x7f7229429e50>]"
      ]
     },
     "execution_count": 4,
     "metadata": {},
     "output_type": "execute_result"
    },
    {
     "data": {
      "image/png": "[encoded data removed]",
      "text/plain": [
       "<Figure size 432x288 with 1 Axes>"
      ]
     },
     "metadata": {
      "needs_background": "light"
     },
     "output_type": "display_data"
    }
   ],
   "source": [
    "\n",
    "plt.plot(model_history[:][:][:])\n"
   ]
  },
  {
   "cell_type": "code",
   "execution_count": 5,
   "id": "b95732c1",
   "metadata": {},
   "outputs": [
    {
     "name": "stdout",
     "output_type": "stream",
     "text": [
      "0.6506643891334534\n",
      "0.6410712599754333\n",
      "0.6191011071205139\n",
      "0.6635892987251282\n",
      "0.6469100117683411\n"
     ]
    }
   ],
   "source": [
    "#Getting the min of model loss\n",
    "for i in range(5):\n",
    "    current_model = model_history[i][:]\n",
    "    print(np.min(current_model))"
   ]
  },
  {
   "cell_type": "markdown",
   "id": "5d0ebc7a",
   "metadata": {},
   "source": [
    "### 3. prob_history"
   ]
  },
  {
   "cell_type": "markdown",
   "id": "5a267ad0",
   "metadata": {},
   "source": [
    "This is only going to appear in Yicheng's random migration framework result so that I will skip this part for now."
   ]
  },
  {
   "cell_type": "markdown",
   "id": "92098f7c",
   "metadata": {},
   "source": [
    "### 4. Score Matrix\n",
    "\n",
    "#### <span style=\"color:red\">IMPORTANT</span>\n",
    "\n",
    "Score matrix is the main character here and I believe lots of analysis can be done on it. \n",
    "\n",
    "The shape of it is always 7404*10. Each row, there are 6 scores and 4 blanks (in the form of 0s). The location tells us which model is this score generated from. \n",
    "\n",
    "For example, the score in the second coloumn is always the generated by the polar model which used the portion index 0, 2, 3, 4 as the training set.\n",
    "\n",
    "#### In-group score vs. out-of-group scores\n",
    "\n",
    "Given that there are 6 scores, 1 in-group and 5 out-of-group, stored in the matrix, I need to clarify that the one in-group score is what we considered MOST IMPORTANT because ultimately we would like to have a better and better in-group score."
   ]
  },
  {
   "cell_type": "markdown",
   "id": "a8ddaf1c",
   "metadata": {},
   "source": [
    "#### Example of reading score matrix:"
   ]
  },
  {
   "cell_type": "markdown",
   "id": "b12b662e",
   "metadata": {},
   "source": [
    "1. Example for plotting out the in-group score (weighted)"
   ]
  },
  {
   "cell_type": "code",
   "execution_count": 6,
   "id": "40ac6320",
   "metadata": {},
   "outputs": [
    {
     "data": {
      "image/png": "[encoded data removed]",
      "text/plain": [
       "<Figure size 432x288 with 1 Axes>"
      ]
     },
     "metadata": {
      "needs_background": "light"
     },
     "output_type": "display_data"
    }
   ],
   "source": [
    "for i in range(5):\n",
    "    x_range = 7404\n",
    "    scoreMatrix_file = 'scorematrix/scorematrix_round_' + str(i) + '.npy'\n",
    "    scoreMatrix = np.load(os.path.join(resultsdir, scoreMatrix_file))\n",
    "    model_history_file_polar = os.path.join(resultsdir,'models_history/round_'+ str(i) +'/polar_history.npy')\n",
    "    model_history_file_carte = os.path.join(resultsdir,'models_history/round_'+ str(i) +'/carte_history.npy')\n",
    "    model_history_polar = np.load(model_history_file_polar)\n",
    "    model_history_carte = np.load(model_history_file_carte)\n",
    "    model_loss_num = []\n",
    "    for i in range(5):\n",
    "        current_model = model_history_polar[i][:]\n",
    "        model_loss_num.append(np.min(current_model))\n",
    "    for i in range(5):\n",
    "        current_model = model_history_carte[i][:]\n",
    "        model_loss_num.append(np.min(current_model))\n",
    "    #print(model_loss_num)\n",
    "    picked_score = np.zeros(scoreMatrix[:,0].shape)\n",
    "    weighted_score = np.zeros(scoreMatrix[:,0].shape)\n",
    "    i = 0\n",
    "    for each_row in scoreMatrix:\n",
    "        first_zero = np.where(each_row == 0)[0][0]\n",
    "        if first_zero >= 5:\n",
    "            chosen = max(each_row[5:])\n",
    "        else:\n",
    "            chosen = max(each_row[:5])\n",
    "        picked_score[i] = chosen\n",
    "        #print(each_row)\n",
    "        #print(chosen)\n",
    "        picked_index = np.where(each_row == chosen)[0][0]\n",
    "        #print(picked_index)\n",
    "        picked_loss = model_loss_num[picked_index]\n",
    "        weighted_score[i] = chosen * (1 - picked_loss)\n",
    "        i += 1\n",
    "    #print(picked_score)\n",
    "    plt.plot(np.sort(picked_score))\n",
    "    plt.legend([1,2,3,4,5,6,7,8,9,10])\n"
   ]
  },
  {
   "cell_type": "markdown",
   "metadata": {},
   "source": [
    "2. Example for getting a filtered illustration, from the first one, pick out the index that contains the scores below threshold, then ignore all data from that index for the rest rounds."
   ]
  },
  {
   "cell_type": "code",
   "execution_count": 27,
   "metadata": {},
   "outputs": [
    {
     "name": "stdout",
     "output_type": "stream",
     "text": [
      "1286\n",
      "1286\n",
      "1286\n",
      "1286\n",
      "1286\n"
     ]
    },
    {
     "data": {
      "image/png": "[encoded data removed]",
      "text/plain": [
       "<Figure size 432x288 with 1 Axes>"
      ]
     },
     "metadata": {
      "needs_background": "light"
     },
     "output_type": "display_data"
    }
   ],
   "source": [
    "index_below_threshold = []\n",
    "ifFirstRound = True\n",
    "check_Threshold = 0.5\n",
    "for i in range(5):\n",
    "    x_range = 7404\n",
    "    scoreMatrix_file = 'scorematrix/scorematrix_round_' + str(i) + '.npy'\n",
    "    scoreMatrix = np.load(os.path.join(resultsdir, scoreMatrix_file))\n",
    "    model_history_file_polar = os.path.join(resultsdir,'models_history/round_'+ str(i) +'/polar_history.npy')\n",
    "    model_history_file_carte = os.path.join(resultsdir,'models_history/round_'+ str(i) +'/carte_history.npy')\n",
    "    model_history_polar = np.load(model_history_file_polar)\n",
    "    model_history_carte = np.load(model_history_file_carte)\n",
    "    model_loss_num = []\n",
    "    for i in range(5):\n",
    "        current_model = model_history_polar[i][:]\n",
    "        model_loss_num.append(np.min(current_model))\n",
    "    for i in range(5):\n",
    "        current_model = model_history_carte[i][:]\n",
    "        model_loss_num.append(np.min(current_model))\n",
    "    #print(model_loss_num)\n",
    "    picked_score = np.zeros(scoreMatrix[:,0].shape)\n",
    "    weighted_score = np.zeros(scoreMatrix[:,0].shape)\n",
    "    i = 0\n",
    "    for each_row in scoreMatrix:\n",
    "        first_zero = np.where(each_row == 0)[0][0]\n",
    "        if first_zero >= 5:\n",
    "            chosen = max(each_row[5:])\n",
    "        else:\n",
    "            chosen = max(each_row[:5])\n",
    "        \n",
    "        if ifFirstRound:\n",
    "            if chosen < check_Threshold:\n",
    "                picked_score[i] = chosen\n",
    "                index_below_threshold.append(True)\n",
    "            else:\n",
    "                picked_score[i] = 0\n",
    "                index_below_threshold.append(False)\n",
    "        else:\n",
    "            if not index_below_threshold[i]:\n",
    "                picked_score[i] = 0\n",
    "            else:\n",
    "                if chosen > check_Threshold:\n",
    "                    picked_score[i] = 0\n",
    "                    index_below_threshold[i] = True\n",
    "                else:\n",
    "                    picked_score[i] = chosen\n",
    "        print(np.sum(index_below_threshold))\n",
    "        #print(each_row)\n",
    "        #print(chosen)\n",
    "        picked_index = np.where(each_row == chosen)[0][0]\n",
    "        #print(picked_index)\n",
    "        picked_loss = model_loss_num[picked_index]\n",
    "        weighted_score[i] = chosen * (1 - picked_loss)\n",
    "        i += 1\n",
    "    ifFirstRound = False\n",
    "    #print(picked_score)\n",
    "    plt.plot(np.sort(picked_score))\n",
    "    plt.legend([1,2,3,4,5,6,7,8,9,10])\n",
    "\n",
    "    "
   ]
  },
  {
   "cell_type": "markdown",
   "metadata": {},
   "source": [
    "2.1. After getting the index, load other histories to see if those images are consistently BAD regardless of the round\n"
   ]
  },
  {
   "cell_type": "code",
   "execution_count": 20,
   "metadata": {},
   "outputs": [
    {
     "ename": "FileNotFoundError",
     "evalue": "[Errno 2] No such file or directory: 'history_results/results20231028/scorematrix/scorematrix_round_4.npy'",
     "output_type": "error",
     "traceback": [
      "\u001b[0;31m---------------------------------------------------------------------------\u001b[0m",
      "\u001b[0;31mFileNotFoundError\u001b[0m                         Traceback (most recent call last)",
      "\u001b[0;32m/tmp/ipykernel_420094/1177373931.py\u001b[0m in \u001b[0;36m<module>\u001b[0;34m\u001b[0m\n\u001b[1;32m      4\u001b[0m     \u001b[0mx_range\u001b[0m \u001b[0;34m=\u001b[0m \u001b[0;36m7404\u001b[0m\u001b[0;34m\u001b[0m\u001b[0;34m\u001b[0m\u001b[0m\n\u001b[1;32m      5\u001b[0m     \u001b[0mscoreMatrix_file\u001b[0m \u001b[0;34m=\u001b[0m \u001b[0;34m'scorematrix/scorematrix_round_'\u001b[0m \u001b[0;34m+\u001b[0m \u001b[0mstr\u001b[0m\u001b[0;34m(\u001b[0m\u001b[0mi\u001b[0m\u001b[0;34m)\u001b[0m \u001b[0;34m+\u001b[0m \u001b[0;34m'.npy'\u001b[0m\u001b[0;34m\u001b[0m\u001b[0;34m\u001b[0m\u001b[0m\n\u001b[0;32m----> 6\u001b[0;31m     \u001b[0mscoreMatrix\u001b[0m \u001b[0;34m=\u001b[0m \u001b[0mnp\u001b[0m\u001b[0;34m.\u001b[0m\u001b[0mload\u001b[0m\u001b[0;34m(\u001b[0m\u001b[0mos\u001b[0m\u001b[0;34m.\u001b[0m\u001b[0mpath\u001b[0m\u001b[0;34m.\u001b[0m\u001b[0mjoin\u001b[0m\u001b[0;34m(\u001b[0m\u001b[0manotherresultdir\u001b[0m\u001b[0;34m,\u001b[0m \u001b[0mscoreMatrix_file\u001b[0m\u001b[0;34m)\u001b[0m\u001b[0;34m)\u001b[0m\u001b[0;34m\u001b[0m\u001b[0;34m\u001b[0m\u001b[0m\n\u001b[0m\u001b[1;32m      7\u001b[0m     \u001b[0mmodel_history_file_polar\u001b[0m \u001b[0;34m=\u001b[0m \u001b[0mos\u001b[0m\u001b[0;34m.\u001b[0m\u001b[0mpath\u001b[0m\u001b[0;34m.\u001b[0m\u001b[0mjoin\u001b[0m\u001b[0;34m(\u001b[0m\u001b[0manotherresultdir\u001b[0m\u001b[0;34m,\u001b[0m\u001b[0;34m'models_history/round_'\u001b[0m\u001b[0;34m+\u001b[0m \u001b[0mstr\u001b[0m\u001b[0;34m(\u001b[0m\u001b[0mi\u001b[0m\u001b[0;34m)\u001b[0m \u001b[0;34m+\u001b[0m\u001b[0;34m'/polar_history.npy'\u001b[0m\u001b[0;34m)\u001b[0m\u001b[0;34m\u001b[0m\u001b[0;34m\u001b[0m\u001b[0m\n\u001b[1;32m      8\u001b[0m     \u001b[0mmodel_history_file_carte\u001b[0m \u001b[0;34m=\u001b[0m \u001b[0mos\u001b[0m\u001b[0;34m.\u001b[0m\u001b[0mpath\u001b[0m\u001b[0;34m.\u001b[0m\u001b[0mjoin\u001b[0m\u001b[0;34m(\u001b[0m\u001b[0manotherresultdir\u001b[0m\u001b[0;34m,\u001b[0m\u001b[0;34m'models_history/round_'\u001b[0m\u001b[0;34m+\u001b[0m \u001b[0mstr\u001b[0m\u001b[0;34m(\u001b[0m\u001b[0mi\u001b[0m\u001b[0;34m)\u001b[0m \u001b[0;34m+\u001b[0m\u001b[0;34m'/carte_history.npy'\u001b[0m\u001b[0;34m)\u001b[0m\u001b[0;34m\u001b[0m\u001b[0;34m\u001b[0m\u001b[0m\n",
      "\u001b[0;32m~/anaconda3/envs/unet/lib/python3.7/site-packages/numpy/lib/npyio.py\u001b[0m in \u001b[0;36mload\u001b[0;34m(file, mmap_mode, allow_pickle, fix_imports, encoding)\u001b[0m\n\u001b[1;32m    415\u001b[0m             \u001b[0mown_fid\u001b[0m \u001b[0;34m=\u001b[0m \u001b[0;32mFalse\u001b[0m\u001b[0;34m\u001b[0m\u001b[0;34m\u001b[0m\u001b[0m\n\u001b[1;32m    416\u001b[0m         \u001b[0;32melse\u001b[0m\u001b[0;34m:\u001b[0m\u001b[0;34m\u001b[0m\u001b[0;34m\u001b[0m\u001b[0m\n\u001b[0;32m--> 417\u001b[0;31m             \u001b[0mfid\u001b[0m \u001b[0;34m=\u001b[0m \u001b[0mstack\u001b[0m\u001b[0;34m.\u001b[0m\u001b[0menter_context\u001b[0m\u001b[0;34m(\u001b[0m\u001b[0mopen\u001b[0m\u001b[0;34m(\u001b[0m\u001b[0mos_fspath\u001b[0m\u001b[0;34m(\u001b[0m\u001b[0mfile\u001b[0m\u001b[0;34m)\u001b[0m\u001b[0;34m,\u001b[0m \u001b[0;34m\"rb\"\u001b[0m\u001b[0;34m)\u001b[0m\u001b[0;34m)\u001b[0m\u001b[0;34m\u001b[0m\u001b[0;34m\u001b[0m\u001b[0m\n\u001b[0m\u001b[1;32m    418\u001b[0m             \u001b[0mown_fid\u001b[0m \u001b[0;34m=\u001b[0m \u001b[0;32mTrue\u001b[0m\u001b[0;34m\u001b[0m\u001b[0;34m\u001b[0m\u001b[0m\n\u001b[1;32m    419\u001b[0m \u001b[0;34m\u001b[0m\u001b[0m\n",
      "\u001b[0;31mFileNotFoundError\u001b[0m: [Errno 2] No such file or directory: 'history_results/results20231028/scorematrix/scorematrix_round_4.npy'"
     ]
    },
    {
     "data": {
      "image/png": "[encoded data removed]",
      "text/plain": [
       "<Figure size 432x288 with 1 Axes>"
      ]
     },
     "metadata": {
      "needs_background": "light"
     },
     "output_type": "display_data"
    }
   ],
   "source": [
    "anotherresultdir = 'history_results/results20231028/'\n",
    "\n",
    "for i in range(5):\n",
    "    x_range = 7404\n",
    "    scoreMatrix_file = 'scorematrix/scorematrix_round_' + str(i) + '.npy'\n",
    "    scoreMatrix = np.load(os.path.join(anotherresultdir, scoreMatrix_file))\n",
    "    model_history_file_polar = os.path.join(anotherresultdir,'models_history/round_'+ str(i) +'/polar_history.npy')\n",
    "    model_history_file_carte = os.path.join(anotherresultdir,'models_history/round_'+ str(i) +'/carte_history.npy')\n",
    "    model_history_polar = np.load(model_history_file_polar)\n",
    "    model_history_carte = np.load(model_history_file_carte)\n",
    "    model_loss_num = []\n",
    "    for i in range(5):\n",
    "        current_model = model_history_polar[i][:]\n",
    "        model_loss_num.append(np.min(current_model))\n",
    "    for i in range(5):\n",
    "        current_model = model_history_carte[i][:]\n",
    "        model_loss_num.append(np.min(current_model))\n",
    "    #print(model_loss_num)\n",
    "    picked_score = np.zeros(scoreMatrix[:,0].shape)\n",
    "    weighted_score = np.zeros(scoreMatrix[:,0].shape)\n",
    "    i = 0\n",
    "    for each_row in scoreMatrix:\n",
    "        first_zero = np.where(each_row == 0)[0][0]\n",
    "        if first_zero >= 5:\n",
    "            chosen = max(each_row[5:])\n",
    "        else:\n",
    "            chosen = max(each_row[:5])\n",
    "        \n",
    "        if ifFirstRound:\n",
    "            if chosen < check_Threshold:\n",
    "                picked_score[i] = chosen\n",
    "                index_below_threshold.append(True)\n",
    "            else:\n",
    "                picked_score[i] = 0\n",
    "                index_below_threshold.append(False)\n",
    "        else:\n",
    "            if not index_below_threshold[i]:\n",
    "                picked_score[i] = 0\n",
    "            else:\n",
    "                picked_score[i] = chosen\n",
    "\n",
    "        #print(each_row)\n",
    "        #print(chosen)\n",
    "        picked_index = np.where(each_row == chosen)[0][0]\n",
    "        #print(picked_index)\n",
    "        picked_loss = model_loss_num[picked_index]\n",
    "        weighted_score[i] = chosen * (1 - picked_loss)\n",
    "        i += 1\n",
    "    ifFirstRound = False\n",
    "    #print(picked_score)\n",
    "    plt.plot(np.sort(picked_score))\n",
    "    plt.legend([1,2,3,4,5,6,7,8,9,10])"
   ]
  },
  {
   "cell_type": "markdown",
   "id": "979a8e52",
   "metadata": {},
   "source": [
    "3. Example for plotting the difference of difference of, for each image, the maximum score it got and the average\n",
    "\n",
    "PS> I know you can do better than my hard-coded method"
   ]
  },
  {
   "cell_type": "code",
   "execution_count": 68,
   "id": "6b1e4fc8",
   "metadata": {},
   "outputs": [
    {
     "data": {
      "text/plain": [
       "[<matplotlib.lines.Line2D at 0x7f8b93068bd0>]"
      ]
     },
     "execution_count": 68,
     "metadata": {},
     "output_type": "execute_result"
    },
    {
     "data": {
      "image/png": "[encoded data removed]",
      "text/plain": [
       "<Figure size 432x288 with 1 Axes>"
      ]
     },
     "metadata": {
      "needs_background": "light"
     },
     "output_type": "display_data"
    }
   ],
   "source": [
    "scoreMatrix_0 = np.load(os.path.join(resultsdir, ('scorematrix/scorematrix_round_0.npy')))\n",
    "scoreMatrix_1 = np.load(os.path.join(resultsdir, ('scorematrix/scorematrix_round_1.npy')))\n",
    "scoreMatrix_2 = np.load(os.path.join(resultsdir, ('scorematrix/scorematrix_round_2.npy')))\n",
    "scoreMatrix_3 = np.load(os.path.join(resultsdir, ('scorematrix/scorematrix_round_3.npy')))\n",
    "\n",
    "dif = []\n",
    "for i in range(scoreMatrix.shape[0]):\n",
    "    fst = np.max(scoreMatrix_0[i]).item(0)\n",
    "    snd = np.max(scoreMatrix_1[i]).item(0)\n",
    "    trd = np.max(scoreMatrix_2[i]).item(0)\n",
    "    fth = np.max(scoreMatrix_3[i]).item(0)\n",
    "    #print(fst,snd,trd,fth)\n",
    "    max_f = max(fst,snd,trd,fth)\n",
    "    avg = (fst+snd+trd+fth)/4\n",
    "    dif.append(max_f - avg)\n",
    "    \n",
    "dif_np = np.asarray(dif)\n",
    "plt.plot(np.sort(dif_np))"
   ]
  },
  {
   "cell_type": "markdown",
   "metadata": {},
   "source": [
    "### This following method is used to pick the interested round and see how many of them are moving around in our method"
   ]
  },
  {
   "cell_type": "code",
   "execution_count": 8,
   "id": "4b8d3228",
   "metadata": {},
   "outputs": [
    {
     "name": "stdout",
     "output_type": "stream",
     "text": [
      "[75, 63, 33, 74, 33]\n",
      "[254, 170, 202, 169, 119]\n"
     ]
    },
    {
     "data": {
      "text/plain": [
       "<matplotlib.legend.Legend at 0x7f7229139810>"
      ]
     },
     "execution_count": 8,
     "metadata": {},
     "output_type": "execute_result"
    },
    {
     "data": {
      "image/png": "[encoded data removed]",
      "text/plain": [
       "<Figure size 432x288 with 1 Axes>"
      ]
     },
     "metadata": {
      "needs_background": "light"
     },
     "output_type": "display_data"
    }
   ],
   "source": [
    "ch_plot = []\n",
    "ph_plot = []\n",
    "for interested_round in range(5):\n",
    "    scoreMatrix_file = 'scorematrix/scorematrix_round_' + str(interested_round) + '.npy'\n",
    "    history_file_path= 'history/history_round_' + str(interested_round) + '.npy'\n",
    "    history_file = os.path.join(resultsdir,history_file_path)\n",
    "    history = np.load(history_file)\n",
    "    scorematrix = np.load(os.path.join(resultsdir, scoreMatrix_file))\n",
    "    history_slice = history[:,interested_round]\n",
    "    diff = np.zeros(7404)\n",
    "    Transition_threshold = 0.3\n",
    "    ch = 0\n",
    "    ph = 0\n",
    "    for i in range(7404):\n",
    "        if history_slice[i]:\n",
    "            polar_score = np.max(scorematrix[i][:5])\n",
    "            carte_score = np.median(scorematrix[i][5:])\n",
    "            #print(carte_score,polar_score)\n",
    "            if carte_score > polar_score:\n",
    "                #print('Carte-higher')\n",
    "                dif = polar_score - carte_score\n",
    "                if abs(dif) > Transition_threshold:\n",
    "                    ch += 1\n",
    "                    #print(scorematrix[i])\n",
    "                    diff[i] = dif\n",
    "                #decision[i] = 1\n",
    "        else:\n",
    "            polar_score = np.median(scorematrix[i][:5])\n",
    "            carte_score = np.max(scorematrix[i][5:])\n",
    "            #print(carte_score,polar_score)\n",
    "            if carte_score < polar_score:\n",
    "                #print('Polar-higer')\n",
    "                dif = polar_score - carte_score\n",
    "                if abs(dif) > Transition_threshold:\n",
    "                    ph += 1\n",
    "                    #print(scorematrix[i])\n",
    "                    diff[i] = dif\n",
    "                    #decision[i] = -1\n",
    "        \n",
    "    #print(ch, ph)\n",
    "    ch_plot.append(ch)\n",
    "    ph_plot.append(ph)\n",
    "\n",
    "plt.plot(ch_plot)\n",
    "plt.plot(ph_plot)\n",
    "print(ch_plot)\n",
    "print(ph_plot)\n",
    "plt.legend(['P2C','C2P'])"
   ]
  },
  {
   "cell_type": "markdown",
   "metadata": {},
   "source": [
    "### This following chunk checks the predicted 956 images. This is only available for results generated after Nov.13 2023"
   ]
  },
  {
   "cell_type": "code",
   "execution_count": 9,
   "metadata": {},
   "outputs": [],
   "source": [
    "def dice_coefficient_carte(image1, image2):#Generate the Dice coefficient of two binary images, should do thresholding before inputting\n",
    "    # Ensure the input images have the same shape\n",
    "    smooth = 1\n",
    "    if image1.shape != image2.shape:\n",
    "        raise ValueError(\"Input images must have the same shape.\")\n",
    "    image1 = np.matrix(image1)\n",
    "    image2 = np.matrix(image2)\n",
    "    img1_f = (~image1.astype(bool)).astype(int)\n",
    "    img2_f = (~image2.astype(bool)).astype(int)\n",
    "    # Calculate the intersection (logical AND) between the two binary images\n",
    "    intersection_o = np.logical_and(image1, image2).sum()\n",
    "    intersection_f = np.logical_and(img1_f, img2_f).sum()\n",
    "    #print(intersection_o,intersection_f)\n",
    "    # Calculate the sum of pixels in each image\n",
    "    sum_image1_o = image1.sum()\n",
    "    sum_image2_o = image2.sum()\n",
    "    #print(sum_image1_o,sum_image2_o)\n",
    "    sum_image1_f = img1_f.sum()\n",
    "    sum_image2_f = img2_f.sum()\n",
    "    #print(sum_image1_f,sum_image2_f)\n",
    "   \n",
    "    # Calculate the Dice coefficient\n",
    "    dice = (2.0 * intersection_o + smooth) / (sum_image1_o + sum_image2_o + smooth)\n",
    "    #print('dice',dice)\n",
    "    dice_f = (2.0 * (intersection_f - 14616) + smooth) / (sum_image1_f + sum_image2_f + smooth - 29232) #Hard-coded numbers here, need to prove \n",
    "    #print('dice_f',dice_f)\n",
    "    dice_avg = (dice + dice_f) / 2.0\n",
    "    #print('dice_avg', dice_avg)\n",
    "    return dice_avg"
   ]
  },
  {
   "cell_type": "code",
   "execution_count": 12,
   "metadata": {},
   "outputs": [
    {
     "name": "stdout",
     "output_type": "stream",
     "text": [
      "1.0 2.0 1.0\n",
      "1.0006026348474468 1.950902755782149 -8.922063949939155\n",
      "1.0024134473682718 1.9017463004610655 -38.63776193393591\n",
      "1.00544119135783 1.8524711369551015 -88.29056687837559\n",
      "1.0097005565352637 1.8030171932856716 -158.12120052393828\n",
      "1.0152123204933219 1.7533235277265227 -248.47012311436634\n",
      "1.0220035651989767 1.7033280249233052 -359.781080629913\n",
      "1.030107961938772 1.6529670797242884 -492.60577336317886\n",
      "1.03956612989658 1.602175265240684 -647.6097308304301\n",
      "1.0504260749907126 1.5508849813657415 -825.579501591479\n",
      "1.0627437172258807 1.499026079617389 -1027.4312932319851\n",
      "1.0765835166847686 1.4465254597191715 -1254.221228386845\n",
      "1.092019210455573 1.3933066327853152 -1507.1574182608688\n",
      "1.1091346753403173 1.339289245311332 -1787.6140968551065\n",
      "1.128024934205407 1.284388557370952 -2097.14810852981\n",
      "1.1487973274334302 1.2285148674577577 -2437.5181004744313\n",
      "1.17157287525381 1.17157287525381 -2810.706842407914\n",
      "1.1964878619450432 1.1134609722182713 -3218.947181273424\n",
      "1.2236956792339264 1.0540704482173602 -3664.7522424412\n",
      "1.2533689739472365 0.9932846004014115 -4150.950615577172\n",
      "1.2857021544554055 0.9309777280984168 -4680.727418714811\n",
      "1.3209143221424415 0.867013994539312 -5257.67232566508\n",
      "1.359252708629945 0.8012461326361526 -5885.835879351755\n",
      "1.400996717537665 0.7335139676448619 -6569.795709451921\n",
      "1.4464626921716894 0.6636427241614022 -7314.734643124628\n",
      "1.4960095589963573 0.5914410782699115 -8126.533163959052\n",
      "1.5500455327856084 0.5166989074559292 -9011.87926471917\n",
      "1.6090361152465453 0.4391846806921129 -9978.39949140346\n",
      "1.673513677715992 0.3586424183426795 -11034.815939602753\n",
      "1.7440889943645193 0.27478813548652026 -12191.135206538433\n",
      "1.8214651907890222 0.18730566196170595 -13458.87691503459\n",
      "1.9064547015827618 0.09584170659814961 -14851.351534323789\n",
      "1.9999999999999998 2.220446049250313e-16 -16383.999999999996\n",
      "2.103199087890325 -0.10066569247971957 -18074.81132259967\n",
      "2.217337035352032 -0.2066599514669516 -19944.83931012381\n",
      "2.343925266431387 -0.318555814666869 -22018.846195760085\n",
      "2.484750841870328 -0.43700705117595273 -24326.11004941276\n",
      "2.6419387536569765 -0.5627631600731089 -26901.445364322324\n",
      "2.818031309036683 -0.6966878269734398 -29786.503623774952\n",
      "3.01609017782527 -0.8397818069881846 -33031.445165118384\n",
      "3.2398288088435496 -0.9932115253309779 -36697.108586809205\n",
      "3.49378599939804 -1.1583451359204173 -40857.85437327401\n",
      "3.7835559091916773 -1.3367984111670141 -45605.33325869842\n",
      "4.1160965123773385 -1.5304937401883825 -51053.539656018125\n",
      "4.50014861423135 -1.7417368235787776 -57345.67648377579\n",
      "4.946813157195198 -1.97331758468673 -64663.61327191361\n",
      "5.470359031630039 -2.22864471509728 -73241.12065991003\n",
      "6.089372901211047 -2.5119277038583174 -83382.70816824444\n",
      "6.82842712474619 -2.82842712474619 -95490.95001184157\n",
      "7.7205508139746915 -3.184805035476143 -110106.96879038285\n",
      "8.810978433275906 -3.5896255449809535 -127971.84929790413\n",
      "10.162990560806412 -4.054086408635547 -150122.32844410007\n",
      "11.86729602491863 -4.593116417876642 -178044.5038926598\n",
      "14.057640120081938 -5.227071362614856 -213929.54515866502\n",
      "16.937850739699517 -5.984447567540165 -261116.7931160647\n",
      "20.831010051529457 -6.906404448828821 -324899.34407865594\n",
      "26.274142369088164 -8.054678984251693 -414075.32911175565\n",
      "34.21380577116479 -9.526284010237609 -544152.306233003\n",
      "46.447180534475535 -11.482904810829977 -744573.6416011235\n",
      "66.73619063830472 -14.215571607353805 -1076971.2267989535\n",
      "104.08686891981709 -18.306340775217684 -1688891.4798541386\n",
      "184.78328094654415 -25.11333848470484 -3010947.6050857175\n",
      "415.3450622318997 -38.710935249974284 -6788254.865480463\n",
      "1660.3796462927621 -79.47096774416669 -27185697.216182064\n",
      "2.6670937881135714e+32 -3.2662478706390736e+16 -4.369499753066464e+36\n",
      "1660.3796462927783 83.47096774416708 -27185534.27424684\n",
      "415.3450622319017 42.71093524997438 -6788173.443609996\n",
      "184.78328094654478 29.113338484704887 -3010893.3784087584\n",
      "104.08686891981738 22.306340775217713 -1688850.8671725928\n",
      "66.73619063830483 18.21557160735382 -1076938.7956557407\n",
      "46.447180534475606 15.482904810829988 -744546.675791503\n",
      "34.21380577116484 13.526284010237617 -544129.2536649834\n",
      "26.2741423690882 12.0546789842517 -414055.21975378774\n",
      "20.83101005152948 10.906404448828827 -324881.5312697586\n",
      "16.937850739699527 9.984447567540169 -261100.82422092985\n",
      "14.05764012008195 9.22707136261486 -213915.09101593998\n",
      "11.867296024918643 8.593116417876645 -178031.31765982424\n",
      "10.16299056080642 8.054086408635548 -150110.22027128295\n",
      "8.810978433275913 7.589625544980956 -127960.67004681431\n",
      "7.720550813974696 7.184805035476145 -110096.59918031197\n",
      "6.828427124746192 6.828427124746191 -95481.29315759211\n",
      "6.089372901211052 6.511927703858319 -83373.6843128368\n",
      "5.470359031630047 6.228644715097284 -73232.66337047996\n",
      "4.946813157195196 5.973317584686729 -64655.6666367442\n",
      "4.500148614231353 5.741736823578779 -57338.19301012867\n",
      "4.116096512377339 5.530493740188383 -51046.47866853777\n",
      "3.783555909191679 5.336798411167015 -45598.65966187611\n",
      "3.4937859993980434 5.1583451359204195 -40851.53768300222\n",
      "3.239828808843553 4.99321152533098 -36691.1221637586\n",
      "3.01609017782527 4.839781806988185 -33025.765601504405\n",
      "2.8180313090366846 4.696687826973441 -29781.11024812103\n",
      "2.641938753656978 4.56276316007311 -26896.319838002193\n",
      "2.484750841870329 4.437007051175954 -24321.236035310427\n",
      "2.3439252664313894 4.318555814666871 -22014.209084130784\n",
      "2.217337035352032 4.206659951466952 -19940.425990220872\n",
      "2.103199087890325 4.100665692479719 -18070.60999121471\n",
      "2.0000000000000004 4.0 -16380.000000000007\n",
      "1.9064547015827626 3.904158293401851 -14847.543217736998\n",
      "1.8214651907890231 3.812694338038295 -13455.25152635853\n",
      "1.7440889943645193 3.7252118645134793 -12187.684782809403\n",
      "1.673513677715992 3.6413575816573207 -11031.53322443944\n",
      "1.6090361152465458 3.5608153193078875 -9975.27786076485\n",
      "1.5500455327856089 3.483301092544071 -9008.912662534085\n",
      "1.4960095589963578 3.408558921730089 -8123.716046115601\n",
      "1.4464626921716894 3.3363572758385978 -7312.061928572948\n",
      "1.400996717537665 3.266486032355138 -6567.26273738721\n",
      "1.3592527086299453 3.1987538673638474 -5883.43837161703\n",
      "1.3209143221424418 3.1329860054606886 -5255.406353654163\n",
      "1.285702154455406 3.069022271901584 -4678.589374171014\n",
      "1.253368973947237 3.0067153995985896 -4148.937184777983\n",
      "1.2236956792339264 2.9459295517826396 -3662.8603833376337\n",
      "1.1964878619450432 2.886539027781729 -3217.1741032178616\n",
      "1.1715728752538102 2.8284271247461903 -2809.0499881584237\n",
      "1.1487973274334307 2.771485132542243 -2435.9751302093505\n",
      "1.1280249342054072 2.715611442629049 -2095.7168856445555\n",
      "1.1091346753403173 2.660710754688668 -1786.2926753457282\n",
      "1.092019210455573 2.606693367214685 -1505.9440315264394\n",
      "1.0765835166847688 2.553474540280829 -1253.114279306285\n",
      "1.0627437172258807 2.500973920382611 -1026.4293453912212\n",
      "1.0504260749907128 2.4491150186342594 -824.6812715542126\n",
      "1.0395661298965801 2.397824734759317 -646.8140813609137\n",
      "1.030107961938772 2.3470329202757116 -491.9117075226273\n",
      "1.0220035651989767 2.296671975076695 -359.1877366797599\n",
      "1.0152123204933219 2.2466764722734776 -247.97677016982\n",
      "1.0097005565352637 2.196982806714329 -157.7272349105104\n",
      "1.00544119135783 2.147528863044899 -87.99550915228656\n",
      "1.0024134473682718 2.0982536995389345 -38.44125453485797\n",
      "1.0006026348474468 2.049097244217851 -8.823869461503483\n",
      "1.0 2.0000000000000004 1.0000000000000002\n",
      "1.0006026348474468 1.9509027557821494 -8.922063949938986\n",
      "1.0024134473682718 1.901746300461066 -38.637761933935444\n",
      "1.00544119135783 1.8524711369551012 -88.29056687837574\n",
      "1.0097005565352637 1.8030171932856716 -158.12120052393826\n",
      "1.0152123204933219 1.753323527726523 -248.47012311436595\n",
      "1.0220035651989767 1.7033280249233056 -359.7810806299121\n",
      "1.030107961938772 1.652967079724289 -492.60577336317726\n",
      "1.0395661298965801 1.6021752652406838 -647.6097308304305\n",
      "1.0504260749907126 1.5508849813657413 -825.5795015914792\n",
      "1.0627437172258807 1.4990260796173893 -1027.4312932319847\n",
      "1.0765835166847686 1.4465254597191717 -1254.2212283868441\n",
      "1.092019210455573 1.3933066327853156 -1507.157418260866\n",
      "1.109134675340317 1.339289245311333 -1787.6140968551024\n",
      "1.128024934205407 1.2843885573709517 -2097.1481085298105\n",
      "1.1487973274334302 1.2285148674577577 -2437.5181004744313\n",
      "1.1715728752538097 1.1715728752538102 -2810.7068424079116\n",
      "1.196487861945043 1.113460972218272 -3218.94718127342\n",
      "1.2236956792339262 1.0540704482173608 -3664.752242441195\n",
      "1.2533689739472365 0.9932846004014113 -4150.950615577174\n",
      "1.2857021544554055 0.9309777280984168 -4680.727418714811\n",
      "1.3209143221424413 0.8670139945393123 -5257.672325665078\n",
      "1.3592527086299449 0.8012461326361531 -5885.83587935175\n",
      "1.4009967175376645 0.7335139676448625 -6569.795709451914\n",
      "1.446462692171689 0.6636427241614031 -7314.734643124619\n",
      "1.4960095589963573 0.5914410782699115 -8126.533163959052\n",
      "1.5500455327856082 0.5166989074559296 -9011.879264719164\n",
      "1.6090361152465449 0.43918468069211336 -9978.399491403454\n",
      "1.6735136777159914 0.3586424183426802 -11034.815939602744\n",
      "1.7440889943645184 0.27478813548652137 -12191.135206538418\n",
      "1.8214651907890225 0.18730566196170573 -13458.876915034594\n",
      "1.9064547015827618 0.09584170659814961 -14851.351534323789\n",
      "1.9999999999999993 6.661338147750939e-16 -16383.999999999989\n",
      "2.103199087890324 -0.10066569247971868 -18074.811322599657\n",
      "2.2173370353520303 -0.20665995146694982 -19944.839310123778\n",
      "2.343925266431386 -0.31855581466686766 -22018.84619576006\n",
      "2.484750841870325 -0.43700705117595007 -24326.11004941271\n",
      "2.6419387536569734 -0.5627631600731062 -26901.44536432227\n",
      "2.8180313090366855 -0.6966878269734416 -29786.503623774992\n",
      "3.0160901778252716 -0.8397818069881859 -33031.44516511841\n",
      "3.2398288088435505 -0.9932115253309783 -36697.10858680922\n",
      "3.4937859993980407 -1.1583451359204178 -40857.85437327402\n",
      "3.783555909191676 -1.3367984111670133 -45605.333258698396\n",
      "4.116096512377337 -1.5304937401883816 -51053.539656018096\n",
      "4.500148614231348 -1.7417368235787767 -57345.67648377576\n",
      "4.946813157195191 -1.9733175846867264 -64663.61327191349\n",
      "5.470359031630032 -2.2286447150972766 -73241.12065990991\n",
      "6.089372901211033 -2.511927703858311 -83382.70816824421\n",
      "6.82842712474617 -2.828427124746182 -95490.95001184125\n",
      "7.720550813974706 -3.184805035476148 -110106.96879038308\n",
      "8.81097843327591 -3.5896255449809553 -127971.84929790422\n",
      "10.16299056080642 -4.054086408635549 -150122.32844410022\n",
      "11.867296024918621 -4.593116417876639 -178044.50389265965\n",
      "14.057640120081924 -5.227071362614852 -213929.54515866478\n",
      "16.9378507396995 -5.984447567540161 -261116.79311606442\n",
      "20.831010051529393 -6.906404448828807 -324899.3440786549\n",
      "26.27414236908807 -8.054678984251675 -414075.32911175414\n",
      "34.21380577116466 -9.526284010237585 -544152.3062330008\n",
      "46.44718053447517 -11.482904810829924 -744573.6416011176\n",
      "66.73619063830506 -14.215571607353848 -1076971.226798959\n",
      "104.08686891981777 -18.306340775217752 -1688891.4798541497\n",
      "184.78328094654464 -25.113338484704876 -3010947.6050857254\n",
      "415.3450622319013 -38.71093524997436 -6788254.865480489\n",
      "1660.3796462927453 -79.47096774416627 -27185697.21618179\n",
      "2.963437542348412e+31 -1.0887492902130244e+16 -4.8549997256294035e+35\n",
      "1660.379646292795 83.4709677441675 -27185534.274247117\n",
      "415.3450622319075 42.71093524997467 -6788173.443610091\n",
      "184.7832809465465 29.113338484705015 -3010893.378408787\n",
      "104.08686891981857 22.30634077521783 -1688850.8671726123\n",
      "66.73619063830544 18.215571607353894 -1076938.7956557507\n",
      "46.4471805344754 15.482904810829957 -744546.6757914997\n",
      "34.2138057711648 13.52628401023761 -544129.2536649827\n",
      "26.27414236908817 12.054678984251694 -414055.21975378727\n",
      "20.831010051529464 10.906404448828823 -324881.53126975836\n",
      "16.93785073969955 9.984447567540172 -261100.82422093014\n",
      "14.057640120081963 9.227071362614863 -213915.09101594018\n",
      "11.867296024918652 8.593116417876647 -178031.3176598244\n",
      "10.162990560806442 8.054086408635555 -150110.2202712833\n",
      "8.810978433275928 7.5896255449809615 -127960.67004681454\n",
      "7.720550813974719 7.1848050354761535 -110096.59918031235\n",
      "6.828427124746183 6.828427124746187 -95481.29315759196\n",
      "6.089372901211044 6.511927703858316 -83373.68431283667\n",
      "5.470359031630039 6.22864471509728 -73232.66337047983\n",
      "4.946813157195198 5.97331758468673 -64655.66663674423\n",
      "4.500148614231354 5.74173682357878 -57338.19301012869\n",
      "4.116096512377343 5.530493740188385 -51046.47866853781\n",
      "3.7835559091916804 5.336798411167016 -45598.65966187613\n",
      "3.4937859993980447 5.15834513592042 -40851.53768300224\n",
      "3.2398288088435545 4.993211525330981 -36691.12216375862\n",
      "3.0160901778252747 4.839781806988189 -33025.765601504485\n",
      "2.8180313090366886 4.696687826973443 -29781.1102481211\n",
      "2.6419387536569756 4.562763160073108 -26896.319838002157\n",
      "2.4847508418703277 4.437007051175952 -24321.2360353104\n",
      "2.3439252664313877 4.318555814666869 -22014.209084130758\n",
      "2.217337035352032 4.206659951466952 -19940.42599022088\n",
      "2.103199087890326 4.100665692479721 -18070.60999121473\n",
      "2.000000000000001 4.000000000000001 -16380.000000000015\n",
      "1.9064547015827633 3.904158293401852 -14847.54321773701\n",
      "1.8214651907890236 3.8126943380382956 -13455.251526358537\n",
      "1.7440889943645208 3.7252118645134815 -12187.68478280943\n",
      "1.6735136777159934 3.6413575816573225 -11031.533224439463\n",
      "1.609036115246547 3.5608153193078893 -9975.277860764872\n",
      "1.550045532785608 3.48330109254407 -9008.912662534072\n",
      "1.4960095589963571 3.408558921730088 -8123.71604611559\n",
      "1.4464626921716894 3.3363572758385978 -7312.06192857295\n",
      "1.4009967175376652 3.2664860323551386 -6567.262737387215\n",
      "1.3592527086299455 3.1987538673638483 -5883.438371617033\n",
      "1.3209143221424418 3.1329860054606886 -5255.406353654164\n",
      "1.2857021544554061 3.0690222719015843 -4678.589374171016\n",
      "1.253368973947237 3.0067153995985896 -4148.937184777985\n",
      "1.223695679233927 2.945929551782641 -3662.860383337644\n",
      "1.1964878619450439 2.88653902778173 -3217.174103217871\n",
      "1.1715728752538106 2.8284271247461916 -2809.049988158432\n",
      "1.1487973274334302 2.7714851325422423 -2435.9751302093455\n",
      "1.1280249342054067 2.715611442629048 -2095.716885644551\n",
      "1.1091346753403173 2.660710754688668 -1786.2926753457293\n",
      "1.0920192104555733 2.6066933672146853 -1505.9440315264405\n",
      "1.0765835166847688 2.553474540280829 -1253.1142793062859\n",
      "1.062743717225881 2.5009739203826116 -1026.4293453912226\n",
      "1.0504260749907128 2.4491150186342594 -824.6812715542136\n",
      "1.0395661298965801 2.397824734759317 -646.8140813609145\n",
      "1.0301079619387723 2.3470329202757125 -491.9117075226306\n",
      "1.022003565198977 2.296671975076696 -359.18773667976274\n",
      "1.0152123204933219 2.246676472273477 -247.97677016981868\n",
      "1.0097005565352637 2.1969828067143284 -157.72723491050937\n",
      "1.00544119135783 2.1475288630448985 -87.99550915228579\n",
      "1.0024134473682718 2.0982536995389345 -38.44125453485817\n",
      "1.0006026348474468 2.049097244217851 -8.82386946150358\n"
     ]
    }
   ],
   "source": [
    "polar_prediction_file = 'polar_prediction.npy'\n",
    "carte_prediction_file = 'carte_prediction.npy'\n",
    "polar_prediction = np.load(os.path.join(resultsdir,polar_prediction_file))\n",
    "carte_prediction = np.load(os.path.join(resultsdir,carte_prediction_file))\n",
    "test_label_folder_path = 'data/endoscopic_test956/cartesian/label'\n",
    "count = 0\n",
    "trans_dic = p2c_dic_gen(127, 127, 256, 256)\n",
    "polar_dice = []\n",
    "carte_dice = []\n",
    "for prediction in [polar_prediction,carte_prediction]:\n",
    "    for i in range(956):\n",
    "        test_file_name = os.path.join(test_label_folder_path, (str(i) + '.tif'))\n",
    "        ground_truth_mask = cv2.imread(test_file_name, cv2.IMREAD_GRAYSCALE)\n",
    "        ground_truth_mask = ground_truth_mask / 255.0\n",
    "        ground_truth_mask = ground_truth_mask.astype(np.uint8)\n",
    "        current_prediction = prediction[i]\n",
    "        current_prediction = np.reshape(current_prediction,(256,256))\n",
    "        threshold = 0.5\n",
    "        current_prediction = (current_prediction > threshold).astype(np.uint8)\n",
    "        if count == 0:\n",
    "            current_prediction = p2c(current_prediction, trans_dic)\n",
    "            polar_dice.append(dice_coefficient_carte(ground_truth_mask,current_prediction))\n",
    "        else:\n",
    "            carte_dice.append(dice_coefficient_carte(ground_truth_mask,current_prediction))\n",
    "            \n",
    "        \n",
    "    count += 1\n",
    "polar_dice = np.asarray(polar_dice)\n",
    "carte_dice = np.asarray(carte_dice)"
   ]
  },
  {
   "cell_type": "code",
   "execution_count": 13,
   "metadata": {},
   "outputs": [
    {
     "data": {
      "text/plain": [
       "<matplotlib.legend.Legend at 0x7f72290f3150>"
      ]
     },
     "execution_count": 13,
     "metadata": {},
     "output_type": "execute_result"
    },
    {
     "data": {
      "image/png": "[encoded data removed]",
      "text/plain": [
       "<Figure size 432x288 with 1 Axes>"
      ]
     },
     "metadata": {
      "needs_background": "light"
     },
     "output_type": "display_data"
    }
   ],
   "source": [
    "polar_past_score_file = 'prev-analysis/analysis_dice_back_Test_P2C.npy'\n",
    "\n",
    "polar_past_score = np.load(polar_past_score_file)\n",
    "\n",
    "polar_performance_inc = polar_dice - polar_past_score\n",
    "plt.plot(np.sort(polar_dice))\n",
    "plt.plot(np.sort(polar_past_score))\n",
    "plt.plot(np.sort(polar_performance_inc))\n",
    "plt.legend(['new','past','dif'])"
   ]
  },
  {
   "cell_type": "code",
   "execution_count": 14,
   "metadata": {},
   "outputs": [
    {
     "data": {
      "text/plain": [
       "<matplotlib.legend.Legend at 0x7f722910fb10>"
      ]
     },
     "execution_count": 14,
     "metadata": {},
     "output_type": "execute_result"
    },
    {
     "data": {
      "image/png": "[encoded data removed]",
      "text/plain": [
       "<Figure size 432x288 with 1 Axes>"
      ]
     },
     "metadata": {
      "needs_background": "light"
     },
     "output_type": "display_data"
    }
   ],
   "source": [
    "carte_past_score_file = 'prev-analysis/analysis_dice_back_Test_C.npy'\n",
    "carte_past_score = np.load(carte_past_score_file)\n",
    "carte_performance_inc = carte_dice - carte_past_score\n",
    "plt.plot(np.sort(carte_dice))\n",
    "plt.plot(np.sort(carte_past_score))\n",
    "plt.plot(np.sort(carte_performance_inc))\n",
    "\n",
    "plt.legend(['new','past','dif'])"
   ]
  },
  {
   "cell_type": "markdown",
   "metadata": {},
   "source": [
    "### In order to have a fair comparison, a model shall be trained using the same machine to be the baseline of comparison."
   ]
  },
  {
   "cell_type": "code",
   "execution_count": 73,
   "metadata": {},
   "outputs": [
    {
     "name": "stderr",
     "output_type": "stream",
     "text": [
      "2023-11-21 20:20:18.269513: I tensorflow/stream_executor/cuda/cuda_gpu_executor.cc:975] successful NUMA node read from SysFS had negative value (-1), but there must be at least one NUMA node, so returning NUMA node zero\n",
      "2023-11-21 20:20:18.274079: I tensorflow/stream_executor/cuda/cuda_gpu_executor.cc:975] successful NUMA node read from SysFS had negative value (-1), but there must be at least one NUMA node, so returning NUMA node zero\n",
      "2023-11-21 20:20:18.274202: I tensorflow/stream_executor/cuda/cuda_gpu_executor.cc:975] successful NUMA node read from SysFS had negative value (-1), but there must be at least one NUMA node, so returning NUMA node zero\n",
      "2023-11-21 20:20:18.274683: I tensorflow/core/platform/cpu_feature_guard.cc:193] This TensorFlow binary is optimized with oneAPI Deep Neural Network Library (oneDNN) to use the following CPU instructions in performance-critical operations:  AVX2 AVX_VNNI FMA\n",
      "To enable them in other operations, rebuild TensorFlow with the appropriate compiler flags.\n",
      "2023-11-21 20:20:18.275504: I tensorflow/stream_executor/cuda/cuda_gpu_executor.cc:975] successful NUMA node read from SysFS had negative value (-1), but there must be at least one NUMA node, so returning NUMA node zero\n",
      "2023-11-21 20:20:18.275576: I tensorflow/stream_executor/cuda/cuda_gpu_executor.cc:975] successful NUMA node read from SysFS had negative value (-1), but there must be at least one NUMA node, so returning NUMA node zero\n",
      "2023-11-21 20:20:18.275614: I tensorflow/stream_executor/cuda/cuda_gpu_executor.cc:975] successful NUMA node read from SysFS had negative value (-1), but there must be at least one NUMA node, so returning NUMA node zero\n",
      "2023-11-21 20:20:18.608067: I tensorflow/stream_executor/cuda/cuda_gpu_executor.cc:975] successful NUMA node read from SysFS had negative value (-1), but there must be at least one NUMA node, so returning NUMA node zero\n",
      "2023-11-21 20:20:18.608157: I tensorflow/stream_executor/cuda/cuda_gpu_executor.cc:975] successful NUMA node read from SysFS had negative value (-1), but there must be at least one NUMA node, so returning NUMA node zero\n",
      "2023-11-21 20:20:18.608203: I tensorflow/stream_executor/cuda/cuda_gpu_executor.cc:975] successful NUMA node read from SysFS had negative value (-1), but there must be at least one NUMA node, so returning NUMA node zero\n",
      "2023-11-21 20:20:18.608253: I tensorflow/core/common_runtime/gpu/gpu_device.cc:1532] Created device /job:localhost/replica:0/task:0/device:GPU:0 with 20895 MB memory:  -> device: 0, name: NVIDIA GeForce RTX 4090, pci bus id: 0000:01:00.0, compute capability: 8.9\n"
     ]
    },
    {
     "name": "stdout",
     "output_type": "stream",
     "text": [
      "Found 7404 images belonging to 1 classes.\n",
      "Found 7404 images belonging to 1 classes.\n",
      "Epoch 1/200\n",
      "WARNING:tensorflow:AutoGraph could not transform <function Model.make_train_function.<locals>.train_function at 0x7f8b93c81f80> and will run it as-is.\n",
      "Please report this to the TensorFlow team. When filing the bug, set the verbosity to 10 (on Linux, `export AUTOGRAPH_VERBOSITY=10`) and attach the full output.\n",
      "Cause: 'arguments' object has no attribute 'posonlyargs'\n",
      "To silence this warning, decorate the function with @tf.autograph.experimental.do_not_convert\n",
      "WARNING: AutoGraph could not transform <function Model.make_train_function.<locals>.train_function at 0x7f8b93c81f80> and will run it as-is.\n",
      "Please report this to the TensorFlow team. When filing the bug, set the verbosity to 10 (on Linux, `export AUTOGRAPH_VERBOSITY=10`) and attach the full output.\n",
      "Cause: 'arguments' object has no attribute 'posonlyargs'\n",
      "To silence this warning, decorate the function with @tf.autograph.experimental.do_not_convert\n",
      "WARNING:tensorflow:AutoGraph could not transform <function dice_coef_loss at 0x7f8c5ea22ef0> and will run it as-is.\n",
      "Please report this to the TensorFlow team. When filing the bug, set the verbosity to 10 (on Linux, `export AUTOGRAPH_VERBOSITY=10`) and attach the full output.\n",
      "Cause: 'arguments' object has no attribute 'posonlyargs'\n",
      "To silence this warning, decorate the function with @tf.autograph.experimental.do_not_convert\n",
      "WARNING: AutoGraph could not transform <function dice_coef_loss at 0x7f8c5ea22ef0> and will run it as-is.\n",
      "Please report this to the TensorFlow team. When filing the bug, set the verbosity to 10 (on Linux, `export AUTOGRAPH_VERBOSITY=10`) and attach the full output.\n",
      "Cause: 'arguments' object has no attribute 'posonlyargs'\n",
      "To silence this warning, decorate the function with @tf.autograph.experimental.do_not_convert\n"
     ]
    },
    {
     "name": "stderr",
     "output_type": "stream",
     "text": [
      "2023-11-21 20:20:20.047854: I tensorflow/stream_executor/cuda/cuda_dnn.cc:384] Loaded cuDNN version 8101\n",
      "2023-11-21 20:20:20.496762: I tensorflow/core/platform/default/subprocess.cc:304] Start cannot spawn child process: No such file or directory\n",
      "2023-11-21 20:20:20.497934: W tensorflow/stream_executor/gpu/asm_compiler.cc:230] Falling back to the CUDA driver for PTX compilation; ptxas does not support CC 8.9\n",
      "2023-11-21 20:20:20.497940: W tensorflow/stream_executor/gpu/asm_compiler.cc:233] Used ptxas at /usr/local/cuda-11.2/bin/ptxas\n",
      "2023-11-21 20:20:20.497963: W tensorflow/stream_executor/gpu/redzone_allocator.cc:314] UNIMPLEMENTED: /usr/local/cuda-11.2/bin/ptxas ptxas too old. Falling back to the driver to compile.\n",
      "Relying on driver to perform ptx compilation. \n",
      "Modify $PATH to customize ptxas location.\n",
      "This message will be only logged once.\n"
     ]
    },
    {
     "name": "stdout",
     "output_type": "stream",
     "text": [
      "100/100 [==============================] - ETA: 0s - loss: 0.7545 - accuracy: 0.4760 - dice_coef_loss: 0.7545\n",
      "Epoch 1: loss improved from inf to 0.75453, saving model to ./big_model_carte.hdf5\n",
      "100/100 [==============================] - 9s 63ms/step - loss: 0.7545 - accuracy: 0.4760 - dice_coef_loss: 0.7545\n",
      "Epoch 2/200\n",
      "100/100 [==============================] - ETA: 0s - loss: 0.7342 - accuracy: 0.7230 - dice_coef_loss: 0.7342\n",
      "Epoch 2: loss improved from 0.75453 to 0.73415, saving model to ./big_model_carte.hdf5\n",
      "100/100 [==============================] - 6s 62ms/step - loss: 0.7342 - accuracy: 0.7230 - dice_coef_loss: 0.7342\n",
      "Epoch 3/200\n",
      "100/100 [==============================] - ETA: 0s - loss: 0.7281 - accuracy: 0.7572 - dice_coef_loss: 0.7281\n",
      "Epoch 3: loss improved from 0.73415 to 0.72811, saving model to ./big_model_carte.hdf5\n",
      "100/100 [==============================] - 6s 62ms/step - loss: 0.7281 - accuracy: 0.7572 - dice_coef_loss: 0.7281\n",
      "Epoch 4/200\n",
      "100/100 [==============================] - ETA: 0s - loss: 0.7130 - accuracy: 0.7813 - dice_coef_loss: 0.7130\n",
      "Epoch 4: loss improved from 0.72811 to 0.71300, saving model to ./big_model_carte.hdf5\n",
      "100/100 [==============================] - 6s 62ms/step - loss: 0.7130 - accuracy: 0.7813 - dice_coef_loss: 0.7130\n",
      "Epoch 5/200\n",
      "100/100 [==============================] - ETA: 0s - loss: 0.7246 - accuracy: 0.7869 - dice_coef_loss: 0.7246\n",
      "Epoch 5: loss did not improve from 0.71300\n",
      "100/100 [==============================] - 6s 56ms/step - loss: 0.7246 - accuracy: 0.7869 - dice_coef_loss: 0.7246\n",
      "Epoch 6/200\n",
      "100/100 [==============================] - ETA: 0s - loss: 0.6999 - accuracy: 0.8106 - dice_coef_loss: 0.6999\n",
      "Epoch 6: loss improved from 0.71300 to 0.69987, saving model to ./big_model_carte.hdf5\n",
      "100/100 [==============================] - 6s 62ms/step - loss: 0.6999 - accuracy: 0.8106 - dice_coef_loss: 0.6999\n",
      "Epoch 7/200\n",
      "100/100 [==============================] - ETA: 0s - loss: 0.7073 - accuracy: 0.8065 - dice_coef_loss: 0.7073\n",
      "Epoch 7: loss did not improve from 0.69987\n",
      "100/100 [==============================] - 6s 57ms/step - loss: 0.7073 - accuracy: 0.8065 - dice_coef_loss: 0.7073\n",
      "Epoch 8/200\n",
      "100/100 [==============================] - ETA: 0s - loss: 0.7182 - accuracy: 0.8219 - dice_coef_loss: 0.7182\n",
      "Epoch 8: loss did not improve from 0.69987\n",
      "100/100 [==============================] - 6s 56ms/step - loss: 0.7182 - accuracy: 0.8219 - dice_coef_loss: 0.7182\n",
      "Epoch 9/200\n",
      "100/100 [==============================] - ETA: 0s - loss: 0.7005 - accuracy: 0.8281 - dice_coef_loss: 0.7005\n",
      "Epoch 9: loss did not improve from 0.69987\n",
      "100/100 [==============================] - 6s 57ms/step - loss: 0.7005 - accuracy: 0.8281 - dice_coef_loss: 0.7005\n",
      "Epoch 10/200\n",
      "100/100 [==============================] - ETA: 0s - loss: 0.7096 - accuracy: 0.8285 - dice_coef_loss: 0.7096\n",
      "Epoch 10: loss did not improve from 0.69987\n",
      "100/100 [==============================] - 6s 57ms/step - loss: 0.7096 - accuracy: 0.8285 - dice_coef_loss: 0.7096\n",
      "Epoch 11/200\n",
      "100/100 [==============================] - ETA: 0s - loss: 0.7094 - accuracy: 0.8310 - dice_coef_loss: 0.7094\n",
      "Epoch 11: loss did not improve from 0.69987\n",
      "100/100 [==============================] - 6s 56ms/step - loss: 0.7094 - accuracy: 0.8310 - dice_coef_loss: 0.7094\n",
      "Epoch 12/200\n",
      "100/100 [==============================] - ETA: 0s - loss: 0.7043 - accuracy: 0.8354 - dice_coef_loss: 0.7043\n",
      "Epoch 12: loss did not improve from 0.69987\n",
      "100/100 [==============================] - 6s 56ms/step - loss: 0.7043 - accuracy: 0.8354 - dice_coef_loss: 0.7043\n",
      "Epoch 13/200\n",
      "100/100 [==============================] - ETA: 0s - loss: 0.7118 - accuracy: 0.8555 - dice_coef_loss: 0.7118\n",
      "Epoch 13: loss did not improve from 0.69987\n",
      "100/100 [==============================] - 6s 57ms/step - loss: 0.7118 - accuracy: 0.8555 - dice_coef_loss: 0.7118\n",
      "Epoch 14/200\n",
      "100/100 [==============================] - ETA: 0s - loss: 0.7088 - accuracy: 0.8531 - dice_coef_loss: 0.7088\n",
      "Epoch 14: loss did not improve from 0.69987\n",
      "100/100 [==============================] - 6s 56ms/step - loss: 0.7088 - accuracy: 0.8531 - dice_coef_loss: 0.7088\n",
      "Epoch 15/200\n",
      "100/100 [==============================] - ETA: 0s - loss: 0.7021 - accuracy: 0.8443 - dice_coef_loss: 0.7023\n",
      "Epoch 15: loss did not improve from 0.69987\n",
      "100/100 [==============================] - 7s 66ms/step - loss: 0.7021 - accuracy: 0.8443 - dice_coef_loss: 0.7023\n",
      "Epoch 16/200\n",
      "100/100 [==============================] - ETA: 0s - loss: 0.7042 - accuracy: 0.8374 - dice_coef_loss: 0.7042\n",
      "Epoch 16: loss did not improve from 0.69987\n",
      "100/100 [==============================] - 6s 56ms/step - loss: 0.7042 - accuracy: 0.8374 - dice_coef_loss: 0.7042\n",
      "Epoch 17/200\n",
      "100/100 [==============================] - ETA: 0s - loss: 0.7126 - accuracy: 0.8482 - dice_coef_loss: 0.7126\n",
      "Epoch 17: loss did not improve from 0.69987\n",
      "100/100 [==============================] - 6s 57ms/step - loss: 0.7126 - accuracy: 0.8482 - dice_coef_loss: 0.7126\n",
      "Epoch 18/200\n",
      "100/100 [==============================] - ETA: 0s - loss: 0.6917 - accuracy: 0.8570 - dice_coef_loss: 0.6917\n",
      "Epoch 18: loss improved from 0.69987 to 0.69169, saving model to ./big_model_carte.hdf5\n",
      "100/100 [==============================] - 6s 61ms/step - loss: 0.6917 - accuracy: 0.8570 - dice_coef_loss: 0.6917\n",
      "Epoch 19/200\n",
      "100/100 [==============================] - ETA: 0s - loss: 0.6996 - accuracy: 0.8464 - dice_coef_loss: 0.6996\n",
      "Epoch 19: loss did not improve from 0.69169\n",
      "100/100 [==============================] - 6s 57ms/step - loss: 0.6996 - accuracy: 0.8464 - dice_coef_loss: 0.6996\n",
      "Epoch 20/200\n",
      "100/100 [==============================] - ETA: 0s - loss: 0.7040 - accuracy: 0.8622 - dice_coef_loss: 0.7040\n",
      "Epoch 20: loss did not improve from 0.69169\n",
      "100/100 [==============================] - 6s 56ms/step - loss: 0.7040 - accuracy: 0.8622 - dice_coef_loss: 0.7040\n",
      "Epoch 21/200\n",
      "100/100 [==============================] - ETA: 0s - loss: 0.6979 - accuracy: 0.8652 - dice_coef_loss: 0.6979\n",
      "Epoch 21: loss did not improve from 0.69169\n",
      "100/100 [==============================] - 6s 57ms/step - loss: 0.6979 - accuracy: 0.8652 - dice_coef_loss: 0.6979\n",
      "Epoch 22/200\n",
      "100/100 [==============================] - ETA: 0s - loss: 0.6908 - accuracy: 0.8621 - dice_coef_loss: 0.6908\n",
      "Epoch 22: loss improved from 0.69169 to 0.69083, saving model to ./big_model_carte.hdf5\n",
      "100/100 [==============================] - 6s 62ms/step - loss: 0.6908 - accuracy: 0.8621 - dice_coef_loss: 0.6908\n",
      "Epoch 23/200\n",
      "100/100 [==============================] - ETA: 0s - loss: 0.7152 - accuracy: 0.8485 - dice_coef_loss: 0.7152\n",
      "Epoch 23: loss did not improve from 0.69083\n",
      "100/100 [==============================] - 6s 57ms/step - loss: 0.7152 - accuracy: 0.8485 - dice_coef_loss: 0.7152\n",
      "Epoch 24/200\n",
      "100/100 [==============================] - ETA: 0s - loss: 0.6885 - accuracy: 0.8669 - dice_coef_loss: 0.6885\n",
      "Epoch 24: loss improved from 0.69083 to 0.68852, saving model to ./big_model_carte.hdf5\n",
      "100/100 [==============================] - 6s 62ms/step - loss: 0.6885 - accuracy: 0.8669 - dice_coef_loss: 0.6885\n",
      "Epoch 25/200\n",
      "100/100 [==============================] - ETA: 0s - loss: 0.6970 - accuracy: 0.8573 - dice_coef_loss: 0.6970\n",
      "Epoch 25: loss did not improve from 0.68852\n",
      "100/100 [==============================] - 6s 57ms/step - loss: 0.6970 - accuracy: 0.8573 - dice_coef_loss: 0.6970\n",
      "Epoch 26/200\n",
      "100/100 [==============================] - ETA: 0s - loss: 0.6871 - accuracy: 0.8678 - dice_coef_loss: 0.6871\n",
      "Epoch 26: loss improved from 0.68852 to 0.68711, saving model to ./big_model_carte.hdf5\n",
      "100/100 [==============================] - 6s 62ms/step - loss: 0.6871 - accuracy: 0.8678 - dice_coef_loss: 0.6871\n",
      "Epoch 27/200\n",
      "100/100 [==============================] - ETA: 0s - loss: 0.7107 - accuracy: 0.8618 - dice_coef_loss: 0.7107\n",
      "Epoch 27: loss did not improve from 0.68711\n",
      "100/100 [==============================] - 6s 57ms/step - loss: 0.7107 - accuracy: 0.8618 - dice_coef_loss: 0.7107\n",
      "Epoch 28/200\n",
      "100/100 [==============================] - ETA: 0s - loss: 0.6832 - accuracy: 0.8739 - dice_coef_loss: 0.6832\n",
      "Epoch 28: loss improved from 0.68711 to 0.68324, saving model to ./big_model_carte.hdf5\n",
      "100/100 [==============================] - 6s 62ms/step - loss: 0.6832 - accuracy: 0.8739 - dice_coef_loss: 0.6832\n",
      "Epoch 29/200\n",
      "100/100 [==============================] - ETA: 0s - loss: 0.7001 - accuracy: 0.8743 - dice_coef_loss: 0.7001\n",
      "Epoch 29: loss did not improve from 0.68324\n",
      "100/100 [==============================] - 6s 56ms/step - loss: 0.7001 - accuracy: 0.8743 - dice_coef_loss: 0.7001\n",
      "Epoch 30/200\n",
      "100/100 [==============================] - ETA: 0s - loss: 0.6908 - accuracy: 0.8767 - dice_coef_loss: 0.6910\n",
      "Epoch 30: loss did not improve from 0.68324\n",
      "100/100 [==============================] - 6s 57ms/step - loss: 0.6908 - accuracy: 0.8767 - dice_coef_loss: 0.6910\n",
      "Epoch 31/200\n",
      "100/100 [==============================] - ETA: 0s - loss: 0.7010 - accuracy: 0.8827 - dice_coef_loss: 0.7010\n",
      "Epoch 31: loss did not improve from 0.68324\n",
      "100/100 [==============================] - 6s 57ms/step - loss: 0.7010 - accuracy: 0.8827 - dice_coef_loss: 0.7010\n",
      "Epoch 32/200\n",
      "100/100 [==============================] - ETA: 0s - loss: 0.6966 - accuracy: 0.8811 - dice_coef_loss: 0.6966\n",
      "Epoch 32: loss did not improve from 0.68324\n",
      "100/100 [==============================] - 6s 57ms/step - loss: 0.6966 - accuracy: 0.8811 - dice_coef_loss: 0.6966\n",
      "Epoch 33/200\n",
      "100/100 [==============================] - ETA: 0s - loss: 0.6851 - accuracy: 0.8851 - dice_coef_loss: 0.6851\n",
      "Epoch 33: loss did not improve from 0.68324\n",
      "100/100 [==============================] - 6s 56ms/step - loss: 0.6851 - accuracy: 0.8851 - dice_coef_loss: 0.6851\n",
      "Epoch 34/200\n",
      "100/100 [==============================] - ETA: 0s - loss: 0.6918 - accuracy: 0.8849 - dice_coef_loss: 0.6918\n",
      "Epoch 34: loss did not improve from 0.68324\n",
      "100/100 [==============================] - 6s 57ms/step - loss: 0.6918 - accuracy: 0.8849 - dice_coef_loss: 0.6918\n",
      "Epoch 35/200\n",
      "100/100 [==============================] - ETA: 0s - loss: 0.6821 - accuracy: 0.8916 - dice_coef_loss: 0.6821\n",
      "Epoch 35: loss improved from 0.68324 to 0.68205, saving model to ./big_model_carte.hdf5\n",
      "100/100 [==============================] - 6s 61ms/step - loss: 0.6821 - accuracy: 0.8916 - dice_coef_loss: 0.6821\n",
      "Epoch 36/200\n",
      "100/100 [==============================] - ETA: 0s - loss: 0.6936 - accuracy: 0.8916 - dice_coef_loss: 0.6936\n",
      "Epoch 36: loss did not improve from 0.68205\n",
      "100/100 [==============================] - 6s 56ms/step - loss: 0.6936 - accuracy: 0.8916 - dice_coef_loss: 0.6936\n",
      "Epoch 37/200\n",
      "100/100 [==============================] - ETA: 0s - loss: 0.6815 - accuracy: 0.8751 - dice_coef_loss: 0.6815\n",
      "Epoch 37: loss improved from 0.68205 to 0.68149, saving model to ./big_model_carte.hdf5\n",
      "100/100 [==============================] - 6s 62ms/step - loss: 0.6815 - accuracy: 0.8751 - dice_coef_loss: 0.6815\n",
      "Epoch 38/200\n",
      "100/100 [==============================] - ETA: 0s - loss: 0.6959 - accuracy: 0.8834 - dice_coef_loss: 0.6959\n",
      "Epoch 38: loss did not improve from 0.68149\n",
      "100/100 [==============================] - 6s 56ms/step - loss: 0.6959 - accuracy: 0.8834 - dice_coef_loss: 0.6959\n",
      "Epoch 39/200\n",
      "100/100 [==============================] - ETA: 0s - loss: 0.6888 - accuracy: 0.8913 - dice_coef_loss: 0.6888\n",
      "Epoch 39: loss did not improve from 0.68149\n",
      "100/100 [==============================] - 6s 56ms/step - loss: 0.6888 - accuracy: 0.8913 - dice_coef_loss: 0.6888\n",
      "Epoch 40/200\n",
      "100/100 [==============================] - ETA: 0s - loss: 0.6919 - accuracy: 0.8888 - dice_coef_loss: 0.6919\n",
      "Epoch 40: loss did not improve from 0.68149\n",
      "100/100 [==============================] - 6s 57ms/step - loss: 0.6919 - accuracy: 0.8888 - dice_coef_loss: 0.6919\n",
      "Epoch 41/200\n",
      "100/100 [==============================] - ETA: 0s - loss: 0.6846 - accuracy: 0.8912 - dice_coef_loss: 0.6846\n",
      "Epoch 41: loss did not improve from 0.68149\n",
      "100/100 [==============================] - 6s 57ms/step - loss: 0.6846 - accuracy: 0.8912 - dice_coef_loss: 0.6846\n",
      "Epoch 42/200\n",
      "100/100 [==============================] - ETA: 0s - loss: 0.6820 - accuracy: 0.8875 - dice_coef_loss: 0.6820\n",
      "Epoch 42: loss did not improve from 0.68149\n",
      "100/100 [==============================] - 6s 57ms/step - loss: 0.6820 - accuracy: 0.8875 - dice_coef_loss: 0.6820\n",
      "Epoch 43/200\n",
      "100/100 [==============================] - ETA: 0s - loss: 0.6834 - accuracy: 0.8826 - dice_coef_loss: 0.6834\n",
      "Epoch 43: loss did not improve from 0.68149\n",
      "100/100 [==============================] - 6s 56ms/step - loss: 0.6834 - accuracy: 0.8826 - dice_coef_loss: 0.6834\n",
      "Epoch 44/200\n",
      "100/100 [==============================] - ETA: 0s - loss: 0.7059 - accuracy: 0.8954 - dice_coef_loss: 0.7059\n",
      "Epoch 44: loss did not improve from 0.68149\n",
      "100/100 [==============================] - 6s 57ms/step - loss: 0.7059 - accuracy: 0.8954 - dice_coef_loss: 0.7059\n",
      "Epoch 45/200\n",
      "100/100 [==============================] - ETA: 0s - loss: 0.6984 - accuracy: 0.9018 - dice_coef_loss: 0.6984\n",
      "Epoch 45: loss did not improve from 0.68149\n",
      "100/100 [==============================] - 6s 55ms/step - loss: 0.6984 - accuracy: 0.9018 - dice_coef_loss: 0.6984\n",
      "Epoch 46/200\n",
      "100/100 [==============================] - ETA: 0s - loss: 0.6806 - accuracy: 0.8926 - dice_coef_loss: 0.6806\n",
      "Epoch 46: loss improved from 0.68149 to 0.68061, saving model to ./big_model_carte.hdf5\n",
      "100/100 [==============================] - 6s 61ms/step - loss: 0.6806 - accuracy: 0.8926 - dice_coef_loss: 0.6806\n",
      "Epoch 47/200\n",
      "100/100 [==============================] - ETA: 0s - loss: 0.6947 - accuracy: 0.8885 - dice_coef_loss: 0.6947\n",
      "Epoch 47: loss did not improve from 0.68061\n",
      "100/100 [==============================] - 6s 57ms/step - loss: 0.6947 - accuracy: 0.8885 - dice_coef_loss: 0.6947\n",
      "Epoch 48/200\n",
      "100/100 [==============================] - ETA: 0s - loss: 0.6794 - accuracy: 0.9007 - dice_coef_loss: 0.6794\n",
      "Epoch 48: loss improved from 0.68061 to 0.67936, saving model to ./big_model_carte.hdf5\n",
      "100/100 [==============================] - 6s 62ms/step - loss: 0.6794 - accuracy: 0.9007 - dice_coef_loss: 0.6794\n",
      "Epoch 49/200\n",
      "100/100 [==============================] - ETA: 0s - loss: 0.6780 - accuracy: 0.8899 - dice_coef_loss: 0.6780\n",
      "Epoch 49: loss improved from 0.67936 to 0.67800, saving model to ./big_model_carte.hdf5\n",
      "100/100 [==============================] - 6s 62ms/step - loss: 0.6780 - accuracy: 0.8899 - dice_coef_loss: 0.6780\n",
      "Epoch 50/200\n",
      "100/100 [==============================] - ETA: 0s - loss: 0.6687 - accuracy: 0.9041 - dice_coef_loss: 0.6687\n",
      "Epoch 50: loss improved from 0.67800 to 0.66870, saving model to ./big_model_carte.hdf5\n",
      "100/100 [==============================] - 6s 62ms/step - loss: 0.6687 - accuracy: 0.9041 - dice_coef_loss: 0.6687\n",
      "Epoch 51/200\n",
      "100/100 [==============================] - ETA: 0s - loss: 0.6960 - accuracy: 0.9071 - dice_coef_loss: 0.6960\n",
      "Epoch 51: loss did not improve from 0.66870\n",
      "100/100 [==============================] - 6s 56ms/step - loss: 0.6960 - accuracy: 0.9071 - dice_coef_loss: 0.6960\n",
      "Epoch 52/200\n",
      "100/100 [==============================] - ETA: 0s - loss: 0.6733 - accuracy: 0.9029 - dice_coef_loss: 0.6733\n",
      "Epoch 52: loss did not improve from 0.66870\n",
      "100/100 [==============================] - 6s 56ms/step - loss: 0.6733 - accuracy: 0.9029 - dice_coef_loss: 0.6733\n",
      "Epoch 53/200\n",
      "100/100 [==============================] - ETA: 0s - loss: 0.6850 - accuracy: 0.9046 - dice_coef_loss: 0.6850\n",
      "Epoch 53: loss did not improve from 0.66870\n",
      "100/100 [==============================] - 6s 57ms/step - loss: 0.6850 - accuracy: 0.9046 - dice_coef_loss: 0.6850\n",
      "Epoch 54/200\n",
      "100/100 [==============================] - ETA: 0s - loss: 0.6807 - accuracy: 0.9015 - dice_coef_loss: 0.6807\n",
      "Epoch 54: loss did not improve from 0.66870\n",
      "100/100 [==============================] - 6s 56ms/step - loss: 0.6807 - accuracy: 0.9015 - dice_coef_loss: 0.6807\n",
      "Epoch 55/200\n",
      "100/100 [==============================] - ETA: 0s - loss: 0.6981 - accuracy: 0.9007 - dice_coef_loss: 0.6981\n",
      "Epoch 55: loss did not improve from 0.66870\n",
      "100/100 [==============================] - 6s 57ms/step - loss: 0.6981 - accuracy: 0.9007 - dice_coef_loss: 0.6981\n",
      "Epoch 56/200\n",
      "100/100 [==============================] - ETA: 0s - loss: 0.6800 - accuracy: 0.9017 - dice_coef_loss: 0.6800\n",
      "Epoch 56: loss did not improve from 0.66870\n",
      "100/100 [==============================] - 6s 56ms/step - loss: 0.6800 - accuracy: 0.9017 - dice_coef_loss: 0.6800\n",
      "Epoch 57/200\n",
      "100/100 [==============================] - ETA: 0s - loss: 0.6874 - accuracy: 0.9084 - dice_coef_loss: 0.6874\n",
      "Epoch 57: loss did not improve from 0.66870\n",
      "100/100 [==============================] - 6s 56ms/step - loss: 0.6874 - accuracy: 0.9084 - dice_coef_loss: 0.6874\n",
      "Epoch 58/200\n",
      "100/100 [==============================] - ETA: 0s - loss: 0.6912 - accuracy: 0.9051 - dice_coef_loss: 0.6912\n",
      "Epoch 58: loss did not improve from 0.66870\n",
      "100/100 [==============================] - 6s 55ms/step - loss: 0.6912 - accuracy: 0.9051 - dice_coef_loss: 0.6912\n",
      "Epoch 59/200\n",
      "100/100 [==============================] - ETA: 0s - loss: 0.6676 - accuracy: 0.8971 - dice_coef_loss: 0.6676\n",
      "Epoch 59: loss improved from 0.66870 to 0.66759, saving model to ./big_model_carte.hdf5\n",
      "100/100 [==============================] - 6s 63ms/step - loss: 0.6676 - accuracy: 0.8971 - dice_coef_loss: 0.6676\n",
      "Epoch 60/200\n",
      "100/100 [==============================] - ETA: 0s - loss: 0.6715 - accuracy: 0.9031 - dice_coef_loss: 0.6715\n",
      "Epoch 60: loss did not improve from 0.66759\n",
      "100/100 [==============================] - 6s 55ms/step - loss: 0.6715 - accuracy: 0.9031 - dice_coef_loss: 0.6715\n",
      "Epoch 61/200\n",
      "100/100 [==============================] - ETA: 0s - loss: 0.6778 - accuracy: 0.9047 - dice_coef_loss: 0.6778\n",
      "Epoch 61: loss did not improve from 0.66759\n",
      "100/100 [==============================] - 6s 57ms/step - loss: 0.6778 - accuracy: 0.9047 - dice_coef_loss: 0.6778\n",
      "Epoch 62/200\n",
      "100/100 [==============================] - ETA: 0s - loss: 0.6759 - accuracy: 0.9109 - dice_coef_loss: 0.6759\n",
      "Epoch 62: loss did not improve from 0.66759\n",
      "100/100 [==============================] - 6s 57ms/step - loss: 0.6759 - accuracy: 0.9109 - dice_coef_loss: 0.6759\n",
      "Epoch 63/200\n",
      "100/100 [==============================] - ETA: 0s - loss: 0.6878 - accuracy: 0.9103 - dice_coef_loss: 0.6878\n",
      "Epoch 63: loss did not improve from 0.66759\n",
      "100/100 [==============================] - 6s 57ms/step - loss: 0.6878 - accuracy: 0.9103 - dice_coef_loss: 0.6878\n",
      "Epoch 64/200\n",
      "100/100 [==============================] - ETA: 0s - loss: 0.6747 - accuracy: 0.9042 - dice_coef_loss: 0.6747\n",
      "Epoch 64: loss did not improve from 0.66759\n",
      "100/100 [==============================] - 6s 55ms/step - loss: 0.6747 - accuracy: 0.9042 - dice_coef_loss: 0.6747\n",
      "Epoch 65/200\n",
      "100/100 [==============================] - ETA: 0s - loss: 0.6811 - accuracy: 0.9098 - dice_coef_loss: 0.6811\n",
      "Epoch 65: loss did not improve from 0.66759\n",
      "100/100 [==============================] - 6s 57ms/step - loss: 0.6811 - accuracy: 0.9098 - dice_coef_loss: 0.6811\n",
      "Epoch 66/200\n",
      " 12/100 [==>...........................] - ETA: 4s - loss: 0.6934 - accuracy: 0.9116 - dice_coef_loss: 0.6934"
     ]
    },
    {
     "ename": "KeyboardInterrupt",
     "evalue": "",
     "output_type": "error",
     "traceback": [
      "\u001b[0;31m---------------------------------------------------------------------------\u001b[0m",
      "\u001b[0;31mKeyboardInterrupt\u001b[0m                         Traceback (most recent call last)",
      "\u001b[0;32m/tmp/ipykernel_1070212/1254738133.py\u001b[0m in \u001b[0;36m<module>\u001b[0;34m\u001b[0m\n\u001b[1;32m     13\u001b[0m \u001b[0mbig_model_carte\u001b[0m \u001b[0;34m=\u001b[0m \u001b[0munet\u001b[0m\u001b[0;34m(\u001b[0m\u001b[0mPARAM_BETA1\u001b[0m\u001b[0;34m[\u001b[0m\u001b[0mPARAM_BETA_TEST_NUM\u001b[0m\u001b[0;34m]\u001b[0m\u001b[0;34m,\u001b[0m \u001b[0mPARAM_BETA2\u001b[0m\u001b[0;34m[\u001b[0m\u001b[0mPARAM_BETA_TEST_NUM\u001b[0m\u001b[0;34m]\u001b[0m\u001b[0;34m)\u001b[0m\u001b[0;34m\u001b[0m\u001b[0;34m\u001b[0m\u001b[0m\n\u001b[1;32m     14\u001b[0m \u001b[0mbig_model_carte_checkpoint\u001b[0m \u001b[0;34m=\u001b[0m \u001b[0mModelCheckpoint\u001b[0m\u001b[0;34m(\u001b[0m\u001b[0;34m'./big_model_carte.hdf5'\u001b[0m\u001b[0;34m,\u001b[0m\u001b[0mmonitor\u001b[0m \u001b[0;34m=\u001b[0m \u001b[0;34m'loss'\u001b[0m\u001b[0;34m,\u001b[0m \u001b[0mverbose\u001b[0m \u001b[0;34m=\u001b[0m \u001b[0;36m1\u001b[0m\u001b[0;34m,\u001b[0m \u001b[0msave_best_only\u001b[0m\u001b[0;34m=\u001b[0m\u001b[0;32mTrue\u001b[0m\u001b[0;34m)\u001b[0m\u001b[0;34m\u001b[0m\u001b[0;34m\u001b[0m\u001b[0m\n\u001b[0;32m---> 15\u001b[0;31m \u001b[0mbig_model_carte\u001b[0m\u001b[0;34m.\u001b[0m\u001b[0mfit\u001b[0m\u001b[0;34m(\u001b[0m\u001b[0mbt_carte_generator\u001b[0m\u001b[0;34m,\u001b[0m \u001b[0mverbose\u001b[0m \u001b[0;34m=\u001b[0m \u001b[0;36m1\u001b[0m\u001b[0;34m,\u001b[0m \u001b[0msteps_per_epoch\u001b[0m \u001b[0;34m=\u001b[0m \u001b[0mSTEPS\u001b[0m\u001b[0;34m,\u001b[0m \u001b[0mepochs\u001b[0m \u001b[0;34m=\u001b[0m \u001b[0mEPOCHS\u001b[0m\u001b[0;34m,\u001b[0m \u001b[0mcallbacks\u001b[0m \u001b[0;34m=\u001b[0m \u001b[0;34m[\u001b[0m\u001b[0mbig_model_carte_checkpoint\u001b[0m\u001b[0;34m]\u001b[0m\u001b[0;34m)\u001b[0m\u001b[0;34m\u001b[0m\u001b[0;34m\u001b[0m\u001b[0m\n\u001b[0m\u001b[1;32m     16\u001b[0m \u001b[0mbig_carte_test_gene\u001b[0m \u001b[0;34m=\u001b[0m \u001b[0mtestGenerator\u001b[0m\u001b[0;34m(\u001b[0m\u001b[0;34m'./data/endoscopic_test956/cartesian'\u001b[0m\u001b[0;34m,\u001b[0m \u001b[0mPARAM_IMG_FOLDER\u001b[0m\u001b[0;34m,\u001b[0m \u001b[0mPARAM_MSK_FOLDER\u001b[0m\u001b[0;34m)\u001b[0m\u001b[0;34m\u001b[0m\u001b[0;34m\u001b[0m\u001b[0m\n\u001b[1;32m     17\u001b[0m \u001b[0mbig_carte_results\u001b[0m \u001b[0;34m=\u001b[0m \u001b[0mbig_model_carte\u001b[0m\u001b[0;34m.\u001b[0m\u001b[0mpredict_generator\u001b[0m\u001b[0;34m(\u001b[0m\u001b[0mbig_carte_test_gene\u001b[0m\u001b[0;34m,\u001b[0m \u001b[0;36m956\u001b[0m\u001b[0;34m,\u001b[0m \u001b[0mverbose\u001b[0m\u001b[0;34m=\u001b[0m\u001b[0;36m1\u001b[0m\u001b[0;34m)\u001b[0m\u001b[0;34m\u001b[0m\u001b[0;34m\u001b[0m\u001b[0m\n",
      "\u001b[0;32m~/anaconda3/envs/unet/lib/python3.7/site-packages/keras/utils/traceback_utils.py\u001b[0m in \u001b[0;36merror_handler\u001b[0;34m(*args, **kwargs)\u001b[0m\n\u001b[1;32m     62\u001b[0m     \u001b[0mfiltered_tb\u001b[0m \u001b[0;34m=\u001b[0m \u001b[0;32mNone\u001b[0m\u001b[0;34m\u001b[0m\u001b[0;34m\u001b[0m\u001b[0m\n\u001b[1;32m     63\u001b[0m     \u001b[0;32mtry\u001b[0m\u001b[0;34m:\u001b[0m\u001b[0;34m\u001b[0m\u001b[0;34m\u001b[0m\u001b[0m\n\u001b[0;32m---> 64\u001b[0;31m       \u001b[0;32mreturn\u001b[0m \u001b[0mfn\u001b[0m\u001b[0;34m(\u001b[0m\u001b[0;34m*\u001b[0m\u001b[0margs\u001b[0m\u001b[0;34m,\u001b[0m \u001b[0;34m**\u001b[0m\u001b[0mkwargs\u001b[0m\u001b[0;34m)\u001b[0m\u001b[0;34m\u001b[0m\u001b[0;34m\u001b[0m\u001b[0m\n\u001b[0m\u001b[1;32m     65\u001b[0m     \u001b[0;32mexcept\u001b[0m \u001b[0mException\u001b[0m \u001b[0;32mas\u001b[0m \u001b[0me\u001b[0m\u001b[0;34m:\u001b[0m  \u001b[0;31m# pylint: disable=broad-except\u001b[0m\u001b[0;34m\u001b[0m\u001b[0;34m\u001b[0m\u001b[0m\n\u001b[1;32m     66\u001b[0m       \u001b[0mfiltered_tb\u001b[0m \u001b[0;34m=\u001b[0m \u001b[0m_process_traceback_frames\u001b[0m\u001b[0;34m(\u001b[0m\u001b[0me\u001b[0m\u001b[0;34m.\u001b[0m\u001b[0m__traceback__\u001b[0m\u001b[0;34m)\u001b[0m\u001b[0;34m\u001b[0m\u001b[0;34m\u001b[0m\u001b[0m\n",
      "\u001b[0;32m~/anaconda3/envs/unet/lib/python3.7/site-packages/keras/engine/training.py\u001b[0m in \u001b[0;36mfit\u001b[0;34m(self, x, y, batch_size, epochs, verbose, callbacks, validation_split, validation_data, shuffle, class_weight, sample_weight, initial_epoch, steps_per_epoch, validation_steps, validation_batch_size, validation_freq, max_queue_size, workers, use_multiprocessing)\u001b[0m\n\u001b[1;32m   1412\u001b[0m               \u001b[0mlogs\u001b[0m \u001b[0;34m=\u001b[0m \u001b[0mtmp_logs\u001b[0m  \u001b[0;31m# No error, now safe to assign to logs.\u001b[0m\u001b[0;34m\u001b[0m\u001b[0;34m\u001b[0m\u001b[0m\n\u001b[1;32m   1413\u001b[0m               \u001b[0mend_step\u001b[0m \u001b[0;34m=\u001b[0m \u001b[0mstep\u001b[0m \u001b[0;34m+\u001b[0m \u001b[0mdata_handler\u001b[0m\u001b[0;34m.\u001b[0m\u001b[0mstep_increment\u001b[0m\u001b[0;34m\u001b[0m\u001b[0;34m\u001b[0m\u001b[0m\n\u001b[0;32m-> 1414\u001b[0;31m               \u001b[0mcallbacks\u001b[0m\u001b[0;34m.\u001b[0m\u001b[0mon_train_batch_end\u001b[0m\u001b[0;34m(\u001b[0m\u001b[0mend_step\u001b[0m\u001b[0;34m,\u001b[0m \u001b[0mlogs\u001b[0m\u001b[0;34m)\u001b[0m\u001b[0;34m\u001b[0m\u001b[0;34m\u001b[0m\u001b[0m\n\u001b[0m\u001b[1;32m   1415\u001b[0m               \u001b[0;32mif\u001b[0m \u001b[0mself\u001b[0m\u001b[0;34m.\u001b[0m\u001b[0mstop_training\u001b[0m\u001b[0;34m:\u001b[0m\u001b[0;34m\u001b[0m\u001b[0;34m\u001b[0m\u001b[0m\n\u001b[1;32m   1416\u001b[0m                 \u001b[0;32mbreak\u001b[0m\u001b[0;34m\u001b[0m\u001b[0;34m\u001b[0m\u001b[0m\n",
      "\u001b[0;32m~/anaconda3/envs/unet/lib/python3.7/site-packages/keras/callbacks.py\u001b[0m in \u001b[0;36mon_train_batch_end\u001b[0;34m(self, batch, logs)\u001b[0m\n\u001b[1;32m    436\u001b[0m     \"\"\"\n\u001b[1;32m    437\u001b[0m     \u001b[0;32mif\u001b[0m \u001b[0mself\u001b[0m\u001b[0;34m.\u001b[0m\u001b[0m_should_call_train_batch_hooks\u001b[0m\u001b[0;34m:\u001b[0m\u001b[0;34m\u001b[0m\u001b[0;34m\u001b[0m\u001b[0m\n\u001b[0;32m--> 438\u001b[0;31m       \u001b[0mself\u001b[0m\u001b[0;34m.\u001b[0m\u001b[0m_call_batch_hook\u001b[0m\u001b[0;34m(\u001b[0m\u001b[0mModeKeys\u001b[0m\u001b[0;34m.\u001b[0m\u001b[0mTRAIN\u001b[0m\u001b[0;34m,\u001b[0m \u001b[0;34m'end'\u001b[0m\u001b[0;34m,\u001b[0m \u001b[0mbatch\u001b[0m\u001b[0;34m,\u001b[0m \u001b[0mlogs\u001b[0m\u001b[0;34m=\u001b[0m\u001b[0mlogs\u001b[0m\u001b[0;34m)\u001b[0m\u001b[0;34m\u001b[0m\u001b[0;34m\u001b[0m\u001b[0m\n\u001b[0m\u001b[1;32m    439\u001b[0m \u001b[0;34m\u001b[0m\u001b[0m\n\u001b[1;32m    440\u001b[0m   \u001b[0;32mdef\u001b[0m \u001b[0mon_test_batch_begin\u001b[0m\u001b[0;34m(\u001b[0m\u001b[0mself\u001b[0m\u001b[0;34m,\u001b[0m \u001b[0mbatch\u001b[0m\u001b[0;34m,\u001b[0m \u001b[0mlogs\u001b[0m\u001b[0;34m=\u001b[0m\u001b[0;32mNone\u001b[0m\u001b[0;34m)\u001b[0m\u001b[0;34m:\u001b[0m\u001b[0;34m\u001b[0m\u001b[0;34m\u001b[0m\u001b[0m\n",
      "\u001b[0;32m~/anaconda3/envs/unet/lib/python3.7/site-packages/keras/callbacks.py\u001b[0m in \u001b[0;36m_call_batch_hook\u001b[0;34m(self, mode, hook, batch, logs)\u001b[0m\n\u001b[1;32m    295\u001b[0m       \u001b[0mself\u001b[0m\u001b[0;34m.\u001b[0m\u001b[0m_call_batch_begin_hook\u001b[0m\u001b[0;34m(\u001b[0m\u001b[0mmode\u001b[0m\u001b[0;34m,\u001b[0m \u001b[0mbatch\u001b[0m\u001b[0;34m,\u001b[0m \u001b[0mlogs\u001b[0m\u001b[0;34m)\u001b[0m\u001b[0;34m\u001b[0m\u001b[0;34m\u001b[0m\u001b[0m\n\u001b[1;32m    296\u001b[0m     \u001b[0;32melif\u001b[0m \u001b[0mhook\u001b[0m \u001b[0;34m==\u001b[0m \u001b[0;34m'end'\u001b[0m\u001b[0;34m:\u001b[0m\u001b[0;34m\u001b[0m\u001b[0;34m\u001b[0m\u001b[0m\n\u001b[0;32m--> 297\u001b[0;31m       \u001b[0mself\u001b[0m\u001b[0;34m.\u001b[0m\u001b[0m_call_batch_end_hook\u001b[0m\u001b[0;34m(\u001b[0m\u001b[0mmode\u001b[0m\u001b[0;34m,\u001b[0m \u001b[0mbatch\u001b[0m\u001b[0;34m,\u001b[0m \u001b[0mlogs\u001b[0m\u001b[0;34m)\u001b[0m\u001b[0;34m\u001b[0m\u001b[0;34m\u001b[0m\u001b[0m\n\u001b[0m\u001b[1;32m    298\u001b[0m     \u001b[0;32melse\u001b[0m\u001b[0;34m:\u001b[0m\u001b[0;34m\u001b[0m\u001b[0;34m\u001b[0m\u001b[0m\n\u001b[1;32m    299\u001b[0m       raise ValueError(\n",
      "\u001b[0;32m~/anaconda3/envs/unet/lib/python3.7/site-packages/keras/callbacks.py\u001b[0m in \u001b[0;36m_call_batch_end_hook\u001b[0;34m(self, mode, batch, logs)\u001b[0m\n\u001b[1;32m    316\u001b[0m       \u001b[0mself\u001b[0m\u001b[0;34m.\u001b[0m\u001b[0m_batch_times\u001b[0m\u001b[0;34m.\u001b[0m\u001b[0mappend\u001b[0m\u001b[0;34m(\u001b[0m\u001b[0mbatch_time\u001b[0m\u001b[0;34m)\u001b[0m\u001b[0;34m\u001b[0m\u001b[0;34m\u001b[0m\u001b[0m\n\u001b[1;32m    317\u001b[0m \u001b[0;34m\u001b[0m\u001b[0m\n\u001b[0;32m--> 318\u001b[0;31m     \u001b[0mself\u001b[0m\u001b[0;34m.\u001b[0m\u001b[0m_call_batch_hook_helper\u001b[0m\u001b[0;34m(\u001b[0m\u001b[0mhook_name\u001b[0m\u001b[0;34m,\u001b[0m \u001b[0mbatch\u001b[0m\u001b[0;34m,\u001b[0m \u001b[0mlogs\u001b[0m\u001b[0;34m)\u001b[0m\u001b[0;34m\u001b[0m\u001b[0;34m\u001b[0m\u001b[0m\n\u001b[0m\u001b[1;32m    319\u001b[0m \u001b[0;34m\u001b[0m\u001b[0m\n\u001b[1;32m    320\u001b[0m     \u001b[0;32mif\u001b[0m \u001b[0mlen\u001b[0m\u001b[0;34m(\u001b[0m\u001b[0mself\u001b[0m\u001b[0;34m.\u001b[0m\u001b[0m_batch_times\u001b[0m\u001b[0;34m)\u001b[0m \u001b[0;34m>=\u001b[0m \u001b[0mself\u001b[0m\u001b[0;34m.\u001b[0m\u001b[0m_num_batches_for_timing_check\u001b[0m\u001b[0;34m:\u001b[0m\u001b[0;34m\u001b[0m\u001b[0;34m\u001b[0m\u001b[0m\n",
      "\u001b[0;32m~/anaconda3/envs/unet/lib/python3.7/site-packages/keras/callbacks.py\u001b[0m in \u001b[0;36m_call_batch_hook_helper\u001b[0;34m(self, hook_name, batch, logs)\u001b[0m\n\u001b[1;32m    354\u001b[0m     \u001b[0;32mfor\u001b[0m \u001b[0mcallback\u001b[0m \u001b[0;32min\u001b[0m \u001b[0mself\u001b[0m\u001b[0;34m.\u001b[0m\u001b[0mcallbacks\u001b[0m\u001b[0;34m:\u001b[0m\u001b[0;34m\u001b[0m\u001b[0;34m\u001b[0m\u001b[0m\n\u001b[1;32m    355\u001b[0m       \u001b[0mhook\u001b[0m \u001b[0;34m=\u001b[0m \u001b[0mgetattr\u001b[0m\u001b[0;34m(\u001b[0m\u001b[0mcallback\u001b[0m\u001b[0;34m,\u001b[0m \u001b[0mhook_name\u001b[0m\u001b[0;34m)\u001b[0m\u001b[0;34m\u001b[0m\u001b[0;34m\u001b[0m\u001b[0m\n\u001b[0;32m--> 356\u001b[0;31m       \u001b[0mhook\u001b[0m\u001b[0;34m(\u001b[0m\u001b[0mbatch\u001b[0m\u001b[0;34m,\u001b[0m \u001b[0mlogs\u001b[0m\u001b[0;34m)\u001b[0m\u001b[0;34m\u001b[0m\u001b[0;34m\u001b[0m\u001b[0m\n\u001b[0m\u001b[1;32m    357\u001b[0m \u001b[0;34m\u001b[0m\u001b[0m\n\u001b[1;32m    358\u001b[0m     \u001b[0;32mif\u001b[0m \u001b[0mself\u001b[0m\u001b[0;34m.\u001b[0m\u001b[0m_check_timing\u001b[0m\u001b[0;34m:\u001b[0m\u001b[0;34m\u001b[0m\u001b[0;34m\u001b[0m\u001b[0m\n",
      "\u001b[0;32m~/anaconda3/envs/unet/lib/python3.7/site-packages/keras/callbacks.py\u001b[0m in \u001b[0;36mon_train_batch_end\u001b[0;34m(self, batch, logs)\u001b[0m\n\u001b[1;32m   1032\u001b[0m \u001b[0;34m\u001b[0m\u001b[0m\n\u001b[1;32m   1033\u001b[0m   \u001b[0;32mdef\u001b[0m \u001b[0mon_train_batch_end\u001b[0m\u001b[0;34m(\u001b[0m\u001b[0mself\u001b[0m\u001b[0;34m,\u001b[0m \u001b[0mbatch\u001b[0m\u001b[0;34m,\u001b[0m \u001b[0mlogs\u001b[0m\u001b[0;34m=\u001b[0m\u001b[0;32mNone\u001b[0m\u001b[0;34m)\u001b[0m\u001b[0;34m:\u001b[0m\u001b[0;34m\u001b[0m\u001b[0;34m\u001b[0m\u001b[0m\n\u001b[0;32m-> 1034\u001b[0;31m     \u001b[0mself\u001b[0m\u001b[0;34m.\u001b[0m\u001b[0m_batch_update_progbar\u001b[0m\u001b[0;34m(\u001b[0m\u001b[0mbatch\u001b[0m\u001b[0;34m,\u001b[0m \u001b[0mlogs\u001b[0m\u001b[0;34m)\u001b[0m\u001b[0;34m\u001b[0m\u001b[0;34m\u001b[0m\u001b[0m\n\u001b[0m\u001b[1;32m   1035\u001b[0m \u001b[0;34m\u001b[0m\u001b[0m\n\u001b[1;32m   1036\u001b[0m   \u001b[0;32mdef\u001b[0m \u001b[0mon_test_batch_end\u001b[0m\u001b[0;34m(\u001b[0m\u001b[0mself\u001b[0m\u001b[0;34m,\u001b[0m \u001b[0mbatch\u001b[0m\u001b[0;34m,\u001b[0m \u001b[0mlogs\u001b[0m\u001b[0;34m=\u001b[0m\u001b[0;32mNone\u001b[0m\u001b[0;34m)\u001b[0m\u001b[0;34m:\u001b[0m\u001b[0;34m\u001b[0m\u001b[0;34m\u001b[0m\u001b[0m\n",
      "\u001b[0;32m~/anaconda3/envs/unet/lib/python3.7/site-packages/keras/callbacks.py\u001b[0m in \u001b[0;36m_batch_update_progbar\u001b[0;34m(self, batch, logs)\u001b[0m\n\u001b[1;32m   1104\u001b[0m     \u001b[0;32mif\u001b[0m \u001b[0mself\u001b[0m\u001b[0;34m.\u001b[0m\u001b[0mverbose\u001b[0m \u001b[0;34m==\u001b[0m \u001b[0;36m1\u001b[0m\u001b[0;34m:\u001b[0m\u001b[0;34m\u001b[0m\u001b[0;34m\u001b[0m\u001b[0m\n\u001b[1;32m   1105\u001b[0m       \u001b[0;31m# Only block async when verbose = 1.\u001b[0m\u001b[0;34m\u001b[0m\u001b[0;34m\u001b[0m\u001b[0;34m\u001b[0m\u001b[0m\n\u001b[0;32m-> 1106\u001b[0;31m       \u001b[0mlogs\u001b[0m \u001b[0;34m=\u001b[0m \u001b[0mtf_utils\u001b[0m\u001b[0;34m.\u001b[0m\u001b[0msync_to_numpy_or_python_type\u001b[0m\u001b[0;34m(\u001b[0m\u001b[0mlogs\u001b[0m\u001b[0;34m)\u001b[0m\u001b[0;34m\u001b[0m\u001b[0;34m\u001b[0m\u001b[0m\n\u001b[0m\u001b[1;32m   1107\u001b[0m       \u001b[0mself\u001b[0m\u001b[0;34m.\u001b[0m\u001b[0mprogbar\u001b[0m\u001b[0;34m.\u001b[0m\u001b[0mupdate\u001b[0m\u001b[0;34m(\u001b[0m\u001b[0mself\u001b[0m\u001b[0;34m.\u001b[0m\u001b[0mseen\u001b[0m\u001b[0;34m,\u001b[0m \u001b[0mlist\u001b[0m\u001b[0;34m(\u001b[0m\u001b[0mlogs\u001b[0m\u001b[0;34m.\u001b[0m\u001b[0mitems\u001b[0m\u001b[0;34m(\u001b[0m\u001b[0;34m)\u001b[0m\u001b[0;34m)\u001b[0m\u001b[0;34m,\u001b[0m \u001b[0mfinalize\u001b[0m\u001b[0;34m=\u001b[0m\u001b[0;32mFalse\u001b[0m\u001b[0;34m)\u001b[0m\u001b[0;34m\u001b[0m\u001b[0;34m\u001b[0m\u001b[0m\n\u001b[1;32m   1108\u001b[0m \u001b[0;34m\u001b[0m\u001b[0m\n",
      "\u001b[0;32m~/anaconda3/envs/unet/lib/python3.7/site-packages/keras/utils/tf_utils.py\u001b[0m in \u001b[0;36msync_to_numpy_or_python_type\u001b[0;34m(tensors)\u001b[0m\n\u001b[1;32m    605\u001b[0m     \u001b[0;32mreturn\u001b[0m \u001b[0mt\u001b[0m\u001b[0;34m.\u001b[0m\u001b[0mitem\u001b[0m\u001b[0;34m(\u001b[0m\u001b[0;34m)\u001b[0m \u001b[0;32mif\u001b[0m \u001b[0mnp\u001b[0m\u001b[0;34m.\u001b[0m\u001b[0mndim\u001b[0m\u001b[0;34m(\u001b[0m\u001b[0mt\u001b[0m\u001b[0;34m)\u001b[0m \u001b[0;34m==\u001b[0m \u001b[0;36m0\u001b[0m \u001b[0;32melse\u001b[0m \u001b[0mt\u001b[0m\u001b[0;34m\u001b[0m\u001b[0;34m\u001b[0m\u001b[0m\n\u001b[1;32m    606\u001b[0m \u001b[0;34m\u001b[0m\u001b[0m\n\u001b[0;32m--> 607\u001b[0;31m   \u001b[0;32mreturn\u001b[0m \u001b[0mtf\u001b[0m\u001b[0;34m.\u001b[0m\u001b[0mnest\u001b[0m\u001b[0;34m.\u001b[0m\u001b[0mmap_structure\u001b[0m\u001b[0;34m(\u001b[0m\u001b[0m_to_single_numpy_or_python_type\u001b[0m\u001b[0;34m,\u001b[0m \u001b[0mtensors\u001b[0m\u001b[0;34m)\u001b[0m\u001b[0;34m\u001b[0m\u001b[0;34m\u001b[0m\u001b[0m\n\u001b[0m\u001b[1;32m    608\u001b[0m \u001b[0;34m\u001b[0m\u001b[0m\n\u001b[1;32m    609\u001b[0m \u001b[0;34m\u001b[0m\u001b[0m\n",
      "\u001b[0;32m~/anaconda3/envs/unet/lib/python3.7/site-packages/tensorflow/python/util/nest.py\u001b[0m in \u001b[0;36mmap_structure\u001b[0;34m(func, *structure, **kwargs)\u001b[0m\n\u001b[1;32m    914\u001b[0m \u001b[0;34m\u001b[0m\u001b[0m\n\u001b[1;32m    915\u001b[0m   return pack_sequence_as(\n\u001b[0;32m--> 916\u001b[0;31m       \u001b[0mstructure\u001b[0m\u001b[0;34m[\u001b[0m\u001b[0;36m0\u001b[0m\u001b[0;34m]\u001b[0m\u001b[0;34m,\u001b[0m \u001b[0;34m[\u001b[0m\u001b[0mfunc\u001b[0m\u001b[0;34m(\u001b[0m\u001b[0;34m*\u001b[0m\u001b[0mx\u001b[0m\u001b[0;34m)\u001b[0m \u001b[0;32mfor\u001b[0m \u001b[0mx\u001b[0m \u001b[0;32min\u001b[0m \u001b[0mentries\u001b[0m\u001b[0;34m]\u001b[0m\u001b[0;34m,\u001b[0m\u001b[0;34m\u001b[0m\u001b[0;34m\u001b[0m\u001b[0m\n\u001b[0m\u001b[1;32m    917\u001b[0m       expand_composites=expand_composites)\n\u001b[1;32m    918\u001b[0m \u001b[0;34m\u001b[0m\u001b[0m\n",
      "\u001b[0;32m~/anaconda3/envs/unet/lib/python3.7/site-packages/tensorflow/python/util/nest.py\u001b[0m in \u001b[0;36m<listcomp>\u001b[0;34m(.0)\u001b[0m\n\u001b[1;32m    914\u001b[0m \u001b[0;34m\u001b[0m\u001b[0m\n\u001b[1;32m    915\u001b[0m   return pack_sequence_as(\n\u001b[0;32m--> 916\u001b[0;31m       \u001b[0mstructure\u001b[0m\u001b[0;34m[\u001b[0m\u001b[0;36m0\u001b[0m\u001b[0;34m]\u001b[0m\u001b[0;34m,\u001b[0m \u001b[0;34m[\u001b[0m\u001b[0mfunc\u001b[0m\u001b[0;34m(\u001b[0m\u001b[0;34m*\u001b[0m\u001b[0mx\u001b[0m\u001b[0;34m)\u001b[0m \u001b[0;32mfor\u001b[0m \u001b[0mx\u001b[0m \u001b[0;32min\u001b[0m \u001b[0mentries\u001b[0m\u001b[0;34m]\u001b[0m\u001b[0;34m,\u001b[0m\u001b[0;34m\u001b[0m\u001b[0;34m\u001b[0m\u001b[0m\n\u001b[0m\u001b[1;32m    917\u001b[0m       expand_composites=expand_composites)\n\u001b[1;32m    918\u001b[0m \u001b[0;34m\u001b[0m\u001b[0m\n",
      "\u001b[0;32m~/anaconda3/envs/unet/lib/python3.7/site-packages/keras/utils/tf_utils.py\u001b[0m in \u001b[0;36m_to_single_numpy_or_python_type\u001b[0;34m(t)\u001b[0m\n\u001b[1;32m    599\u001b[0m     \u001b[0;31m# Don't turn ragged or sparse tensors to NumPy.\u001b[0m\u001b[0;34m\u001b[0m\u001b[0;34m\u001b[0m\u001b[0;34m\u001b[0m\u001b[0m\n\u001b[1;32m    600\u001b[0m     \u001b[0;32mif\u001b[0m \u001b[0misinstance\u001b[0m\u001b[0;34m(\u001b[0m\u001b[0mt\u001b[0m\u001b[0;34m,\u001b[0m \u001b[0mtf\u001b[0m\u001b[0;34m.\u001b[0m\u001b[0mTensor\u001b[0m\u001b[0;34m)\u001b[0m\u001b[0;34m:\u001b[0m\u001b[0;34m\u001b[0m\u001b[0;34m\u001b[0m\u001b[0m\n\u001b[0;32m--> 601\u001b[0;31m       \u001b[0mt\u001b[0m \u001b[0;34m=\u001b[0m \u001b[0mt\u001b[0m\u001b[0;34m.\u001b[0m\u001b[0mnumpy\u001b[0m\u001b[0;34m(\u001b[0m\u001b[0;34m)\u001b[0m\u001b[0;34m\u001b[0m\u001b[0;34m\u001b[0m\u001b[0m\n\u001b[0m\u001b[1;32m    602\u001b[0m     \u001b[0;31m# Strings, ragged and sparse tensors don't have .item(). Return them as-is.\u001b[0m\u001b[0;34m\u001b[0m\u001b[0;34m\u001b[0m\u001b[0;34m\u001b[0m\u001b[0m\n\u001b[1;32m    603\u001b[0m     \u001b[0;32mif\u001b[0m \u001b[0;32mnot\u001b[0m \u001b[0misinstance\u001b[0m\u001b[0;34m(\u001b[0m\u001b[0mt\u001b[0m\u001b[0;34m,\u001b[0m \u001b[0;34m(\u001b[0m\u001b[0mnp\u001b[0m\u001b[0;34m.\u001b[0m\u001b[0mndarray\u001b[0m\u001b[0;34m,\u001b[0m \u001b[0mnp\u001b[0m\u001b[0;34m.\u001b[0m\u001b[0mgeneric\u001b[0m\u001b[0;34m)\u001b[0m\u001b[0;34m)\u001b[0m\u001b[0;34m:\u001b[0m\u001b[0;34m\u001b[0m\u001b[0;34m\u001b[0m\u001b[0m\n",
      "\u001b[0;32m~/anaconda3/envs/unet/lib/python3.7/site-packages/tensorflow/python/framework/ops.py\u001b[0m in \u001b[0;36mnumpy\u001b[0;34m(self)\u001b[0m\n\u001b[1;32m   1157\u001b[0m     \"\"\"\n\u001b[1;32m   1158\u001b[0m     \u001b[0;31m# TODO(slebedev): Consider avoiding a copy for non-CPU or remote tensors.\u001b[0m\u001b[0;34m\u001b[0m\u001b[0;34m\u001b[0m\u001b[0;34m\u001b[0m\u001b[0m\n\u001b[0;32m-> 1159\u001b[0;31m     \u001b[0mmaybe_arr\u001b[0m \u001b[0;34m=\u001b[0m \u001b[0mself\u001b[0m\u001b[0;34m.\u001b[0m\u001b[0m_numpy\u001b[0m\u001b[0;34m(\u001b[0m\u001b[0;34m)\u001b[0m  \u001b[0;31m# pylint: disable=protected-access\u001b[0m\u001b[0;34m\u001b[0m\u001b[0;34m\u001b[0m\u001b[0m\n\u001b[0m\u001b[1;32m   1160\u001b[0m     \u001b[0;32mreturn\u001b[0m \u001b[0mmaybe_arr\u001b[0m\u001b[0;34m.\u001b[0m\u001b[0mcopy\u001b[0m\u001b[0;34m(\u001b[0m\u001b[0;34m)\u001b[0m \u001b[0;32mif\u001b[0m \u001b[0misinstance\u001b[0m\u001b[0;34m(\u001b[0m\u001b[0mmaybe_arr\u001b[0m\u001b[0;34m,\u001b[0m \u001b[0mnp\u001b[0m\u001b[0;34m.\u001b[0m\u001b[0mndarray\u001b[0m\u001b[0;34m)\u001b[0m \u001b[0;32melse\u001b[0m \u001b[0mmaybe_arr\u001b[0m\u001b[0;34m\u001b[0m\u001b[0;34m\u001b[0m\u001b[0m\n\u001b[1;32m   1161\u001b[0m \u001b[0;34m\u001b[0m\u001b[0m\n",
      "\u001b[0;32m~/anaconda3/envs/unet/lib/python3.7/site-packages/tensorflow/python/framework/ops.py\u001b[0m in \u001b[0;36m_numpy\u001b[0;34m(self)\u001b[0m\n\u001b[1;32m   1123\u001b[0m   \u001b[0;32mdef\u001b[0m \u001b[0m_numpy\u001b[0m\u001b[0;34m(\u001b[0m\u001b[0mself\u001b[0m\u001b[0;34m)\u001b[0m\u001b[0;34m:\u001b[0m\u001b[0;34m\u001b[0m\u001b[0;34m\u001b[0m\u001b[0m\n\u001b[1;32m   1124\u001b[0m     \u001b[0;32mtry\u001b[0m\u001b[0;34m:\u001b[0m\u001b[0;34m\u001b[0m\u001b[0;34m\u001b[0m\u001b[0m\n\u001b[0;32m-> 1125\u001b[0;31m       \u001b[0;32mreturn\u001b[0m \u001b[0mself\u001b[0m\u001b[0;34m.\u001b[0m\u001b[0m_numpy_internal\u001b[0m\u001b[0;34m(\u001b[0m\u001b[0;34m)\u001b[0m\u001b[0;34m\u001b[0m\u001b[0;34m\u001b[0m\u001b[0m\n\u001b[0m\u001b[1;32m   1126\u001b[0m     \u001b[0;32mexcept\u001b[0m \u001b[0mcore\u001b[0m\u001b[0;34m.\u001b[0m\u001b[0m_NotOkStatusException\u001b[0m \u001b[0;32mas\u001b[0m \u001b[0me\u001b[0m\u001b[0;34m:\u001b[0m  \u001b[0;31m# pylint: disable=protected-access\u001b[0m\u001b[0;34m\u001b[0m\u001b[0;34m\u001b[0m\u001b[0m\n\u001b[1;32m   1127\u001b[0m       \u001b[0;32mraise\u001b[0m \u001b[0mcore\u001b[0m\u001b[0;34m.\u001b[0m\u001b[0m_status_to_exception\u001b[0m\u001b[0;34m(\u001b[0m\u001b[0me\u001b[0m\u001b[0;34m)\u001b[0m \u001b[0;32mfrom\u001b[0m \u001b[0;32mNone\u001b[0m  \u001b[0;31m# pylint: disable=protected-access\u001b[0m\u001b[0;34m\u001b[0m\u001b[0;34m\u001b[0m\u001b[0m\n",
      "\u001b[0;31mKeyboardInterrupt\u001b[0m: "
     ]
    }
   ],
   "source": [
    "cartesian_original_folder = 'data/endoscopic/cartesian'\n",
    "polar_original_folder = 'data/endoscopic/polar'\n",
    "batch_size = 5\n",
    "carte_data_gen_args = dict(rotation_range = 80,      # TODO: improve the data augmentation\n",
    "                width_shift_range =0.02,\n",
    "                height_shift_range =0.02,\n",
    "                shear_range = 0.35,\n",
    "                zoom_range = 0.075,\n",
    "                horizontal_flip = True,\n",
    "                fill_mode = 'nearest',\n",
    "                rescale = 1./255)\n",
    "bt_carte_generator = trainGenerator(batch_size, cartesian_original_folder, PARAM_IMG_FOLDER, PARAM_MSK_FOLDER, carte_data_gen_args)\n",
    "big_model_carte = unet(PARAM_BETA1[PARAM_BETA_TEST_NUM], PARAM_BETA2[PARAM_BETA_TEST_NUM])\n",
    "big_model_carte_checkpoint = ModelCheckpoint('./big_model_carte.hdf5',monitor = 'loss', verbose = 1, save_best_only=True)\n",
    "big_model_carte.fit(bt_carte_generator, verbose = 1, steps_per_epoch = STEPS, epochs = EPOCHS, callbacks = [big_model_carte_checkpoint])\n",
    "big_carte_test_gene = testGenerator('./data/endoscopic_test956/cartesian', PARAM_IMG_FOLDER, PARAM_MSK_FOLDER)\n",
    "big_carte_results = big_model_carte.predict_generator(big_carte_test_gene, 956, verbose=1)\n",
    "np.save('./big_carte_prediction.npy', big_carte_results)\n",
    "polar_data_gen_args = dict(rotation_range = 50,      # TODO: improve the data augmentation\n",
    "            width_shift_range =0.2,\n",
    "            height_shift_range =0.2,\n",
    "            shear_range = 0.35,\n",
    "            zoom_range = 0.05,\n",
    "            horizontal_flip = True,\n",
    "            fill_mode = 'nearest',\n",
    "            rescale = 1./255)\n",
    "bt_polar_generator = trainGenerator(batch_size, polar_original_folder, PARAM_IMG_FOLDER, PARAM_MSK_FOLDER, polar_data_gen_args)\n",
    "big_model_polar = unet(PARAM_BETA1[PARAM_BETA_TEST_NUM], PARAM_BETA2[PARAM_BETA_TEST_NUM])\n",
    "big_model_polar_checkpoint = ModelCheckpoint('./big_model_polar.hdf5',monitor = 'loss', verbose = 1, save_best_only=True)\n",
    "big_model_polar.fit(bt_polar_generator, verbose = 1, steps_per_epoch = STEPS, epochs = EPOCHS, callbacks = [big_model_polar_checkpoint])\n",
    "big_polar_test_gene = testGenerator('./data/endoscopic_test956/polar', PARAM_IMG_FOLDER, PARAM_MSK_FOLDER)\n",
    "big_polar_results = big_model_polar.predict_generator(big_polar_test_gene, 956, verbose=1)\n",
    "np.save('./big_polar_prediction.npy', big_polar_results)"
   ]
  },
  {
   "cell_type": "code",
   "execution_count": 15,
   "metadata": {},
   "outputs": [],
   "source": [
    "polar_prediction_file = 'big_polar_prediction.npy'\n",
    "carte_prediction_file = 'big_carte_prediction.npy'\n",
    "polar_prediction = np.load(polar_prediction_file)\n",
    "carte_prediction = np.load(carte_prediction_file)\n",
    "test_label_folder_path = 'data/endoscopic_test956/cartesian/label'\n",
    "count = 0\n",
    "big_polar_dice = []\n",
    "big_carte_dice = []\n",
    "for prediction in [polar_prediction,carte_prediction]:\n",
    "    for i in range(956):\n",
    "        test_file_name = os.path.join(test_label_folder_path, (str(i) + '.tif'))\n",
    "        ground_truth_mask = cv2.imread(test_file_name, cv2.IMREAD_GRAYSCALE)\n",
    "        ground_truth_mask = ground_truth_mask / 255.0\n",
    "        ground_truth_mask = ground_truth_mask.astype(np.uint8)\n",
    "        current_prediction = prediction[i]\n",
    "        current_prediction = np.reshape(current_prediction,(256,256))\n",
    "        threshold = 0.5\n",
    "        current_prediction = (current_prediction > threshold).astype(np.uint8)\n",
    "        if count == 0:\n",
    "            current_prediction = p2c(current_prediction, trans_dic)\n",
    "            big_polar_dice.append(dice_coefficient_carte(ground_truth_mask,current_prediction))\n",
    "        else:\n",
    "            big_carte_dice.append(dice_coefficient_carte(ground_truth_mask,current_prediction))\n",
    "            \n",
    "        \n",
    "    count += 1\n",
    "big_polar_dice = np.asarray(big_polar_dice)\n",
    "big_carte_dice = np.asarray(big_carte_dice)"
   ]
  },
  {
   "cell_type": "code",
   "execution_count": 16,
   "metadata": {},
   "outputs": [
    {
     "data": {
      "text/plain": [
       "<matplotlib.legend.Legend at 0x7f721a0b3d90>"
      ]
     },
     "execution_count": 16,
     "metadata": {},
     "output_type": "execute_result"
    },
    {
     "data": {
      "image/png": "[encoded data removed]",
      "text/plain": [
       "<Figure size 432x288 with 1 Axes>"
      ]
     },
     "metadata": {
      "needs_background": "light"
     },
     "output_type": "display_data"
    }
   ],
   "source": [
    "polar_big_score = big_polar_dice\n",
    "\n",
    "polar_performance_inc = polar_dice - polar_big_score\n",
    "plt.plot(np.sort(polar_dice))\n",
    "plt.plot(np.sort(polar_big_score))\n",
    "plt.plot(np.sort(polar_performance_inc))\n",
    "plt.legend(['new','past','dif'])"
   ]
  },
  {
   "cell_type": "code",
   "execution_count": 15,
   "metadata": {},
   "outputs": [
    {
     "data": {
      "text/plain": [
       "<matplotlib.legend.Legend at 0x7fc78c368fd0>"
      ]
     },
     "execution_count": 15,
     "metadata": {},
     "output_type": "execute_result"
    },
    {
     "data": {
      "image/png": "[encoded data removed]",
      "text/plain": [
       "<Figure size 432x288 with 1 Axes>"
      ]
     },
     "metadata": {
      "needs_background": "light"
     },
     "output_type": "display_data"
    }
   ],
   "source": [
    "carte_big_score = big_carte_dice\n",
    "\n",
    "carte_performance_inc = carte_dice - carte_big_score\n",
    "plt.plot(np.sort(carte_dice))\n",
    "plt.plot(np.sort(carte_big_score))\n",
    "plt.plot(np.sort(carte_performance_inc))\n",
    "plt.legend(['new','past','dif'])"
   ]
  },
  {
   "cell_type": "code",
   "execution_count": null,
   "metadata": {},
   "outputs": [],
   "source": []
  }
 ],
 "metadata": {
  "kernelspec": {
   "display_name": "Python 3 (ipykernel)",
   "language": "python",
   "name": "python3"
  },
  "language_info": {
   "codemirror_mode": {
    "name": "ipython",
    "version": 3
   },
   "file_extension": ".py",
   "mimetype": "text/x-python",
   "name": "python",
   "nbconvert_exporter": "python",
   "pygments_lexer": "ipython3",
   "version": "3.7.9"
  }
 },
 "nbformat": 4,
 "nbformat_minor": 5
}
